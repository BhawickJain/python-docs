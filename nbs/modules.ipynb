{
 "cells": [
  {
   "cell_type": "markdown",
   "id": "74596e3a",
   "metadata": {},
   "source": [
    "## Modules\n",
    "\n",
    "Modules allow you to reuse multiple scripts by importing them where you need them in other scripts.\n",
    "\n",
    "In the simplest form, you can import a `.py` file as a module as so:"
   ]
  },
  {
   "cell_type": "code",
   "execution_count": 1,
   "id": "0c9aac43",
   "metadata": {},
   "outputs": [],
   "source": [
    "import pyExamples.fib as fib"
   ]
  },
  {
   "cell_type": "markdown",
   "id": "4afd0bb5",
   "metadata": {},
   "source": [
    "the name of the file becomes the name space under which all the functions and classes are accessible from the current symbol table."
   ]
  },
  {
   "cell_type": "code",
   "execution_count": 2,
   "id": "e829d2ce",
   "metadata": {},
   "outputs": [
    {
     "name": "stdout",
     "output_type": "stream",
     "text": [
      "0 1 1 2 3 \n"
     ]
    }
   ],
   "source": [
    "fib.fib(5)"
   ]
  },
  {
   "cell_type": "code",
   "execution_count": 3,
   "id": "407ea6ac",
   "metadata": {},
   "outputs": [
    {
     "data": {
      "text/plain": [
       "[0, 1, 1, 2, 3]"
      ]
     },
     "execution_count": 3,
     "metadata": {},
     "output_type": "execute_result"
    }
   ],
   "source": [
    "fib_seq = fib.fib2(5)\n",
    "fib_seq"
   ]
  },
  {
   "cell_type": "markdown",
   "id": "0ea7afd7",
   "metadata": {},
   "source": [
    "The module's name is generally inherited from the file name, but could be access and set within the `fib.py` and in this instance is called `fibo`."
   ]
  },
  {
   "cell_type": "code",
   "execution_count": 4,
   "id": "6d3da95d",
   "metadata": {},
   "outputs": [
    {
     "data": {
      "text/plain": [
       "'fibo'"
      ]
     },
     "execution_count": 4,
     "metadata": {},
     "output_type": "execute_result"
    }
   ],
   "source": [
    "fib.__name__"
   ]
  },
  {
   "cell_type": "markdown",
   "id": "7a99127d",
   "metadata": {},
   "source": [
    "There other ways to import"
   ]
  },
  {
   "cell_type": "markdown",
   "id": "7be3feec",
   "metadata": {},
   "source": [
    "you can import `__all__` which is generally defined as all the attributes. But can also be set manually as found in the `fib.py` file. [[src](https://stackoverflow.com/questions/44834/can-someone-explain-all-in-python)]\n",
    "\n",
    "Notice how only `fib` is directly imported as set in `fib.py`. In addition all definitions that begin with `_` will not be imported."
   ]
  },
  {
   "cell_type": "code",
   "execution_count": 5,
   "id": "35990ad5",
   "metadata": {},
   "outputs": [],
   "source": [
    "from pyExamples.fib import *"
   ]
  },
  {
   "cell_type": "code",
   "execution_count": 6,
   "id": "01ffabdf",
   "metadata": {},
   "outputs": [
    {
     "name": "stdout",
     "output_type": "stream",
     "text": [
      "0 1 1 2 3 \n"
     ]
    }
   ],
   "source": [
    "fib(5)"
   ]
  },
  {
   "cell_type": "markdown",
   "id": "092cf44b",
   "metadata": {},
   "source": [
    "Of course you can also import specific attributes directly, even something that hasn't been defined by `__all__`. So you can assume custom set `__all__` is the author's recommended import setting. Even still you wouldn't have to use `*` beyond experimentation."
   ]
  },
  {
   "cell_type": "code",
   "execution_count": 9,
   "id": "a31a69c1",
   "metadata": {},
   "outputs": [],
   "source": [
    "from pyExamples.fib import fib, fib2"
   ]
  },
  {
   "cell_type": "code",
   "execution_count": 8,
   "id": "84de93f9",
   "metadata": {},
   "outputs": [
    {
     "ename": "NameError",
     "evalue": "name 'fib2' is not defined",
     "output_type": "error",
     "traceback": [
      "\u001b[0;31m---------------------------------------------------------------------------\u001b[0m",
      "\u001b[0;31mNameError\u001b[0m                                 Traceback (most recent call last)",
      "\u001b[0;32m/tmp/ipykernel_243/2980606299.py\u001b[0m in \u001b[0;36m<module>\u001b[0;34m\u001b[0m\n\u001b[0;32m----> 1\u001b[0;31m \u001b[0mfib2\u001b[0m\u001b[0;34m(\u001b[0m\u001b[0;36m6\u001b[0m\u001b[0;34m)\u001b[0m\u001b[0;34m\u001b[0m\u001b[0;34m\u001b[0m\u001b[0m\n\u001b[0m",
      "\u001b[0;31mNameError\u001b[0m: name 'fib2' is not defined"
     ]
    }
   ],
   "source": [
    "fib2(6)"
   ]
  },
  {
   "cell_type": "markdown",
   "id": "e0982a91",
   "metadata": {},
   "source": [
    "You can also rename the attributes you're importing"
   ]
  },
  {
   "cell_type": "code",
   "execution_count": 10,
   "id": "07a0d3a5",
   "metadata": {},
   "outputs": [],
   "source": [
    "from pyExamples.fib import fib as fibonacci"
   ]
  },
  {
   "cell_type": "markdown",
   "id": "ac824165",
   "metadata": {},
   "source": [
    "You can run additional code that only runs when the module is run directly such as this:"
   ]
  },
  {
   "cell_type": "code",
   "execution_count": 12,
   "id": "94d9c988",
   "metadata": {},
   "outputs": [
    {
     "name": "stdout",
     "output_type": "stream",
     "text": [
      "0 1 1 2 3 5 8 13 21 34 \n"
     ]
    }
   ],
   "source": [
    "!python ../pyExamples/pyExamples/fib.py 50"
   ]
  },
  {
   "cell_type": "markdown",
   "id": "01324488",
   "metadata": {},
   "source": [
    "### Module Search Path"
   ]
  },
  {
   "cell_type": "code",
   "execution_count": 1,
   "id": "c0a0d86e-3348-4b24-be5e-5dfc09470b73",
   "metadata": {},
   "outputs": [
    {
     "data": {
      "text/plain": [
       "['/data/nbs',\n",
       " '/usr/local/lib/python310.zip',\n",
       " '/usr/local/lib/python3.10',\n",
       " '/usr/local/lib/python3.10/lib-dynload',\n",
       " '',\n",
       " '/usr/local/lib/python3.10/site-packages',\n",
       " '/data/pyExamples',\n",
       " '/usr/local/lib/python3.10/site-packages/IPython/extensions',\n",
       " '/root/.ipython']"
      ]
     },
     "execution_count": 1,
     "metadata": {},
     "output_type": "execute_result"
    }
   ],
   "source": [
    "import sys\n",
    "sys.path"
   ]
  },
  {
   "cell_type": "markdown",
   "id": "2e16f56e",
   "metadata": {},
   "source": [
    "### \"Compiled\" Python files"
   ]
  },
  {
   "cell_type": "markdown",
   "id": "4b689873",
   "metadata": {},
   "source": [
    "### Standard Modules"
   ]
  },
  {
   "cell_type": "markdown",
   "id": "66d5d998",
   "metadata": {},
   "source": [
    "### The `dir()` Function"
   ]
  },
  {
   "cell_type": "markdown",
   "id": "bf7e23f3",
   "metadata": {},
   "source": [
    "### Packages\n",
    "\n",
    "A package is a series of modules with a `__init.py__` file which allow python to recognise the collection of modules to be part of a Package that is names after the enclosed folder. When you import you run and load the attributes of the `__init__.py` or the file itself into the symbol table with name of the module as its name"
   ]
  },
  {
   "cell_type": "code",
   "execution_count": 2,
   "id": "b6011a6a",
   "metadata": {},
   "outputs": [],
   "source": [
    "import pyExamples.typing.type_annotation as type_annotation"
   ]
  },
  {
   "cell_type": "markdown",
   "id": "4242959e",
   "metadata": {},
   "source": [
    "notice how with each `dot` you it says that it is module, the `__init__.py` allows the folder to behave almost as though it is module as well. You could even further such as:\n",
    "\n",
    "`import pyExamples.typing.some_function as some_function` as they all importable.\n",
    "\n",
    "And much like in a module, you can define the `__all__` variable in the `__init__.py` to select particular modules when recommended imports are suggested."
   ]
  },
  {
   "cell_type": "code",
   "execution_count": 1,
   "id": "08c6e5fb",
   "metadata": {},
   "outputs": [],
   "source": [
    "from pyExamples import *"
   ]
  },
  {
   "cell_type": "markdown",
   "id": "49ad121e",
   "metadata": {},
   "source": [
    "in this example, only `setuppy` and `typing` are imported and `utils` is ignores because:"
   ]
  },
  {
   "cell_type": "code",
   "execution_count": 2,
   "id": "c69dbf0b",
   "metadata": {},
   "outputs": [
    {
     "name": "stdout",
     "output_type": "stream",
     "text": [
      "__all__ = ['setuppy','typing']"
     ]
    }
   ],
   "source": [
    "!cat ../pyExamples/pyExamples/__init__.py\n",
    "# __all__ = ['setuppy','typing']"
   ]
  },
  {
   "cell_type": "markdown",
   "id": "39f962e2-fe25-43ff-b073-b31ece684c76",
   "metadata": {},
   "source": [
    "You can use the `dir()` function to see the new attributes you are importing into the symbol table."
   ]
  },
  {
   "cell_type": "code",
   "execution_count": 3,
   "id": "34dec099-a65c-4460-9c5a-4a926d33a6ab",
   "metadata": {},
   "outputs": [
    {
     "data": {
      "text/plain": [
       "True"
      ]
     },
     "execution_count": 3,
     "metadata": {},
     "output_type": "execute_result"
    }
   ],
   "source": [
    "'setuppy' in dir()\n",
    "#True"
   ]
  },
  {
   "cell_type": "code",
   "execution_count": null,
   "id": "3d5f2489-5ca0-485d-9a2f-05dfae315ea2",
   "metadata": {},
   "outputs": [],
   "source": [
    "'typing' in dir()\n",
    "#False"
   ]
  },
  {
   "cell_type": "code",
   "execution_count": 4,
   "id": "371f896a-c00c-4e40-9890-ea25c8f73584",
   "metadata": {},
   "outputs": [
    {
     "data": {
      "text/plain": [
       "False"
      ]
     },
     "execution_count": 4,
     "metadata": {},
     "output_type": "execute_result"
    }
   ],
   "source": [
    "'utils' in dir()\n",
    "#False"
   ]
  },
  {
   "cell_type": "markdown",
   "id": "1838de83",
   "metadata": {},
   "source": [
    "### Intra-package References"
   ]
  },
  {
   "cell_type": "markdown",
   "id": "6bb590fc",
   "metadata": {},
   "source": [
    "Now that python intepreter understand the directly structure of the package, it can allow references to sibling sub-packages that sit under the main package. This how `test` modules can access the main module it is testing! [src](https://docs.python.org/3/reference/import.html#package-relative-imports)"
   ]
  },
  {
   "cell_type": "markdown",
   "id": "b9821de2-d4b7-44b9-a100-17b811fac5b6",
   "metadata": {},
   "source": [
    "TODO"
   ]
  },
  {
   "cell_type": "markdown",
   "id": "4d6dd640",
   "metadata": {},
   "source": [
    "`[ ]` See if you can get the `test_calc.py` module to be able to access the `calc.py` module"
   ]
  }
 ],
 "metadata": {
  "kernelspec": {
   "display_name": "Python 3 (ipykernel)",
   "language": "python",
   "name": "python3"
  },
  "language_info": {
   "codemirror_mode": {
    "name": "ipython",
    "version": 3
   },
   "file_extension": ".py",
   "mimetype": "text/x-python",
   "name": "python",
   "nbconvert_exporter": "python",
   "pygments_lexer": "ipython3",
   "version": "3.10.0"
  }
 },
 "nbformat": 4,
 "nbformat_minor": 5
}
