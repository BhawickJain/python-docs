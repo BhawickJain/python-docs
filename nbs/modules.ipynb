{
 "cells": [
  {
   "cell_type": "markdown",
   "id": "74596e3a",
   "metadata": {},
   "source": [
    "## Modules\n",
    "\n",
    "Modules allow you to reuse multiple scripts by importing them where you need them in other scripts.\n",
    "\n",
    "In the simplest form, you can import a `.py` file as a module as so:"
   ]
  },
  {
   "cell_type": "code",
   "execution_count": null,
   "id": "0c9aac43",
   "metadata": {},
   "outputs": [],
   "source": [
    "import fib"
   ]
  },
  {
   "cell_type": "markdown",
   "id": "4afd0bb5",
   "metadata": {},
   "source": [
    "the name of the file becomes the name space under which all the functions and classes are accessible from the current symbol table."
   ]
  },
  {
   "cell_type": "code",
   "execution_count": null,
   "id": "e829d2ce",
   "metadata": {},
   "outputs": [],
   "source": [
    "fib.fib(5)"
   ]
  },
  {
   "cell_type": "code",
   "execution_count": null,
   "id": "407ea6ac",
   "metadata": {},
   "outputs": [],
   "source": [
    "fib_seq = fib.fib2(5)\n",
    "fib_seq"
   ]
  },
  {
   "cell_type": "markdown",
   "id": "0ea7afd7",
   "metadata": {},
   "source": [
    "The module's name is generally inherited from the file name, but could be access and set within the `fib.py` and in this instance is called `fibo`."
   ]
  },
  {
   "cell_type": "code",
   "execution_count": null,
   "id": "6d3da95d",
   "metadata": {},
   "outputs": [],
   "source": [
    "fib.__name__"
   ]
  },
  {
   "cell_type": "markdown",
   "id": "7a99127d",
   "metadata": {},
   "source": [
    "There other ways to import"
   ]
  },
  {
   "cell_type": "markdown",
   "id": "7be3feec",
   "metadata": {},
   "source": [
    "you can import `__all__` which is generally defined as all the attributes. But can also be set manually as found in the `fib.py` file. [[src](https://stackoverflow.com/questions/44834/can-someone-explain-all-in-python)]\n",
    "\n",
    "Notice how only `fib` is directly imported as set in `fib.py`. In addition all definitions that begin with `_` will not be imported."
   ]
  },
  {
   "cell_type": "code",
   "execution_count": null,
   "id": "35990ad5",
   "metadata": {},
   "outputs": [],
   "source": [
    "from fib import *"
   ]
  },
  {
   "cell_type": "code",
   "execution_count": null,
   "id": "01ffabdf",
   "metadata": {},
   "outputs": [],
   "source": [
    "fib(5)"
   ]
  },
  {
   "cell_type": "markdown",
   "id": "092cf44b",
   "metadata": {},
   "source": [
    "Of course you can also import specific attributes directly, even something that hasn't been defined by `__all__`. So you can assume custom set `__all__` is the author's recommended import setting. Even still you wouldn't have to use `*` beyond experimentation."
   ]
  },
  {
   "cell_type": "code",
   "execution_count": null,
   "id": "a31a69c1",
   "metadata": {},
   "outputs": [],
   "source": [
    "from fib import fib, fib2"
   ]
  },
  {
   "cell_type": "code",
   "execution_count": null,
   "id": "84de93f9",
   "metadata": {},
   "outputs": [],
   "source": [
    "fib2(6)"
   ]
  },
  {
   "cell_type": "markdown",
   "id": "e0982a91",
   "metadata": {},
   "source": [
    "You can also rename the attributes you're importing"
   ]
  },
  {
   "cell_type": "code",
   "execution_count": null,
   "id": "07a0d3a5",
   "metadata": {},
   "outputs": [],
   "source": [
    "from fib import fib as fibonacci"
   ]
  },
  {
   "cell_type": "markdown",
   "id": "ac824165",
   "metadata": {},
   "source": [
    "You can run additional code that only runs when the module is run directly such as this:"
   ]
  },
  {
   "cell_type": "code",
   "execution_count": null,
   "id": "94d9c988",
   "metadata": {},
   "outputs": [],
   "source": [
    "!python fib.py 50"
   ]
  },
  {
   "cell_type": "markdown",
   "id": "01324488",
   "metadata": {},
   "source": [
    "### Module Search Path"
   ]
  },
  {
   "cell_type": "markdown",
   "id": "2e16f56e",
   "metadata": {},
   "source": [
    "### \"Compiled\" Python files"
   ]
  },
  {
   "cell_type": "markdown",
   "id": "4b689873",
   "metadata": {},
   "source": [
    "### Standard Modules"
   ]
  },
  {
   "cell_type": "markdown",
   "id": "66d5d998",
   "metadata": {},
   "source": [
    "### The `dir()` Function"
   ]
  },
  {
   "cell_type": "markdown",
   "id": "bf7e23f3",
   "metadata": {},
   "source": [
    "### Packages\n",
    "\n",
    "A package is a series of modules with a `__init.py__` file which allow python to recognise the collection of modules to be part of a Package that is names after the enclosed folder."
   ]
  },
  {
   "cell_type": "code",
   "execution_count": null,
   "id": "b6011a6a",
   "metadata": {},
   "outputs": [],
   "source": [
    "import sound.effects.echo as echo"
   ]
  },
  {
   "cell_type": "markdown",
   "id": "4242959e",
   "metadata": {},
   "source": [
    "notice how with each `dot` you it says that it is module, the `__init__.py` allows the folder to behave almost as though it is module as well. You could even further such as:\n",
    "\n",
    "`import sound.effects.echo.some_function as some_function` as they all importable.\n",
    "\n",
    "And much like in a module, you can define the `__all__` variable in the `__init__.py` to select particular modules when recommended imports are suggested."
   ]
  },
  {
   "cell_type": "code",
   "execution_count": null,
   "id": "08c6e5fb",
   "metadata": {},
   "outputs": [],
   "source": [
    "from sound import *"
   ]
  },
  {
   "cell_type": "markdown",
   "id": "49ad121e",
   "metadata": {},
   "source": [
    "in this example, only `effects`, `filters`, `formats` are imported and `utils` is ignores because:"
   ]
  },
  {
   "cell_type": "code",
   "execution_count": null,
   "id": "c69dbf0b",
   "metadata": {},
   "outputs": [],
   "source": [
    "!cat sound/__init__.py\n",
    "#__all__ = ['effects', 'filters', 'formats']"
   ]
  },
  {
   "cell_type": "markdown",
   "id": "1838de83",
   "metadata": {},
   "source": [
    "### Intra-package References"
   ]
  },
  {
   "cell_type": "markdown",
   "id": "6bb590fc",
   "metadata": {},
   "source": [
    "Now that python intepreter understand the directly structure of the package, it can allow references to sibling sub-packages that sit under the main package. This how `test` modules can access the main module it is testing!"
   ]
  },
  {
   "cell_type": "code",
   "execution_count": null,
   "id": "62390edc",
   "metadata": {},
   "outputs": [],
   "source": [
    "from . import echo\n",
    "from ..import formats\n",
    "from ..filters import equalizer"
   ]
  },
  {
   "cell_type": "markdown",
   "id": "4d6dd640",
   "metadata": {},
   "source": [
    "`[ ]` See if you can get the `test_calc.py` module to be able to access the `calc.py` module"
   ]
  }
 ],
 "metadata": {
  "jupytext": {
   "cell_metadata_filter": "-all",
   "formats": "ipynb,md:myst",
   "main_language": "python",
   "notebook_metadata_filter": "-all",
   "text_representation": {
    "extension": ".md",
    "format_name": "markdown"
   }
  },
  "kernelspec": {
   "display_name": "Python 3 (ipykernel)",
   "language": "python",
   "name": "python3"
  },
  "language_info": {
   "codemirror_mode": {
    "name": "ipython",
    "version": 3
   },
   "file_extension": ".py",
   "mimetype": "text/x-python",
   "name": "python",
   "nbconvert_exporter": "python",
   "pygments_lexer": "ipython3",
   "version": "3.9.2"
  }
 },
 "nbformat": 4,
 "nbformat_minor": 5
}
