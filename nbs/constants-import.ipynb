{
 "cells": [
  {
   "cell_type": "markdown",
   "id": "unlike-locator",
   "metadata": {},
   "source": [
    "### Defining and importing constants\n",
    "\n",
    "Inpired by rubys/feedvalidator at [line 55](https://lgtm.com/projects/g/rubys/feedvalidator/snapshot/eb77aa864016e1071f37357746a3ad77de94432a/files/src/rdflib/syntax/parsers/RDFXMLHandler.py?sort=name&dir=ASC&mode=heatmap#L55)\n",
    "\n",
    "You can import another file as a module and use the variables within as constants."
   ]
  },
  {
   "cell_type": "code",
   "execution_count": 4,
   "id": "wrong-seller",
   "metadata": {},
   "outputs": [],
   "source": [
    "from pyExamples.constants import C, PI, K, G"
   ]
  },
  {
   "cell_type": "code",
   "execution_count": 5,
   "id": "brown-cleaning",
   "metadata": {},
   "outputs": [
    {
     "data": {
      "text/plain": [
       "(6.6743015e-11, 299792358)"
      ]
     },
     "execution_count": 5,
     "metadata": {},
     "output_type": "execute_result"
    }
   ],
   "source": [
    "G, C # Gravitational constant, Speed of Light"
   ]
  },
  {
   "cell_type": "markdown",
   "id": "seven-creator",
   "metadata": {},
   "source": [
    "But is it _really_ a constant?"
   ]
  },
  {
   "cell_type": "code",
   "execution_count": 6,
   "id": "secure-assurance",
   "metadata": {},
   "outputs": [],
   "source": [
    "G = 0"
   ]
  },
  {
   "cell_type": "code",
   "execution_count": 7,
   "id": "outside-literature",
   "metadata": {},
   "outputs": [
    {
     "data": {
      "text/plain": [
       "0"
      ]
     },
     "execution_count": 7,
     "metadata": {},
     "output_type": "execute_result"
    }
   ],
   "source": [
    "G"
   ]
  },
  {
   "cell_type": "markdown",
   "id": "otherwise-quebec",
   "metadata": {},
   "source": [
    "In spite of being from another module, you can't make it immutable."
   ]
  },
  {
   "cell_type": "markdown",
   "id": "stainless-christianity",
   "metadata": {},
   "source": [
    "`[?]` How do you make an imported variable immutable?  \n",
    "`[ ]` Maybe create a constants class?"
   ]
  },
  {
   "cell_type": "markdown",
   "id": "duplicate-papua",
   "metadata": {},
   "source": [
    "Lets define Rydberg constant as `RINF`:"
   ]
  },
  {
   "cell_type": "code",
   "execution_count": 8,
   "id": "geological-locator",
   "metadata": {},
   "outputs": [],
   "source": [
    "RINF = 10e6 # painfully rough"
   ]
  },
  {
   "cell_type": "markdown",
   "id": "orange-wallet",
   "metadata": {},
   "source": [
    "Lets import the constant which holds a more accurate number."
   ]
  },
  {
   "cell_type": "code",
   "execution_count": 9,
   "id": "meaning-church",
   "metadata": {},
   "outputs": [],
   "source": [
    "from pyExamples.constants import RINF"
   ]
  },
  {
   "cell_type": "markdown",
   "id": "interim-realtor",
   "metadata": {},
   "source": [
    "RINF already exists but is overwritten. In the past I have seen error being thrown because of this. It doesn't seem to happen all the time but its worth remembering the potential clash."
   ]
  },
  {
   "cell_type": "code",
   "execution_count": 10,
   "id": "fitting-training",
   "metadata": {},
   "outputs": [
    {
     "data": {
      "text/plain": [
       "10973731.56816021"
      ]
     },
     "execution_count": 10,
     "metadata": {},
     "output_type": "execute_result"
    }
   ],
   "source": [
    "RINF"
   ]
  },
  {
   "cell_type": "markdown",
   "id": "fossil-guinea",
   "metadata": {},
   "source": [
    "Generally, you don't want to use `import`, especially `import *` as you are flooding your namespace with the `module`'s namespace. Thereby inadvertently overwriting and clashing stuff. So you want to do this:"
   ]
  },
  {
   "cell_type": "code",
   "execution_count": 11,
   "id": "liked-wells",
   "metadata": {},
   "outputs": [
    {
     "data": {
      "text/plain": [
       "10973731.56816021"
      ]
     },
     "execution_count": 11,
     "metadata": {},
     "output_type": "execute_result"
    }
   ],
   "source": [
    "import pyExamples.constants as constants\n",
    "constants.RINF"
   ]
  },
  {
   "cell_type": "markdown",
   "id": "associate-crest",
   "metadata": {},
   "source": [
    "Another subtlety is that if you change `RINF` you don't change `constants.RINF`. So you can reimport the `constants` module and recover the number (without restarting the nb kernel). However if you change `constants.RINF` you change the module's variable value instead, no importing will work [[so-import-variables](https://stackoverflow.com/questions/17255737/importing-variables-from-another-file)]."
   ]
  },
  {
   "cell_type": "code",
   "execution_count": 12,
   "id": "respiratory-evans",
   "metadata": {},
   "outputs": [
    {
     "data": {
      "text/plain": [
       "0"
      ]
     },
     "execution_count": 12,
     "metadata": {},
     "output_type": "execute_result"
    }
   ],
   "source": [
    "constants.RINF = 0\n",
    "constants.RINF"
   ]
  },
  {
   "cell_type": "code",
   "execution_count": 13,
   "id": "experimental-houston",
   "metadata": {},
   "outputs": [
    {
     "data": {
      "text/plain": [
       "10973731.56816021"
      ]
     },
     "execution_count": 13,
     "metadata": {},
     "output_type": "execute_result"
    }
   ],
   "source": [
    "RINF"
   ]
  },
  {
   "cell_type": "markdown",
   "id": "encouraging-telling",
   "metadata": {},
   "source": [
    "`[?]` Is there a way to force the rereading of the file?  \n",
    "`>>>` Maybe but you don't want to allow the change in the first place. You need to modify how the `constant` module's attributes are modified."
   ]
  },
  {
   "cell_type": "markdown",
   "id": "mediterranean-emphasis",
   "metadata": {},
   "source": [
    "### Class Attributes based - Constants"
   ]
  },
  {
   "cell_type": "markdown",
   "id": "married-missouri",
   "metadata": {},
   "source": [
    "You can see that a constant can be overwritten even when coming from another module like `constant.RINF = 0`. This is because the `property()` function is still defined and leaves the object subject being changed. The `property` function manages the getting, setting, deleting of properties in the `__dict__` of the object. You can read more about it in [[py-docs-prop](https://docs.python.org/3/library/functions.html#property)]."
   ]
  },
  {
   "cell_type": "code",
   "execution_count": 14,
   "id": "arranged-bachelor",
   "metadata": {},
   "outputs": [
    {
     "data": {
      "text/plain": [
       "0"
      ]
     },
     "execution_count": 14,
     "metadata": {},
     "output_type": "execute_result"
    }
   ],
   "source": [
    "from pyExamples.constants import RINF\n",
    "RINF"
   ]
  },
  {
   "cell_type": "markdown",
   "id": "bearing-module",
   "metadata": {},
   "source": [
    "In `.src/const.py` there is a `const` class that holds all the attributes and manages then with its own get, set and delete attributes methods."
   ]
  },
  {
   "cell_type": "code",
   "execution_count": 15,
   "id": "secure-revelation",
   "metadata": {},
   "outputs": [],
   "source": [
    "import pyExamples.const as const"
   ]
  },
  {
   "cell_type": "markdown",
   "id": "thermal-karaoke",
   "metadata": {},
   "source": [
    "Here the `__setattr__` built-in function is involved thanks to the assignment operator used against the `const.RINF`. The functions overwrites the default `__setattr__` behaviour with its own by checking if attribute name exists in the `const` class symbol table (`const.__dict__`). If it does it throwns a custom `ConstError` otherwise goes ahead and assigns the name, value pair in the `const` class `__dict__`.\n",
    "\n",
    "[[py-docs-abc](https://docs.python.org/3/tutorial/errors.html#raising-exceptions)] Abstract base classes"
   ]
  },
  {
   "cell_type": "code",
   "execution_count": 16,
   "id": "hearing-genesis",
   "metadata": {},
   "outputs": [],
   "source": [
    "const.RINF = RINF"
   ]
  },
  {
   "cell_type": "code",
   "execution_count": 17,
   "id": "cleared-penetration",
   "metadata": {},
   "outputs": [
    {
     "data": {
      "text/plain": [
       "0"
      ]
     },
     "execution_count": 17,
     "metadata": {},
     "output_type": "execute_result"
    }
   ],
   "source": [
    "const.RINF"
   ]
  },
  {
   "cell_type": "markdown",
   "id": "happy-immigration",
   "metadata": {},
   "source": [
    "If you reassign, the `__setattr__` is invoked again but this time, `RINF` already exists in the `const` class symbol table. Thereby throwing an error."
   ]
  },
  {
   "cell_type": "code",
   "execution_count": 18,
   "id": "nonprofit-coaching",
   "metadata": {},
   "outputs": [],
   "source": [
    "# const.RINF = 80\n",
    "# _ConstError"
   ]
  },
  {
   "cell_type": "markdown",
   "id": "labeled-russian",
   "metadata": {},
   "source": [
    "`line 23-24` in `src.const.py`overwrite the `syst.module.const` with the hidden `_const` class. This means any attributes added to `const` are instances of the `_const` instead of the `const.py` module. It means you can then enforce the `__setattr` functions against those attributes. Since the class and the constant error `_ConstError` class is hidden, only the constants are available to see.\n",
    "\n",
    "Read more about `sys.modules` [[py-docs-sysmod](https://docs.python.org/3/library/sys.html#sys.modules)]"
   ]
  },
  {
   "cell_type": "code",
   "execution_count": 19,
   "id": "professional-chain",
   "metadata": {},
   "outputs": [
    {
     "data": {
      "text/plain": [
       "pyExamples.const._const"
      ]
     },
     "execution_count": 19,
     "metadata": {},
     "output_type": "execute_result"
    }
   ],
   "source": [
    "type(const)"
   ]
  },
  {
   "cell_type": "code",
   "execution_count": 20,
   "id": "canadian-picking",
   "metadata": {},
   "outputs": [
    {
     "data": {
      "text/plain": [
       "{'RINF': 0}"
      ]
     },
     "execution_count": 20,
     "metadata": {},
     "output_type": "execute_result"
    }
   ],
   "source": [
    "const.__dict__"
   ]
  },
  {
   "cell_type": "markdown",
   "id": "empirical-victor",
   "metadata": {},
   "source": [
    "`[ ]` Disable `line 23-24` in `const.py`, restart the kernel and rerun the cells above. What is the difference and why? How come `const.RINF` is mutable?"
   ]
  },
  {
   "cell_type": "markdown",
   "id": "terminal-honor",
   "metadata": {},
   "source": [
    "### Class function based - Constants"
   ]
  },
  {
   "cell_type": "markdown",
   "id": "daily-belgium",
   "metadata": {},
   "source": [
    "[[py-docs-typefinal](https://docs.python.org/3/library/typing.html#typing.Final)] `typing.Final`  \n",
    "[[so-creating-const](https://stackoverflow.com/questions/2682745/how-do-i-create-a-constant-in-python?noredirect=1&lq=1) `Stackoverflow - Creating Constants`]"
   ]
  },
  {
   "cell_type": "markdown",
   "id": "inappropriate-sacramento",
   "metadata": {},
   "source": [
    "### Using `typing.final`\n",
    "\n",
    "This is relatively new feature which was introduced in Python 3.8 [[pep-591](https://www.python.org/dev/peps/pep-0591/)]."
   ]
  },
  {
   "cell_type": "code",
   "execution_count": 21,
   "id": "asian-hungarian",
   "metadata": {},
   "outputs": [],
   "source": [
    "from typing import final"
   ]
  },
  {
   "cell_type": "code",
   "execution_count": 22,
   "id": "coral-merchandise",
   "metadata": {},
   "outputs": [],
   "source": [
    "JO: final = RINF"
   ]
  },
  {
   "cell_type": "code",
   "execution_count": 23,
   "id": "regulated-penguin",
   "metadata": {},
   "outputs": [
    {
     "data": {
      "text/plain": [
       "0"
      ]
     },
     "execution_count": 23,
     "metadata": {},
     "output_type": "execute_result"
    }
   ],
   "source": [
    "JO"
   ]
  },
  {
   "cell_type": "markdown",
   "id": "flying-adrian",
   "metadata": {},
   "source": [
    "Tthe `typing.Final` does not inhibit mutability but instead get warned using static type checkers like [[`mypy`](http://mypy-lang.org/examples.html)]."
   ]
  },
  {
   "cell_type": "code",
   "execution_count": 24,
   "id": "adolescent-religion",
   "metadata": {},
   "outputs": [],
   "source": [
    "JO = 1"
   ]
  },
  {
   "cell_type": "code",
   "execution_count": 25,
   "id": "sixth-hamilton",
   "metadata": {},
   "outputs": [
    {
     "data": {
      "text/plain": [
       "1"
      ]
     },
     "execution_count": 25,
     "metadata": {},
     "output_type": "execute_result"
    }
   ],
   "source": [
    "JO"
   ]
  },
  {
   "cell_type": "markdown",
   "id": "central-banking",
   "metadata": {},
   "source": [
    "`[?]` Is defining constants a step away from idiomatic python coding style?"
   ]
  },
  {
   "cell_type": "markdown",
   "id": "appreciated-motel",
   "metadata": {},
   "source": [
    "### Using @property decorator\n",
    "\n",
    "[[ffc-propdeco](https://www.freecodecamp.org/news/python-property-decorator/)] The @property Decorator in Python: It Use Cases, Advantages, and Syntax  \n",
    "[[zhou-decolev](https://medium.com/techtofreedom/7-levels-of-using-decorators-in-python-370473fcbe76)] 7 Levels of Using Decorators  \n",
    "[[so-creating-const](https://stackoverflow.com/questions/2682745/how-do-i-create-a-constant-in-python?noredirect=1&lq=1)] Stackoverflow - Creating Constants\n"
   ]
  },
  {
   "cell_type": "code",
   "execution_count": 26,
   "id": "certain-wilderness",
   "metadata": {},
   "outputs": [
    {
     "name": "stdout",
     "output_type": "stream",
     "text": [
      "Help on class property in module builtins:\n",
      "\n",
      "class property(object)\n",
      " |  property(fget=None, fset=None, fdel=None, doc=None)\n",
      " |  \n",
      " |  Property attribute.\n",
      " |  \n",
      " |    fget\n",
      " |      function to be used for getting an attribute value\n",
      " |    fset\n",
      " |      function to be used for setting an attribute value\n",
      " |    fdel\n",
      " |      function to be used for del'ing an attribute\n",
      " |    doc\n",
      " |      docstring\n",
      " |  \n",
      " |  Typical use is to define a managed attribute x:\n",
      " |  \n",
      " |  class C(object):\n",
      " |      def getx(self): return self._x\n",
      " |      def setx(self, value): self._x = value\n",
      " |      def delx(self): del self._x\n",
      " |      x = property(getx, setx, delx, \"I'm the 'x' property.\")\n",
      " |  \n",
      " |  Decorators make defining new properties or modifying existing ones easy:\n",
      " |  \n",
      " |  class C(object):\n",
      " |      @property\n",
      " |      def x(self):\n",
      " |          \"I am the 'x' property.\"\n",
      " |          return self._x\n",
      " |      @x.setter\n",
      " |      def x(self, value):\n",
      " |          self._x = value\n",
      " |      @x.deleter\n",
      " |      def x(self):\n",
      " |          del self._x\n",
      " |  \n",
      " |  Methods defined here:\n",
      " |  \n",
      " |  __delete__(self, instance, /)\n",
      " |      Delete an attribute of instance.\n",
      " |  \n",
      " |  __get__(self, instance, owner, /)\n",
      " |      Return an attribute of instance, which is of type owner.\n",
      " |  \n",
      " |  __getattribute__(self, name, /)\n",
      " |      Return getattr(self, name).\n",
      " |  \n",
      " |  __init__(self, /, *args, **kwargs)\n",
      " |      Initialize self.  See help(type(self)) for accurate signature.\n",
      " |  \n",
      " |  __set__(self, instance, value, /)\n",
      " |      Set an attribute of instance to value.\n",
      " |  \n",
      " |  __set_name__(...)\n",
      " |      Method to set name of a property.\n",
      " |  \n",
      " |  deleter(...)\n",
      " |      Descriptor to change the deleter on a property.\n",
      " |  \n",
      " |  getter(...)\n",
      " |      Descriptor to change the getter on a property.\n",
      " |  \n",
      " |  setter(...)\n",
      " |      Descriptor to change the setter on a property.\n",
      " |  \n",
      " |  ----------------------------------------------------------------------\n",
      " |  Static methods defined here:\n",
      " |  \n",
      " |  __new__(*args, **kwargs) from builtins.type\n",
      " |      Create and return a new object.  See help(type) for accurate signature.\n",
      " |  \n",
      " |  ----------------------------------------------------------------------\n",
      " |  Data descriptors defined here:\n",
      " |  \n",
      " |  __isabstractmethod__\n",
      " |  \n",
      " |  fdel\n",
      " |  \n",
      " |  fget\n",
      " |  \n",
      " |  fset\n",
      "\n"
     ]
    }
   ],
   "source": [
    "help(property)"
   ]
  },
  {
   "cell_type": "markdown",
   "id": "advance-effects",
   "metadata": {},
   "source": [
    "`[?]` Can the `@property` decorator be used outside a class definition?"
   ]
  },
  {
   "cell_type": "code",
   "execution_count": 27,
   "id": "cubic-prototype",
   "metadata": {},
   "outputs": [],
   "source": [
    "import pyExamples.propconst as constp"
   ]
  },
  {
   "cell_type": "code",
   "execution_count": 28,
   "id": "spanish-agency",
   "metadata": {},
   "outputs": [
    {
     "data": {
      "text/plain": [
       "3.14"
      ]
     },
     "execution_count": 28,
     "metadata": {},
     "output_type": "execute_result"
    }
   ],
   "source": [
    "constp.PI"
   ]
  },
  {
   "cell_type": "code",
   "execution_count": 29,
   "id": "julian-positive",
   "metadata": {},
   "outputs": [],
   "source": [
    "# constp.PI = 60 # Attribute Error"
   ]
  },
  {
   "cell_type": "markdown",
   "id": "weird-nothing",
   "metadata": {},
   "source": [
    "The `constp` allows you to define all your constants as functions in one place. It uses the more pythonic `@` decorator which gives a very concise expression. Unlike `const` you can't define a new constant on the fly as you are not altering the `fget` and `fset` functions of how the class attributes are managed. This means you can create a new attribute against the class which isn't a constant."
   ]
  },
  {
   "cell_type": "code",
   "execution_count": 30,
   "id": "featured-retro",
   "metadata": {},
   "outputs": [],
   "source": [
    "constp.ETA = 70"
   ]
  },
  {
   "cell_type": "markdown",
   "id": "present-rocket",
   "metadata": {},
   "source": [
    "One could disallow that by defining a `__setattr__` as raising an error. Uncomment the `__setattr__` definition in the `propconst.py` file, reimport and rerun the statement above. But _feels_ this is less elegant."
   ]
  }
 ],
 "metadata": {
  "jupytext": {
   "formats": "ipynb,md"
  },
  "kernelspec": {
   "display_name": "Python 3 (ipykernel)",
   "language": "python",
   "name": "python3"
  },
  "language_info": {
   "codemirror_mode": {
    "name": "ipython",
    "version": 3
   },
   "file_extension": ".py",
   "mimetype": "text/x-python",
   "name": "python",
   "nbconvert_exporter": "python",
   "pygments_lexer": "ipython3",
   "version": "3.10.0"
  }
 },
 "nbformat": 4,
 "nbformat_minor": 5
}
