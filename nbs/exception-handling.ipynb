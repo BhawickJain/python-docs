{
 "cells": [
  {
   "cell_type": "markdown",
   "id": "7996703f",
   "metadata": {},
   "source": [
    "## Exception Handling\n",
    "\n"
   ]
  },
  {
   "cell_type": "markdown",
   "id": "488a35aa",
   "metadata": {},
   "source": [
    "#### Types of Errors"
   ]
  },
  {
   "cell_type": "code",
   "execution_count": null,
   "id": "9c65d1c3",
   "metadata": {},
   "outputs": [],
   "source": [
    "while True print('Hello')"
   ]
  },
  {
   "cell_type": "markdown",
   "id": "339a4e61",
   "metadata": {},
   "source": [
    "```python\n",
    "File \"/tmp/ipykernel_32/979740009.py\", line 1\n",
    "    while True print('Hello')\n",
    "               ^\n",
    "SyntaxError: invalid syntax\n",
    "```"
   ]
  },
  {
   "cell_type": "code",
   "execution_count": null,
   "id": "6e418e09",
   "metadata": {},
   "outputs": [],
   "source": [
    "10 * (1/0)"
   ]
  },
  {
   "cell_type": "markdown",
   "id": "6166dba5",
   "metadata": {},
   "source": [
    "```python\n",
    "---------------------------------------------------------------------------\n",
    "ZeroDivisionError                         Traceback (most recent call last)\n",
    "/tmp/ipykernel_46/734848216.py in <module>\n",
    "----> 1 10 * (1/0)\n",
    "\n",
    "ZeroDivisionError: division by zero\n",
    "```"
   ]
  },
  {
   "cell_type": "code",
   "execution_count": null,
   "id": "356ff29b",
   "metadata": {},
   "outputs": [],
   "source": [
    "4 + spam*3"
   ]
  },
  {
   "cell_type": "markdown",
   "id": "be36007b",
   "metadata": {},
   "source": [
    "```python\n",
    "---------------------------------------------------------------------------\n",
    "NameError                                 Traceback (most recent call last)\n",
    "/tmp/ipykernel_46/2481180859.py in <module>\n",
    "----> 1 4 + spam*3\n",
    "\n",
    "NameError: name 'spam' is not defined\n",
    "```"
   ]
  },
  {
   "cell_type": "code",
   "execution_count": null,
   "id": "2faaff92",
   "metadata": {},
   "outputs": [],
   "source": [
    "'2' + 2"
   ]
  },
  {
   "cell_type": "markdown",
   "id": "2849401f",
   "metadata": {},
   "source": [
    "```python\n",
    "---------------------------------------------------------------------------\n",
    "TypeError                                 Traceback (most recent call last)\n",
    "/tmp/ipykernel_46/209420021.py in <module>\n",
    "----> 1 '2' + 2\n",
    "\n",
    "TypeError: can only concatenate str (not \"int\") to str\n",
    "```"
   ]
  },
  {
   "cell_type": "markdown",
   "id": "5dcbbbfc",
   "metadata": {},
   "source": [
    "There is a list of [Built-in Exceptions](https://docs.python.org/3/library/exceptions.html#bltin-exceptions) available in the python docs [2]."
   ]
  },
  {
   "cell_type": "markdown",
   "id": "f4a24674",
   "metadata": {},
   "source": [
    "#### Handling Exceptions"
   ]
  },
  {
   "cell_type": "code",
   "execution_count": null,
   "id": "8c657bac",
   "metadata": {},
   "outputs": [],
   "source": [
    "go = True\n",
    "while go:\n",
    "    try:\n",
    "        x = int(input(\"Please enter a number: \"))\n",
    "        go = False\n",
    "    except ValueError: \n",
    "        print(\"Oops! Tat was no valid number. Try again...\")"
   ]
  },
  {
   "cell_type": "markdown",
   "id": "c3573d80",
   "metadata": {},
   "source": [
    "The code above implies that only `ValueErrors` are handled whilst the rest are allowed to bubble up. Which effectively implies another except statement as follows:\n",
    "```python\n",
    "... except (RuntimeError, TypeError, NameError):\n",
    "...     pass\n",
    "```"
   ]
  },
  {
   "cell_type": "markdown",
   "id": "3f3aa2ff",
   "metadata": {},
   "source": [
    "You can also create your own exception classes:"
   ]
  },
  {
   "cell_type": "code",
   "execution_count": null,
   "id": "3dde99ee",
   "metadata": {},
   "outputs": [],
   "source": [
    "# Base Class Example 1\n",
    "class B(Exception):\n",
    "    pass\n",
    "\n",
    "class C(B):\n",
    "    pass\n",
    "\n",
    "class D(C):\n",
    "    pass\n",
    "\n",
    "for cls in [B, C, D]:\n",
    "    try:\n",
    "        raise cls()\n",
    "    except D:\n",
    "        print('D')\n",
    "    except C:\n",
    "        print('C')\n",
    "    except B:\n",
    "        print('B')"
   ]
  },
  {
   "cell_type": "code",
   "execution_count": null,
   "id": "d21d6ec3",
   "metadata": {},
   "outputs": [],
   "source": [
    "# Base Class Example 2\n",
    "class B(Exception):\n",
    "    pass\n",
    "\n",
    "class C(B):\n",
    "    pass\n",
    "\n",
    "class D(C):\n",
    "    pass\n",
    "\n",
    "for cls in [B, C, D]:\n",
    "    try:\n",
    "        raise cls()\n",
    "    except B:\n",
    "        print('B')\n",
    "    except D:\n",
    "        print('D')\n",
    "    except C:\n",
    "        print('C')"
   ]
  },
  {
   "cell_type": "markdown",
   "id": "ac4d1599",
   "metadata": {},
   "source": [
    "**What is going on?**\n",
    "\n",
    "When an exception is thrown, python goes the first path that matches the class instance type. In the examples above, `class C` and `class D` are derived classses of `class B`, which is consequently referred to as the base class. In `example 1`, wen a `class C` hexception is raised, `except D` and `except C`, but not `except B` is checked. Python checks `except D` sees that `C` class does match, i.e. is same or that is a base class, so it moves on. It then gets to `except C` which is the same class and so follows that path.\n",
    "\n",
    "In `example 2`, `class C` would go down the first `except B` path as `class B` is the a base class to `class C`, eventhough a better match is present further down. \n",
    "\n",
    "This means you need to be very mindful of the order and base-derived class relationships present in your custom exceptions."
   ]
  },
  {
   "cell_type": "code",
   "execution_count": null,
   "id": "bc22cde1",
   "metadata": {},
   "outputs": [],
   "source": [
    "import sys\n",
    "\n",
    "try: \n",
    "    f = open('myfile.txt')\n",
    "    s = f.readline()\n",
    "    i = int(s.strip())\n",
    "# except FileNotFoundError as err:\n",
    "#     print(f\"File not found: {err}\")\n",
    "except OSError as err:\n",
    "    print(\"OS Error: {0}\".format(err))\n",
    "except ValueError:\n",
    "    print(\"Could not convert data to an integer.\")\n",
    "except:\n",
    "    print(\"Unexpcted error:\", system.exc_info()[0])\n",
    "    raise"
   ]
  },
  {
   "cell_type": "markdown",
   "id": "63d1219e",
   "metadata": {},
   "source": [
    "Interesting that `FileNotFoundError` must be a derived class of `OSError`.\n",
    "\n",
    "`[?]` Is the `FileNotFoundError` a derived class of the more generic `OSError`?  \n",
    "`[?]` Is it better to use the more generic `OSError` in the code example below?"
   ]
  },
  {
   "cell_type": "markdown",
   "id": "28936d7c",
   "metadata": {},
   "source": [
    "```python\n",
    "OS Error: [Errno 2] No such file or directory: 'myfile.txt'\n",
    "```"
   ]
  },
  {
   "cell_type": "code",
   "execution_count": null,
   "id": "56df6111",
   "metadata": {},
   "outputs": [],
   "source": [
    "for arg in sys.argv[1:]:\n",
    "    try:\n",
    "        f = open(arg, 'r')\n",
    "    except OSError:\n",
    "        print('cannot open', arg)\n",
    "    else: \n",
    "        # runs statements when none of except scenarios match, important to have.\n",
    "        print(arg, 'has', len(f.readlines()), 'lines')\n",
    "        f.close()"
   ]
  },
  {
   "cell_type": "markdown",
   "id": "c4335874",
   "metadata": {},
   "source": [
    "```python\n",
    "cannot open -f\n",
    "/root/.local/share/jupyter/runtime/kernel-c6d7de2f-4fdb-4a53-a4dc-fc4df05f9646.json has 12 lines\n",
    "```"
   ]
  },
  {
   "cell_type": "code",
   "execution_count": null,
   "id": "a31a7bad",
   "metadata": {},
   "outputs": [],
   "source": [
    "try: \n",
    "    raise Exception('spam', 'eggs')\n",
    "except Exception as inst:\n",
    "    print(type(inst))\n",
    "    print(inst.args)\n",
    "    print(inst)\n",
    "    \n",
    "    x, y = inst.args\n",
    "    print('x =', x)\n",
    "    print('y =', y)"
   ]
  },
  {
   "cell_type": "markdown",
   "id": "4bdee6cd",
   "metadata": {},
   "source": [
    "```python\n",
    "<class 'Exception'>\n",
    "('spam', 'eggs')\n",
    "('spam', 'eggs')\n",
    "x = spam\n",
    "y = eggs\n",
    "```"
   ]
  },
  {
   "cell_type": "code",
   "execution_count": null,
   "id": "d30f6e10",
   "metadata": {},
   "outputs": [],
   "source": [
    "def this_fails():\n",
    "    x = 1/0\n",
    "\n",
    "try:\n",
    "    this_fails()\n",
    "except ZeroDivisionError as err:\n",
    "    print('Handling runt-time error;', err)\n"
   ]
  },
  {
   "cell_type": "markdown",
   "id": "84a9b031",
   "metadata": {},
   "source": [
    "```python\n",
    "Handling runt-time error; division by zero\n",
    "```"
   ]
  },
  {
   "cell_type": "markdown",
   "id": "e9e6a2ae",
   "metadata": {},
   "source": [
    "### Raising Exceptions"
   ]
  },
  {
   "cell_type": "code",
   "execution_count": null,
   "id": "7060b9f1",
   "metadata": {},
   "outputs": [],
   "source": [
    "raise NameError('HiThere')"
   ]
  },
  {
   "cell_type": "markdown",
   "id": "e8509ad5",
   "metadata": {},
   "source": [
    "```python\n",
    "---------------------------------------------------------------------------\n",
    "NameError                                 Traceback (most recent call last)\n",
    "/tmp/ipykernel_70/2916444848.py in <module>\n",
    "----> 1 raise NameError('HiThere')\n",
    "\n",
    "NameError: HiThere\n",
    "```"
   ]
  },
  {
   "cell_type": "code",
   "execution_count": null,
   "id": "8d48b833",
   "metadata": {},
   "outputs": [],
   "source": [
    "raise ValueError"
   ]
  },
  {
   "cell_type": "markdown",
   "id": "8c5636f3",
   "metadata": {},
   "source": [
    "```python\n",
    "---------------------------------------------------------------------------\n",
    "ValueError                                Traceback (most recent call last)\n",
    "/tmp/ipykernel_70/4096975414.py in <module>\n",
    "----> 1 raise ValueError\n",
    "\n",
    "ValueError: \n",
    "```"
   ]
  },
  {
   "cell_type": "code",
   "execution_count": null,
   "id": "d580ceec",
   "metadata": {},
   "outputs": [],
   "source": [
    "try:\n",
    "    raise NameError('HiThere')\n",
    "except NameError:\n",
    "    print('An exception flew by!')\n",
    "    raise  # rethrows the exception into oblivion!"
   ]
  },
  {
   "cell_type": "markdown",
   "id": "db10f365",
   "metadata": {},
   "source": [
    "```python\n",
    "An exception flew by!\n",
    "---------------------------------------------------------------------------\n",
    "NameError                                 Traceback (most recent call last)\n",
    "/tmp/ipykernel_70/1719713102.py in <module>\n",
    "      1 try:\n",
    "----> 2     raise NameError('HiThere')\n",
    "      3 except NameError:\n",
    "      4     print('An exception flew by!')\n",
    "      5     raise  # rethrows the exception into oblivion!\n",
    "\n",
    "NameError: HiThere\n",
    "```"
   ]
  },
  {
   "cell_type": "code",
   "execution_count": null,
   "id": "b0979b5f",
   "metadata": {},
   "outputs": [],
   "source": [
    "def func():\n",
    "    raise IOError\n",
    "    \n",
    "try: \n",
    "    func()\n",
    "except IOError as exc:\n",
    "    raise RuntimeError('Faised to open database') from exc"
   ]
  },
  {
   "cell_type": "markdown",
   "id": "2724bfee",
   "metadata": {},
   "source": [
    "```python\n",
    "---------------------------------------------------------------------------\n",
    "OSError                                   Traceback (most recent call last)\n",
    "/tmp/ipykernel_70/1798935421.py in <module>\n",
    "      4 try:\n",
    "----> 5     func()\n",
    "      6 except IOError as exc:\n",
    "\n",
    "/tmp/ipykernel_70/1798935421.py in func()\n",
    "      1 def func():\n",
    "----> 2     raise IOError\n",
    "      3 \n",
    "\n",
    "OSError: \n",
    "\n",
    "The above exception was the direct cause of the following exception:\n",
    "\n",
    "RuntimeError                              Traceback (most recent call last)\n",
    "/tmp/ipykernel_70/1798935421.py in <module>\n",
    "      5     func()\n",
    "      6 except IOError as exc:\n",
    "----> 7     raise RuntimeError('Falsed to open database') from exc\n",
    "\n",
    "RuntimeError: Falsed to open database\n",
    "```"
   ]
  },
  {
   "cell_type": "markdown",
   "id": "9de8c537",
   "metadata": {},
   "source": [
    "note that the `from exc` is a default feature, that is if an exception is thrown whilst an exception is being handled, the initial exception is preserved:"
   ]
  },
  {
   "cell_type": "code",
   "execution_count": null,
   "id": "17675d6c",
   "metadata": {},
   "outputs": [],
   "source": [
    "def func():\n",
    "    raise IOError\n",
    "    \n",
    "try:\n",
    "    func()\n",
    "except IOError as exc:\n",
    "    raise RuntimeError('Failed to open database')"
   ]
  },
  {
   "cell_type": "markdown",
   "id": "fe43e605",
   "metadata": {},
   "source": [
    "```python\n",
    "---------------------------------------------------------------------------\n",
    "OSError                                   Traceback (most recent call last)\n",
    "/tmp/ipykernel_70/551355716.py in <module>\n",
    "      4 try:\n",
    "----> 5     func()\n",
    "      6 except IOError as exc:\n",
    "\n",
    "/tmp/ipykernel_70/551355716.py in func()\n",
    "      1 def func():\n",
    "----> 2     raise IOError\n",
    "      3 \n",
    "\n",
    "OSError: \n",
    "\n",
    "During handling of the above exception, another exception occurred:\n",
    "\n",
    "RuntimeError                              Traceback (most recent call last)\n",
    "/tmp/ipykernel_70/551355716.py in <module>\n",
    "      5     func()\n",
    "      6 except IOError as exc:\n",
    "----> 7     raise RuntimeError('Failed to open database')\n",
    "\n",
    "RuntimeError: Failed to open database\n",
    "```"
   ]
  },
  {
   "cell_type": "code",
   "execution_count": null,
   "id": "28da8d05",
   "metadata": {},
   "outputs": [],
   "source": [
    "try:\n",
    "except OSError:\n",
    "    raise RuntimeError from None # OSError was not preserved"
   ]
  },
  {
   "cell_type": "markdown",
   "id": "0b523270",
   "metadata": {},
   "source": [
    "```python\n",
    "---------------------------------------------------------------------------\n",
    "RuntimeError                              Traceback (most recent call last)\n",
    "/tmp/ipykernel_70/669350098.py in <module>\n",
    "      2     open('database.sqlite')\n",
    "      3 except OSError:\n",
    "----> 4     raise RuntimeError m\n",
    "RuntimeError: \n",
    "```"
   ]
  },
  {
   "cell_type": "markdown",
   "id": "d62aed06",
   "metadata": {},
   "source": [
    "### User-defined Exceptions"
   ]
  },
  {
   "cell_type": "code",
   "execution_count": null,
   "id": "6a6da957",
   "metadata": {},
   "outputs": [],
   "source": [
    "class Error(Exception):\n",
    "    \"\"\"Base class for exceptions in this module.\"\"\"\n",
    "    pass\n",
    "\n",
    "class InputError(Error):\n",
    "    \"\"\"Exception raised for error in the input.\n",
    "    \n",
    "    Attributes: \n",
    "        expression -- input expression in which the error occurred\n",
    "        message -- explanation of the error\n",
    "    \"\"\"\n",
    "    \n",
    "    def __init__(self, expression, message):\n",
    "        self.expression = expression\n",
    "        self.message = message\n",
    "        \n",
    "class TransitionError(Error):\n",
    "    \"\"\"Raised when an operation attempts a state transition that's not allowed.\n",
    "    \n",
    "    Attributes:\n",
    "        previous -- state at beginning of transition\n",
    "        next -- attempted new state\n",
    "        message -- explanation of mwhy the specific transition is not allowed\n",
    "    \"\"\"\n",
    "\n",
    "    def __init__(self, previous, next, message):\n",
    "        self.previous = previous\n",
    "        self.next = next\n",
    "        self.message = message"
   ]
  },
  {
   "cell_type": "code",
   "execution_count": null,
   "id": "110b671c",
   "metadata": {},
   "outputs": [],
   "source": [
    "raise InputError(\"a\", \"message\")"
   ]
  },
  {
   "cell_type": "markdown",
   "id": "0748975f",
   "metadata": {},
   "source": [
    "```python\n",
    "---------------------------------------------------------------------------\n",
    "InputError                                Traceback (most recent call last)\n",
    "/tmp/ipykernel_31/1390501804.py in <module>\n",
    "----> 1 raise InputError(\"a\", \"message\")\n",
    "\n",
    "InputError: ('a', 'message')\n",
    "```"
   ]
  },
  {
   "cell_type": "code",
   "execution_count": null,
   "id": "88ac427f",
   "metadata": {},
   "outputs": [],
   "source": [
    "raise TransitionError(\"a\", \"b\", \"message\")"
   ]
  },
  {
   "cell_type": "markdown",
   "id": "a59eaec3",
   "metadata": {},
   "source": [
    "```python\n",
    "---------------------------------------------------------------------------\n",
    "TransitionError                           Traceback (most recent call last)\n",
    "/tmp/ipykernel_31/1582602960.py in <module>\n",
    "----> 1 raise TransitionError(\"a\", \"b\", \"message\")\n",
    "\n",
    "TransitionError: ('a', 'b', 'message')\n",
    "```"
   ]
  },
  {
   "cell_type": "markdown",
   "id": "0d2c2f67",
   "metadata": {},
   "source": [
    "### Defining Clean-up Actions"
   ]
  },
  {
   "cell_type": "code",
   "execution_count": null,
   "id": "3833358e",
   "metadata": {},
   "outputs": [],
   "source": [
    "try:\n",
    "    raise KeyboardInterrupt\n",
    "finally:\n",
    "    print('Goodbye, world!')"
   ]
  },
  {
   "cell_type": "markdown",
   "id": "daec634e",
   "metadata": {},
   "source": [
    "```python\n",
    "---------------------------------------------------------------------------\n",
    "KeyboardInterrupt                         Traceback (most recent call last)\n",
    "/tmp/ipykernel_70/163421838.py in <module>\n",
    "      1 try:\n",
    "----> 2     raise KeyboardInterrupt\n",
    "      3 finally:\n",
    "      4     print('Goodbye, world!')\n",
    "\n",
    "KeyboardInterrupt: \n",
    "```"
   ]
  },
  {
   "cell_type": "code",
   "execution_count": null,
   "id": "79bd9427",
   "metadata": {},
   "outputs": [],
   "source": [
    "def bool_return():\n",
    "    try:\n",
    "        return True\n",
    "    finally:\n",
    "        return False\n",
    "    \n",
    "bool_return()"
   ]
  },
  {
   "cell_type": "code",
   "execution_count": null,
   "id": "77c00311",
   "metadata": {},
   "outputs": [],
   "source": [
    "def divide(x, y):\n",
    "    try:\n",
    "        result = x/y\n",
    "    except ZeroDivisionError:\n",
    "        print('division by zero!')\n",
    "    else:\n",
    "        print('result is', result)\n",
    "    finally:\n",
    "        print('executing finally clause')"
   ]
  },
  {
   "cell_type": "code",
   "execution_count": null,
   "id": "1ed08387",
   "metadata": {},
   "outputs": [],
   "source": [
    "divide(2,0)"
   ]
  },
  {
   "cell_type": "code",
   "execution_count": null,
   "id": "4aa55cbe",
   "metadata": {},
   "outputs": [],
   "source": [
    "divide(2,0)"
   ]
  },
  {
   "cell_type": "code",
   "execution_count": null,
   "id": "0feaf3dc",
   "metadata": {},
   "outputs": [],
   "source": [
    "divide('2', '1')"
   ]
  },
  {
   "cell_type": "markdown",
   "id": "7f84c1bb",
   "metadata": {},
   "source": [
    "some objects have predefined clean up actions"
   ]
  },
  {
   "cell_type": "code",
   "execution_count": null,
   "id": "a76181b7",
   "metadata": {},
   "outputs": [],
   "source": [
    "for line in open('myfile.txt'):\n",
    "    print(line, end=' ')\n",
    "    \n",
    "# this is brain-dead code, effectively leaving the file open"
   ]
  },
  {
   "cell_type": "markdown",
   "id": "090042f9",
   "metadata": {},
   "source": [
    "the following method has a `finally` statement built in such that the open file is always closed when the scope exited."
   ]
  },
  {
   "cell_type": "code",
   "execution_count": null,
   "id": "28e6698c",
   "metadata": {},
   "outputs": [],
   "source": [
    "with open(\"myfile.txt\") as f:\n",
    "    for line in f:\n",
    "        print(line, end=\" \")"
   ]
  },
  {
   "cell_type": "markdown",
   "id": "eaaa90ba",
   "metadata": {},
   "source": [
    "### References\n",
    "\n",
    "1. [Errors and Exceptions -- Python Documentation](https://docs.python.org/3/tutorial/errors.html)\n",
    "\n",
    "2. [Built-in Exceptions -- Python Documentation](https://docs.python.org/3/library/exceptions.html#bltin-exceptions)"
   ]
  }
 ],
 "metadata": {
  "jupytext": {
   "cell_metadata_filter": "-all",
   "formats": "ipynb,md:myst",
   "main_language": "python",
   "notebook_metadata_filter": "-all",
   "text_representation": {
    "extension": ".md",
    "format_name": "markdown"
   }
  },
  "kernelspec": {
   "display_name": "Python 3 (ipykernel)",
   "language": "python",
   "name": "python3"
  },
  "language_info": {
   "codemirror_mode": {
    "name": "ipython",
    "version": 3
   },
   "file_extension": ".py",
   "mimetype": "text/x-python",
   "name": "python",
   "nbconvert_exporter": "python",
   "pygments_lexer": "ipython3",
   "version": "3.9.2"
  }
 },
 "nbformat": 4,
 "nbformat_minor": 5
}
