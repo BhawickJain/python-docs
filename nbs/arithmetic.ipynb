{
 "cells": [
  {
   "cell_type": "markdown",
   "id": "338c36e5-b283-4245-97d6-567d84a98294",
   "metadata": {},
   "source": [
    "## Arithmetic Operator Notation for improve UX\n",
    "\n",
    "fastai uses a modified path library which allow the contentation of paths using the `__truediv__` symbol."
   ]
  },
  {
   "cell_type": "code",
   "execution_count": null,
   "id": "82d30a7f-d322-4b88-b19b-91665c7fd2e1",
   "metadata": {},
   "outputs": [],
   "source": [
    "class words:\n",
    "    \n",
    "    def __init__(self, word):\n",
    "        self.word = word\n",
    "        \n",
    "    def __truediv__(self, other):\n",
    "        return self.word + '/' + other"
   ]
  },
  {
   "cell_type": "code",
   "execution_count": null,
   "id": "dc5f81b0-0728-457f-b4ed-19fb1fe60a38",
   "metadata": {},
   "outputs": [],
   "source": [
    "one = words(\"hello\")\n",
    "one/'World'"
   ]
  },
  {
   "cell_type": "markdown",
   "id": "df4ab610-017a-4c2b-9487-65327c1b30c0",
   "metadata": {},
   "source": [
    "The `cypython` `datetime` module offers similar facilities [src](https://github.com/python/cpython/blob/454cdb99abcda37413b15167cda564091fec2572/Lib/datetime.py#L650)"
   ]
  }
 ],
 "metadata": {
  "jupytext": {
   "formats": "ipynb,md"
  },
  "kernelspec": {
   "display_name": "Python 3 (ipykernel)",
   "language": "python",
   "name": "python3"
  },
  "language_info": {
   "codemirror_mode": {
    "name": "ipython",
    "version": 3
   },
   "file_extension": ".py",
   "mimetype": "text/x-python",
   "name": "python",
   "nbconvert_exporter": "python",
   "pygments_lexer": "ipython3",
   "version": "3.10.0"
  }
 },
 "nbformat": 4,
 "nbformat_minor": 5
}
