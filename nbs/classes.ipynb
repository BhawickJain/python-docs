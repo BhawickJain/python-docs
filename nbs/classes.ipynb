{
 "cells": [
  {
   "cell_type": "markdown",
   "id": "8adf84c7",
   "metadata": {},
   "source": [
    "## Classes"
   ]
  },
  {
   "cell_type": "markdown",
   "id": "890a8858",
   "metadata": {},
   "source": [
    "Now Python does offer typing / custom type definitions, so\n",
    "`[?]` How do class emulate type definitions in Python, the [python docs](https://docs.python.org/3/tutorial/classes.html) seems to imply classes can be used to define new types of objects.\n",
    "`[?]` How does this constrasto typed languages where you can choose something to be a type using some kind of `struct` token or a class?"
   ]
  },
  {
   "cell_type": "code",
   "execution_count": null,
   "id": "6d36271e",
   "metadata": {},
   "outputs": [],
   "source": [
    "spam = \"global spam trolol\"\n",
    "def another_wrapper():\n",
    "    def scope_test():\n",
    "        def do_local():\n",
    "            spam = \"local spam\"\n",
    "\n",
    "        def do_nonlocal():\n",
    "            nonlocal spam\n",
    "            spam = \"nonlocal spam\"\n",
    "\n",
    "        def do_global():\n",
    "            pass\n",
    "#             global spam\n",
    "#             spam = \"global spam\"\n",
    "\n",
    "        spam = \"test spam\"\n",
    "        do_local()\n",
    "        print(\"After local assignment:\", spam) #test spam\n",
    "        do_nonlocal()\n",
    "        print(\"After nonlocal assignment:\", spam) #nonlocal spam\n",
    "        do_global()\n",
    "        print(\"After global assignment:\", spam) #global spam\n",
    "\n",
    "    scope_test()\n",
    "\n",
    "    \n",
    "another_wrapper()\n",
    "print(\"In global scope:\", spam)"
   ]
  },
  {
   "cell_type": "markdown",
   "id": "90556573",
   "metadata": {},
   "source": [
    "local spam creates a `spam` table in the own symbol table within `do_local()`, which means the `spam` symbol in the next table up is unaffected. So the spam at the `scope_test()` level is unaffected.\n",
    "\n",
    "`nonlocal` keyword causes python to seek a `spam` that is not in the current symbol table but somewhere earlier in the calling symbol tables. There it finds `spam` at the `scope_test()` level. This excludes the `global` scope, [[py-docs-nonlocal](https://docs.python.org/3/reference/simple_stmts.html#nonlocal)].\n",
    "\n",
    "`global` keyword causes python to seek a `spam` at the module level which is the very first symbol table, with the largest scope. In this instance no such word exists so the keyword goes ahead and creates readies to create a new `spam` word at the global symbol table. Note that the word is not created until the assignment has been executed."
   ]
  },
  {
   "cell_type": "markdown",
   "id": "d89add88",
   "metadata": {},
   "source": [
    "### Creating an attribute and deleting an attribute"
   ]
  },
  {
   "cell_type": "code",
   "execution_count": null,
   "id": "7e99739f",
   "metadata": {},
   "outputs": [],
   "source": [
    "class modname: pass\n",
    "modname.the_answer = 42\n",
    "modname.the_answer"
   ]
  },
  {
   "cell_type": "markdown",
   "id": "7f5b64a3",
   "metadata": {},
   "source": [
    "remove the binding of the attribute with the `del` token"
   ]
  },
  {
   "cell_type": "code",
   "execution_count": null,
   "id": "7103d761",
   "metadata": {},
   "outputs": [],
   "source": [
    "del modname.the_answer\n",
    "modname.the_answer"
   ]
  },
  {
   "cell_type": "markdown",
   "id": "bf4ebb43",
   "metadata": {},
   "source": [
    "```python\n",
    "---------------------------------------------------------------------------\n",
    "AttributeError                            Traceback (most recent call last)\n",
    "/tmp/ipykernel_45/2084199004.py in <module>\n",
    "      1 del modname.the_answer\n",
    "----> 2 modname.the_answer\n",
    "\n",
    "AttributeError: type object 'modname' has no attribute 'the_answer'\n",
    "```"
   ]
  },
  {
   "cell_type": "markdown",
   "id": "e0c160e6",
   "metadata": {},
   "source": [
    "### Class Objects\n",
    "\n",
    "When the intepreter moves through a `class` definition, a class object is created. From there instances of it can be instantiated."
   ]
  },
  {
   "cell_type": "code",
   "execution_count": null,
   "id": "ae39dec2",
   "metadata": {},
   "outputs": [],
   "source": [
    "class MyClass:\n",
    "    \"\"\"A simple example class\"\"\"\n",
    "    i = 12345\n",
    "    \n",
    "    def f(self):\n",
    "        return 'hello world'"
   ]
  },
  {
   "cell_type": "markdown",
   "id": "948e5a9a",
   "metadata": {},
   "source": [
    "`i` is a class scope variable."
   ]
  },
  {
   "cell_type": "markdown",
   "id": "0d1d5a5b",
   "metadata": {},
   "source": [
    "the docstring automatically is parsed into the `MyClass.__doc__`"
   ]
  },
  {
   "cell_type": "code",
   "execution_count": null,
   "id": "fb1db54d",
   "metadata": {},
   "outputs": [],
   "source": [
    "MyClass.__doc__"
   ]
  },
  {
   "cell_type": "markdown",
   "id": "8f511748",
   "metadata": {},
   "source": [
    "Instantiated `MyClass` to x"
   ]
  },
  {
   "cell_type": "code",
   "execution_count": null,
   "id": "ec8125d9",
   "metadata": {},
   "outputs": [],
   "source": [
    "x = MyClass()"
   ]
  },
  {
   "cell_type": "code",
   "execution_count": null,
   "id": "e4bf089f",
   "metadata": {},
   "outputs": [],
   "source": [
    "x.f()"
   ]
  },
  {
   "cell_type": "code",
   "execution_count": null,
   "id": "1ff0c54a",
   "metadata": {},
   "outputs": [],
   "source": [
    "y = MyClass()\n",
    "y.f()"
   ]
  },
  {
   "cell_type": "markdown",
   "id": "ff4c318e",
   "metadata": {},
   "source": [
    "You can change the MyClass class scope attributes like so"
   ]
  },
  {
   "cell_type": "code",
   "execution_count": null,
   "id": "80422836",
   "metadata": {},
   "outputs": [],
   "source": [
    "MyClass.i = 67890"
   ]
  },
  {
   "cell_type": "markdown",
   "id": "c21d0eb6",
   "metadata": {},
   "source": [
    "This changes the `i` attribute each instance of `MyClass` object shares."
   ]
  },
  {
   "cell_type": "code",
   "execution_count": null,
   "id": "29f087c2",
   "metadata": {},
   "outputs": [],
   "source": [
    "x.i"
   ]
  },
  {
   "cell_type": "code",
   "execution_count": null,
   "id": "8f8b06d7",
   "metadata": {},
   "outputs": [],
   "source": [
    "y.i"
   ]
  },
  {
   "cell_type": "markdown",
   "id": "144915f7",
   "metadata": {},
   "source": [
    "But you can overshadow that attribute with anothe `i` attribute that is local the instance of a `MyClass` object."
   ]
  },
  {
   "cell_type": "code",
   "execution_count": null,
   "id": "2e279886",
   "metadata": {},
   "outputs": [],
   "source": [
    "y.i = 123456\n",
    "y.i"
   ]
  },
  {
   "cell_type": "markdown",
   "id": "2df1152f",
   "metadata": {},
   "source": [
    "This means that changing the attribute of `MyClass` does not affect instances of the object that have their local attributes."
   ]
  },
  {
   "cell_type": "code",
   "execution_count": null,
   "id": "3f671467",
   "metadata": {},
   "outputs": [],
   "source": [
    "MyClass.i = \"hello\""
   ]
  },
  {
   "cell_type": "code",
   "execution_count": null,
   "id": "0f320ddf",
   "metadata": {},
   "outputs": [],
   "source": [
    "y.i #123456"
   ]
  },
  {
   "cell_type": "code",
   "execution_count": null,
   "id": "a8ecf129",
   "metadata": {},
   "outputs": [],
   "source": [
    "x.i #123456"
   ]
  },
  {
   "cell_type": "markdown",
   "id": "87171ff5",
   "metadata": {},
   "source": [
    "the `self` is passed in so that the object instance's own methods and attributes are availabel in the functions scope, otherwise they would all be not accessible or deleted when the scope is exited."
   ]
  },
  {
   "cell_type": "code",
   "execution_count": null,
   "id": "21b05f3f",
   "metadata": {
    "lines_to_next_cell": 2
   },
   "outputs": [],
   "source": [
    "class Complex:\n",
    "    def __init__(self, realpart, imagpart):\n",
    "        self.r = realpart\n",
    "        self.i = imagpart\n",
    "        \n",
    "y = Complex(3.0, -4.5)\n",
    "y.r, y.i"
   ]
  },
  {
   "cell_type": "markdown",
   "id": "848ddb9c",
   "metadata": {},
   "source": [
    "Using the `__init__` method build into all classes, and runs whenever a new instance of a class object is created. \n",
    "\n",
    "You can automatically additional run code just when a new instance of the object has been created. So when you run `Complex()`, it creates an instance of the `Complex` class object, then runs `__init__` which is tasked to define the `i` and `r`. This means any arguments sent into the `__init__` will need to be given at instantiation, `Complex(3.0, -4.5)`."
   ]
  },
  {
   "cell_type": "code",
   "execution_count": null,
   "id": "43d6a42a",
   "metadata": {},
   "outputs": [],
   "source": [
    "x.counter = 1  # create a data attribute to x object\n",
    "while x.counter < 10: # mutate the data attribute\n",
    "    x.counter *= 2\n",
    "\n",
    "print(x.counter) \n",
    "del x.counter # remove data attribute to x object"
   ]
  },
  {
   "cell_type": "code",
   "execution_count": null,
   "id": "a098a961",
   "metadata": {},
   "outputs": [],
   "source": [
    "x.f()"
   ]
  },
  {
   "cell_type": "code",
   "execution_count": null,
   "id": "c88e5983",
   "metadata": {},
   "outputs": [],
   "source": [
    "xf = x.f # pass x.f attribute to function f() to xf.\n",
    "for _ in range(3):\n",
    "    print(xf())"
   ]
  },
  {
   "cell_type": "code",
   "execution_count": null,
   "id": "df002e45",
   "metadata": {},
   "outputs": [],
   "source": [
    "class Dog:\n",
    "    \n",
    "    kind = 'canine' # class variable shared by all instances\n",
    "    \n",
    "    def __init__(self, name):\n",
    "        self.name = name # instance variable unique to each instance"
   ]
  },
  {
   "cell_type": "code",
   "execution_count": null,
   "id": "4733bacf",
   "metadata": {},
   "outputs": [],
   "source": [
    "d = Dog('Fido')\n",
    "e = Dog('Buddy')\n",
    "d.kind\n",
    "d.kind\n",
    "d.name\n",
    "e.name"
   ]
  },
  {
   "cell_type": "code",
   "execution_count": null,
   "id": "e725df8b",
   "metadata": {},
   "outputs": [],
   "source": [
    "class Dog: \n",
    "    \n",
    "    tricks = {} # This is seen as a dictionary\n",
    "    tricks = set()\n",
    "    \n",
    "    def __init__(self, name):\n",
    "        self.name = name\n",
    "    \n",
    "    def add_trick(self, trick):\n",
    "        self.tricks.add(trick)"
   ]
  },
  {
   "cell_type": "code",
   "execution_count": null,
   "id": "30344024",
   "metadata": {},
   "outputs": [],
   "source": [
    "d = Dog('Fido')\n",
    "e = Dog('Buddy')\n",
    "\n",
    "d.add_trick('roll over')\n",
    "e.add_trick('play dead')\n",
    "\n",
    "d.tricks # but I thought d could only do roll over, only e knows how to play dead!"
   ]
  },
  {
   "cell_type": "markdown",
   "id": "08290963",
   "metadata": {},
   "source": [
    "Other problems also include that `tricks` should be a set not an array to ensure only items are unique."
   ]
  },
  {
   "cell_type": "markdown",
   "id": "341c975c",
   "metadata": {},
   "source": [
    "corrected version"
   ]
  },
  {
   "cell_type": "code",
   "execution_count": null,
   "id": "2d8b0e04",
   "metadata": {},
   "outputs": [],
   "source": [
    "class Dog:\n",
    "\n",
    "    kind = \"canine\"\n",
    "    \n",
    "    def __init__(self, name):\n",
    "        self.name = name\n",
    "        self.tricks = set()\n",
    "    \n",
    "    def add_trick(self, trick):\n",
    "        self.tricks.add(trick)"
   ]
  },
  {
   "cell_type": "code",
   "execution_count": null,
   "id": "65c8bd9d",
   "metadata": {},
   "outputs": [],
   "source": [
    "d = Dog('Fido')\n",
    "e = Dog('Buddy')\n",
    "\n",
    "d.add_trick('roll over')\n",
    "e.add_trick('play dead')\n",
    "\n",
    "d.tricks"
   ]
  },
  {
   "cell_type": "code",
   "execution_count": null,
   "id": "e6761ca4",
   "metadata": {},
   "outputs": [],
   "source": [
    "e.tricks"
   ]
  },
  {
   "cell_type": "code",
   "execution_count": null,
   "id": "4ebab780",
   "metadata": {},
   "outputs": [],
   "source": [
    "isinstance(d, Exception)"
   ]
  },
  {
   "cell_type": "code",
   "execution_count": null,
   "id": "f5e12e81",
   "metadata": {},
   "outputs": [],
   "source": [
    "class Fluffy_Dog(Dog):\n",
    "\n",
    "    def fluffiness(self, fluffiness):\n",
    "        self.fluffiness = fluffiness"
   ]
  },
  {
   "cell_type": "code",
   "execution_count": null,
   "id": "01715f2e",
   "metadata": {},
   "outputs": [],
   "source": [
    "f = Fluffy_Dog('Lolu')\n",
    "f. fluffiness(10)\n",
    "f.add_trick(\"super-fluffy\")\n",
    "f.name, f.tricks, f.kind"
   ]
  },
  {
   "cell_type": "code",
   "execution_count": null,
   "id": "98eb8b38",
   "metadata": {},
   "outputs": [],
   "source": [
    "isinstance(f, Dog)"
   ]
  },
  {
   "cell_type": "code",
   "execution_count": null,
   "id": "f8d21218",
   "metadata": {},
   "outputs": [],
   "source": [
    "isinstance(f, Fluffy_Dog)"
   ]
  },
  {
   "cell_type": "code",
   "execution_count": null,
   "id": "99b6c3d9",
   "metadata": {},
   "outputs": [],
   "source": [
    "issubclass(Fluffy_Dog, Dog)"
   ]
  },
  {
   "cell_type": "markdown",
   "id": "182e4e0d",
   "metadata": {},
   "source": [
    "Interestingly"
   ]
  },
  {
   "cell_type": "code",
   "execution_count": null,
   "id": "e73c23b7",
   "metadata": {},
   "outputs": [],
   "source": [
    "issubclass(bool, int)"
   ]
  },
  {
   "cell_type": "code",
   "execution_count": null,
   "id": "e703895d",
   "metadata": {},
   "outputs": [],
   "source": [
    "issubclass(float, int)"
   ]
  },
  {
   "cell_type": "code",
   "execution_count": null,
   "id": "8fe2ea8a",
   "metadata": {},
   "outputs": [],
   "source": [
    "issubclass(int, float)"
   ]
  },
  {
   "cell_type": "markdown",
   "id": "b3aecf10",
   "metadata": {},
   "source": [
    "### Using `super`\n",
    "\n",
    "[Docs](https://docs.python.org/3/library/functions.html#super)  \n",
    "[[py-docs-guide-super](https://rhettinger.wordpress.com/2011/05/26/super-considered-super/)]"
   ]
  },
  {
   "cell_type": "markdown",
   "id": "0f96e333",
   "metadata": {},
   "source": [
    "`[ ]` Create a multiple inheretance example\n",
    "\n",
    "`[ ]` Create a privat variables example"
   ]
  },
  {
   "cell_type": "markdown",
   "id": "528f313f",
   "metadata": {},
   "source": [
    "You can define a type using an empty `class` and treat is as though it is a `struct` like in C or C++."
   ]
  },
  {
   "cell_type": "code",
   "execution_count": null,
   "id": "de02813c",
   "metadata": {},
   "outputs": [],
   "source": [
    "class Employee:\n",
    "    pass\n",
    "\n",
    "personA = Employee()\n",
    "personA.name = \"Bill Bryson\"\n",
    "personA.dept = \"Literature\"\n",
    "personA.famous = True"
   ]
  },
  {
   "cell_type": "code",
   "execution_count": null,
   "id": "74482c3e",
   "metadata": {},
   "outputs": [],
   "source": [
    "personA.__self__()"
   ]
  },
  {
   "cell_type": "code",
   "execution_count": null,
   "id": "b317b99c",
   "metadata": {},
   "outputs": [],
   "source": [
    "class Reverse:\n",
    "    \"\"\"Iterator for looping over a sequence backwards\"\"\"\n",
    "    \n",
    "    def __init__(self, data):\n",
    "        self.data = data\n",
    "        self.index = len(data)\n",
    "        \n",
    "    def __iter__(self):\n",
    "        \"\"\"\n",
    "        __iter__ usually returns a __next__ method but\n",
    "        this is handled by this class and can be\n",
    "        overshadowed.\n",
    "        \n",
    "        return\n",
    "        ------\n",
    "        self\n",
    "        \"\"\"\n",
    "        \n",
    "        return self\n",
    "    \n",
    "    def __next__(self):\n",
    "        \"\"\"\n",
    "        When the next item whenever called\n",
    "        \n",
    "        return\n",
    "        ------\n",
    "        next item in self\n",
    "        \"\"\"\n",
    "        \n",
    "        if self.index == 0:\n",
    "            raise StopIteration\n",
    "        self.index = self.index - 1\n",
    "        return self.data[self.index]"
   ]
  },
  {
   "cell_type": "markdown",
   "id": "0eaca4da",
   "metadata": {},
   "source": [
    "Uses the [`StopIteration`](https://docs.python.org/3/library/exceptions.html#StopIteration) signal, specifically raised by the `__next__` method to tell the calling function to stop called `__next__`. This must be handled by the caller."
   ]
  },
  {
   "cell_type": "markdown",
   "id": "2cd1c6ba",
   "metadata": {},
   "source": [
    "`[?]` How can a generator be used to make the `Reverse` implementation even more concise?"
   ]
  },
  {
   "cell_type": "code",
   "execution_count": null,
   "id": "084be858",
   "metadata": {},
   "outputs": [],
   "source": [
    "IterableObject = \"abc\"\n",
    "\n",
    "class ReverseEnumerate(Reverse):\n",
    "    \n",
    "    def __next__(self):\n",
    "        \"\"\"\n",
    "        return\n",
    "        ------\n",
    "        index, next item\n",
    "        \"\"\"\n",
    "    \n",
    "        if self.index == 0:\n",
    "            raise StopIteration\n",
    "        self.index -= 1\n",
    "\n",
    "        return self.index, self.data[self.index]       "
   ]
  },
  {
   "cell_type": "code",
   "execution_count": null,
   "id": "3b02e6b8",
   "metadata": {},
   "outputs": [],
   "source": [
    "a = ReverseEnumerate(\"abc\")\n",
    "for i, v in a:\n",
    "    print(i, v)\n",
    "    \n",
    "# 2 c\n",
    "# 1 b\n",
    "# 0 a"
   ]
  },
  {
   "cell_type": "markdown",
   "id": "776d1fd4",
   "metadata": {},
   "source": [
    "### Private Definitions\n",
    "Private Definitions can be defined by beginning the name with `_`. \n",
    "\n",
    "Private definitions can be accessed, including dunders when beginning with `_`, such as `object._`..."
   ]
  },
  {
   "cell_type": "code",
   "execution_count": null,
   "id": "7334b7b2",
   "metadata": {},
   "outputs": [],
   "source": [
    "class PrivateClassMethod:\n",
    "    \n",
    "    def __init__(self, a):\n",
    "        self.a = a\n",
    "        \n",
    "#     def stringify(self):\n",
    "#         __str__(self)\n",
    "    \n",
    "    def __str__(self):\n",
    "        _str_rep(self.a)\n",
    "\n",
    "    @classmethod\n",
    "    def _str_rep(cls, string):\n",
    "        return str(string)"
   ]
  },
  {
   "cell_type": "code",
   "execution_count": null,
   "id": "4e68412d",
   "metadata": {},
   "outputs": [],
   "source": [
    "c = PrivateClassMethod(\"private print method\")"
   ]
  },
  {
   "cell_type": "code",
   "execution_count": null,
   "id": "311b4f10",
   "metadata": {},
   "outputs": [],
   "source": [
    "PrivateClassMethod._str_rep(\"print\")"
   ]
  },
  {
   "cell_type": "markdown",
   "id": "684eb135",
   "metadata": {},
   "source": [
    "Using the `dir` method you can see that the private method is visible. [[src](https://stackoverflow.com/questions/451963/making-a-method-private-in-a-python-subclass)]"
   ]
  },
  {
   "cell_type": "code",
   "execution_count": null,
   "id": "575a7a2e",
   "metadata": {},
   "outputs": [],
   "source": [
    "dir(PrivateClassMethod)"
   ]
  },
  {
   "cell_type": "code",
   "execution_count": null,
   "id": "2c07de56",
   "metadata": {},
   "outputs": [],
   "source": [
    "class AddonPrivateClassMethod(PrivateClassMethod):\n",
    "    def __str__(self):\n",
    "        return self._str_rep((self.a + ' x ')*2)"
   ]
  },
  {
   "cell_type": "code",
   "execution_count": null,
   "id": "eecc4b51",
   "metadata": {},
   "outputs": [],
   "source": [
    "d = AddonPrivateClassMethod(\"additional class\")"
   ]
  },
  {
   "cell_type": "code",
   "execution_count": null,
   "id": "7621dfcc",
   "metadata": {},
   "outputs": [],
   "source": [
    "str(d)"
   ]
  },
  {
   "cell_type": "code",
   "execution_count": null,
   "id": "ec18d791",
   "metadata": {},
   "outputs": [],
   "source": [
    "class Dog(object):\n",
    "    \n",
    "    @classmethod\n",
    "    def __bark(self):\n",
    "        print(\"woof\")"
   ]
  },
  {
   "cell_type": "code",
   "execution_count": null,
   "id": "0608a666",
   "metadata": {},
   "outputs": [],
   "source": [
    "Dog._Dog__bark()"
   ]
  },
  {
   "cell_type": "code",
   "execution_count": null,
   "id": "9753a38f",
   "metadata": {},
   "outputs": [],
   "source": [
    "dexter = Dog()\n",
    "dexter._Dog__bark()"
   ]
  },
  {
   "cell_type": "code",
   "execution_count": null,
   "id": "a7fe44ad",
   "metadata": {},
   "outputs": [],
   "source": [
    "class Num:\n",
    "    def __init__(self,num):\n",
    "        self.n1 = num\n",
    "\n",
    "class Num2(Num):\n",
    "    def show(self):\n",
    "        print(self.n1)\n",
    "\n",
    "mynumber = Num2(8)\n",
    "mynumber.show()"
   ]
  },
  {
   "cell_type": "code",
   "execution_count": null,
   "id": "06d5a088",
   "metadata": {},
   "outputs": [],
   "source": [
    "class Num2(Num):\n",
    "    def __init__(self,num):\n",
    "        self.n2 = num*2\n",
    "    \n",
    "    def show(self):\n",
    "        print(self.n1, self.n2)"
   ]
  },
  {
   "cell_type": "code",
   "execution_count": null,
   "id": "a8a7a2fb",
   "metadata": {},
   "outputs": [],
   "source": [
    "mynumber = Num2(8)\n",
    "mynumber.show()"
   ]
  },
  {
   "cell_type": "markdown",
   "id": "7063d342",
   "metadata": {},
   "source": [
    "the correction for this is"
   ]
  },
  {
   "cell_type": "code",
   "execution_count": null,
   "id": "d095e16d",
   "metadata": {},
   "outputs": [],
   "source": [
    "class Num2(Num):\n",
    "    def __init__(self,num):\n",
    "        \"\"\"\n",
    "        Run __init__ of base class to get attributes and setup\n",
    "        that provides before adding additional ones\n",
    "        \"\"\"\n",
    "        Num.__init__(self,num)\n",
    "        self.n2 = num*2\n",
    "        \n",
    "    def show(self):\n",
    "        print(self.n1, self.n2)"
   ]
  },
  {
   "cell_type": "code",
   "execution_count": null,
   "id": "21b7c30f",
   "metadata": {},
   "outputs": [],
   "source": [
    "mynumber = Num2(8)\n",
    "mynumber.show()"
   ]
  },
  {
   "cell_type": "markdown",
   "id": "e5ad6fa8",
   "metadata": {},
   "source": [
    "Trying to mimick PyTorch `__init__` definition of `super()` in [[src](https://pytorch.org/docs/stable/_modules/torch/nn/modules/container.html#Sequential)]  \n",
    "`[?]` See if you can implement the above with `super()`"
   ]
  },
  {
   "cell_type": "code",
   "execution_count": null,
   "id": "631a25ca",
   "metadata": {},
   "outputs": [],
   "source": [
    "class Num2(Num):\n",
    "    def __init__(self, num):\n",
    "        \"\"\"\n",
    "        Run __init__ of base class to get attributes and setup\n",
    "        that provides before adding additional ones\n",
    "        \"\"\"\n",
    "        super(Num, self).__init__()\n",
    "        self.n2 = num*2\n",
    "    \n",
    "    def show(self):\n",
    "        print(self.n1, self.n2)"
   ]
  },
  {
   "cell_type": "code",
   "execution_count": null,
   "id": "898ff659",
   "metadata": {},
   "outputs": [],
   "source": [
    "mynumber = Num2(8)\n",
    "mynumber.show()"
   ]
  },
  {
   "cell_type": "markdown",
   "id": "01f316a5",
   "metadata": {},
   "source": [
    "## `@property`"
   ]
  },
  {
   "cell_type": "code",
   "execution_count": null,
   "id": "2f27977f",
   "metadata": {},
   "outputs": [],
   "source": [
    "class C_sugar:\n",
    "    \n",
    "    def __init__(self):\n",
    "        self._x = None\n",
    "    \n",
    "    @property\n",
    "    def x(self):\n",
    "        return self._x\n",
    "    \n",
    "    @x.setter\n",
    "    def setx(self, value):\n",
    "        self._x = value\n",
    "    \n",
    "    @x.deleter\n",
    "    def delx(self, value):\n",
    "        self._x = None"
   ]
  },
  {
   "cell_type": "markdown",
   "id": "e3f7262d",
   "metadata": {},
   "source": [
    "Every attribute has a set of function that allow python to _get_, _set_ and _delete_ value in that attribute. They are called `fget`, `fset` and `fdel`. There is a built-in function called `property(f)`, where `f` is a function that allows you to change an attributes means of access by setting custom functions."
   ]
  },
  {
   "cell_type": "markdown",
   "id": "78a43841",
   "metadata": {},
   "source": [
    "In the example we created a private attribute `_x` and a function called `x`. The function has the `property` decorator which makes the function itself an `fget`. Since `x` is an attribute to that function, we can now access `x` to access `_x` without having to call it directly."
   ]
  },
  {
   "cell_type": "code",
   "execution_count": null,
   "id": "578c3137",
   "metadata": {},
   "outputs": [],
   "source": [
    "c = C()\n",
    "c.x"
   ]
  },
  {
   "cell_type": "markdown",
   "id": "4835a92d",
   "metadata": {},
   "source": [
    "Without using syntactic sugar, this is what the `@property` is doing."
   ]
  },
  {
   "cell_type": "code",
   "execution_count": null,
   "id": "bde91745",
   "metadata": {},
   "outputs": [],
   "source": [
    "class C:\n",
    "    \n",
    "    def __init__(self):\n",
    "        self._x = None\n",
    "        \n",
    "    def getx(self):\n",
    "        return self._x\n",
    "    \n",
    "    def setx(self, value):\n",
    "        self._x = value\n",
    "        \n",
    "    def delx(self, value):\n",
    "        self._x = None\n",
    "        \n",
    "    x = property(getx, setx, delx, 'x is a hidden property')"
   ]
  },
  {
   "cell_type": "code",
   "execution_count": null,
   "id": "d75f625e",
   "metadata": {},
   "outputs": [],
   "source": [
    "c = C()\n",
    "c.x = \"value\""
   ]
  },
  {
   "cell_type": "markdown",
   "id": "6b824376",
   "metadata": {},
   "source": [
    "You could create a `classproperty` [[src](https://stackoverflow.com/questions/5189699/how-to-make-a-class-property)]"
   ]
  },
  {
   "cell_type": "markdown",
   "id": "84d322f6",
   "metadata": {},
   "source": [
    "## `@classmethod` and `staticmethod`"
   ]
  },
  {
   "cell_type": "code",
   "execution_count": null,
   "id": "76e7de6a",
   "metadata": {},
   "outputs": [],
   "source": [
    "https://stackoverflow.com/questions/12179271/meaning-of-classmethod-and-staticmethod-for-beginner\n",
    "\n"
   ]
  }
 ],
 "metadata": {
  "jupytext": {
   "cell_metadata_filter": "-all",
   "formats": "ipynb,md:myst",
   "main_language": "python",
   "notebook_metadata_filter": "-all",
   "text_representation": {
    "extension": ".md",
    "format_name": "markdown"
   }
  },
  "kernelspec": {
   "display_name": "Python 3 (ipykernel)",
   "language": "python",
   "name": "python3"
  },
  "language_info": {
   "codemirror_mode": {
    "name": "ipython",
    "version": 3
   },
   "file_extension": ".py",
   "mimetype": "text/x-python",
   "name": "python",
   "nbconvert_exporter": "python",
   "pygments_lexer": "ipython3",
   "version": "3.9.2"
  }
 },
 "nbformat": 4,
 "nbformat_minor": 5
}
