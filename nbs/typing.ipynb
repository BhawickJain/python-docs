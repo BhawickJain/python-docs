{
 "cells": [
  {
   "cell_type": "markdown",
   "id": "e78f75df",
   "metadata": {},
   "source": [
    "## Typing"
   ]
  },
  {
   "cell_type": "markdown",
   "id": "b2708ba5",
   "metadata": {},
   "source": [
    "### Type Hinting\n",
    "\n",
    "Python and programmer reading it will be `type` aware allowing python to inform potential misuse of the code. Generally python is all about duck typing so if variation in the type doesn't matter, it won't care. In places it does, type hinting is useful, but won't be enforced."
   ]
  },
  {
   "cell_type": "code",
   "execution_count": null,
   "id": "71936cce",
   "metadata": {},
   "outputs": [],
   "source": [
    "def greet(name: str) -> str:\n",
    "    return \"Hello, \" + name"
   ]
  },
  {
   "cell_type": "code",
   "execution_count": null,
   "id": "34a11c1d",
   "metadata": {},
   "outputs": [],
   "source": [
    "def headline(text, align=True):\n",
    "    if align:\n",
    "        return f\"{text.title()}\\n{'-' * len(text)}\"\n",
    "    else:\n",
    "        return f\" {text.title()} \".center(50, \"o\")"
   ]
  },
  {
   "cell_type": "code",
   "execution_count": null,
   "id": "f379dae1",
   "metadata": {},
   "outputs": [],
   "source": [
    "print(headline(\"python type checking\"))"
   ]
  },
  {
   "cell_type": "code",
   "execution_count": null,
   "id": "83e75f42",
   "metadata": {},
   "outputs": [],
   "source": [
    "print(headline(\"python type checking\", False))"
   ]
  },
  {
   "cell_type": "markdown",
   "id": "0936849c",
   "metadata": {},
   "source": [
    "typed version"
   ]
  },
  {
   "cell_type": "code",
   "execution_count": null,
   "id": "f15624f7",
   "metadata": {},
   "outputs": [],
   "source": [
    "def headline(text: str, align: bool = True) -> str:\n",
    "    if align:\n",
    "        return f\"{text.title()}\\n{'-' * len(text)}\"\n",
    "    else:\n",
    "        return f\" {text.title()} \".center(50, \"o\")"
   ]
  },
  {
   "cell_type": "markdown",
   "id": "dc05e522",
   "metadata": {},
   "source": [
    "### Mypy"
   ]
  },
  {
   "cell_type": "code",
   "execution_count": 2,
   "id": "23fe04af",
   "metadata": {},
   "outputs": [
    {
     "name": "stdout",
     "output_type": "stream",
     "text": [
      "Requirement already satisfied: mypy in /usr/local/lib/python3.9/site-packages (0.910)\n",
      "Requirement already satisfied: toml in /usr/local/lib/python3.9/site-packages (from mypy) (0.10.2)\n",
      "Requirement already satisfied: typing-extensions>=3.7.4 in /usr/local/lib/python3.9/site-packages (from mypy) (3.10.0.2)\n",
      "Requirement already satisfied: mypy-extensions<0.5.0,>=0.4.3 in /usr/local/lib/python3.9/site-packages (from mypy) (0.4.3)\n",
      "\u001b[33mWARNING: You are using pip version 21.0.1; however, version 21.3.1 is available.\n",
      "You should consider upgrading via the '/usr/local/bin/python -m pip install --upgrade pip' command.\u001b[0m\n",
      "mypy 0.910\n"
     ]
    }
   ],
   "source": [
    "!pip install mypy\n",
    "!mypy --version"
   ]
  },
  {
   "cell_type": "code",
   "execution_count": 3,
   "id": "8adee1f7",
   "metadata": {},
   "outputs": [
    {
     "name": "stdout",
     "output_type": "stream",
     "text": [
      "\u001b[1m\u001b[32mSuccess: no issues found in 1 source file\u001b[m\n"
     ]
    }
   ],
   "source": [
    "!mypy ../pyExamples/headlines.py"
   ]
  },
  {
   "cell_type": "markdown",
   "id": "d933abbf",
   "metadata": {},
   "source": [
    "```bash\n",
    "Success: no issues found in 1 source file\n",
    "```"
   ]
  },
  {
   "cell_type": "markdown",
   "id": "85b0ca27",
   "metadata": {},
   "source": [
    "Gradual typing is the practice of bringing in types as the code base matures, part of it need unit tests and are critical components."
   ]
  },
  {
   "cell_type": "markdown",
   "id": "8974522f",
   "metadata": {},
   "source": [
    "Annotations are available with the use of type hinting"
   ]
  },
  {
   "cell_type": "code",
   "execution_count": null,
   "id": "048e1a16-67b0-442e-ae1e-a71154af7c7e",
   "metadata": {},
   "outputs": [],
   "source": [
    "---------"
   ]
  },
  {
   "cell_type": "markdown",
   "id": "e19fb7e8-0087-400b-b1af-610e48ae57ce",
   "metadata": {},
   "source": [
    "**Target Behaviour**\n",
    "```python\n",
    ">>> from pyExamples import typing\n",
    "This is the typing tutorial\n",
    "\n",
    ">>> typing.ex1_type_hinting\n",
    "prints example results\n",
    "\n",
    ">>> typing.ex1_typing_hinting.headline(\"hello\")\n",
    "```"
   ]
  },
  {
   "cell_type": "code",
   "execution_count": null,
   "id": "b29461dd-4e65-4579-a9e2-b2ffe35768c0",
   "metadata": {},
   "outputs": [],
   "source": [
    "----"
   ]
  },
  {
   "cell_type": "markdown",
   "id": "034cac9d-bb2b-4d3b-b1fe-febe6c27ad53",
   "metadata": {},
   "source": [
    "This is an example of just importing a feature module from the `pyExample` package. This will only run its `__init__` file so"
   ]
  },
  {
   "cell_type": "code",
   "execution_count": 5,
   "id": "bb6203be-3357-4c5a-a811-b8a8be30cb5e",
   "metadata": {},
   "outputs": [],
   "source": [
    "from pyExamples import typing"
   ]
  },
  {
   "cell_type": "code",
   "execution_count": 6,
   "id": "49d42c8c-6383-4ed5-a515-9f8e14f10c39",
   "metadata": {},
   "outputs": [
    {
     "data": {
      "text/plain": [
       "\u001b[0;31mType:\u001b[0m        module\n",
       "\u001b[0;31mString form:\u001b[0m <module 'pyExamples.typing' from '/data/pyExamples/pyExamples/typing/__init__.py'>\n",
       "\u001b[0;31mFile:\u001b[0m        /data/pyExamples/pyExamples/typing/__init__.py\n",
       "\u001b[0;31mSource:\u001b[0m     \n",
       "\u001b[0m__all__\u001b[0m \u001b[0;34m=\u001b[0m \u001b[0;34m[\u001b[0m\u001b[0;34m'type_hinting'\u001b[0m\u001b[0;34m,\u001b[0m \u001b[0;34m'type_annotation'\u001b[0m\u001b[0;34m]\u001b[0m\u001b[0;34m\u001b[0m\n",
       "\u001b[0;34m\u001b[0m\u001b[0m__doc__\u001b[0m \u001b[0;34m=\u001b[0m \u001b[0;34m\"\"\"\u001b[0m\n",
       "\u001b[0;34m          Examples of typing facilities available in python. Use the `??` \u001b[0m\n",
       "\u001b[0;34m          next to the imported attributes to see the different kinds \u001b[0m\n",
       "\u001b[0;34m          of typing facilities available in python.\u001b[0m\n",
       "\u001b[0;34m          \u001b[0m\n",
       "\u001b[0;34m          example\u001b[0m\n",
       "\u001b[0;34m          -------\u001b[0m\n",
       "\u001b[0;34m          >>> ??type_hinting\u001b[0m\n",
       "\u001b[0;34m          \"\"\"\u001b[0m\u001b[0;34m\u001b[0m\n",
       "\u001b[0;34m\u001b[0m\u001b[0;34m\u001b[0m\n",
       "\u001b[0;34m\u001b[0m\u001b[0;31m# import attributes namespaces typing module is imported\u001b[0m\u001b[0;34m\u001b[0m\n",
       "\u001b[0;34m\u001b[0m\u001b[0;32mfrom\u001b[0m \u001b[0;34m.\u001b[0m \u001b[0;32mimport\u001b[0m \u001b[0mtype_annotation\u001b[0m\u001b[0;34m\u001b[0m\n",
       "\u001b[0;34m\u001b[0m\u001b[0;32mfrom\u001b[0m \u001b[0;34m.\u001b[0m \u001b[0;32mimport\u001b[0m \u001b[0mtype_hinting\u001b[0m\u001b[0;34m\u001b[0m\u001b[0;34m\u001b[0m\u001b[0m\n"
      ]
     },
     "metadata": {},
     "output_type": "display_data"
    }
   ],
   "source": [
    "??typing"
   ]
  },
  {
   "cell_type": "code",
   "execution_count": 7,
   "id": "293efb61-49ee-414f-b39a-d50158d0d512",
   "metadata": {
    "tags": []
   },
   "outputs": [
    {
     "data": {
      "text/plain": [
       "['In',\n",
       " 'Out',\n",
       " '_',\n",
       " '_2',\n",
       " '__',\n",
       " '___',\n",
       " '__builtin__',\n",
       " '__builtins__',\n",
       " '__doc__',\n",
       " '__loader__',\n",
       " '__name__',\n",
       " '__package__',\n",
       " '__spec__',\n",
       " '_dh',\n",
       " '_i',\n",
       " '_i1',\n",
       " '_i2',\n",
       " '_i3',\n",
       " '_i4',\n",
       " '_i5',\n",
       " '_i6',\n",
       " '_i7',\n",
       " '_ih',\n",
       " '_ii',\n",
       " '_iii',\n",
       " '_oh',\n",
       " 'exit',\n",
       " 'get_ipython',\n",
       " 'quit',\n",
       " 'type_annotation',\n",
       " 'type_hinting',\n",
       " 'typing']"
      ]
     },
     "execution_count": 7,
     "metadata": {},
     "output_type": "execute_result"
    }
   ],
   "source": [
    "dir()"
   ]
  },
  {
   "cell_type": "code",
   "execution_count": 8,
   "id": "0271b783-7cf8-4a92-a18c-a281710e6c5e",
   "metadata": {},
   "outputs": [
    {
     "data": {
      "text/plain": [
       "\u001b[0;31mType:\u001b[0m        module\n",
       "\u001b[0;31mString form:\u001b[0m <module 'pyExamples.typing.type_annotation' from '/data/pyExamples/pyExamples/typing/type_annotation.py'>\n",
       "\u001b[0;31mFile:\u001b[0m        /data/pyExamples/pyExamples/typing/type_annotation.py\n",
       "\u001b[0;31mSource:\u001b[0m     \n",
       "\u001b[0;32mdef\u001b[0m \u001b[0mheadline\u001b[0m\u001b[0;34m(\u001b[0m\u001b[0mtext\u001b[0m\u001b[0;34m,\u001b[0m \u001b[0mcentered\u001b[0m \u001b[0;34m=\u001b[0m \u001b[0;32mFalse\u001b[0m\u001b[0;34m)\u001b[0m\u001b[0;34m:\u001b[0m\u001b[0;34m\u001b[0m\n",
       "\u001b[0;34m\u001b[0m    \u001b[0;31m#type: (str, bool) -> str\u001b[0m\u001b[0;34m\u001b[0m\n",
       "\u001b[0;34m\u001b[0m    \u001b[0;32mif\u001b[0m \u001b[0;32mnot\u001b[0m \u001b[0mcentered\u001b[0m\u001b[0;34m:\u001b[0m\u001b[0;34m\u001b[0m\n",
       "\u001b[0;34m\u001b[0m        \u001b[0;32mreturn\u001b[0m \u001b[0;34mf\"{text.title()}\\n{'-' * len(text)}\"\u001b[0m\u001b[0;34m\u001b[0m\n",
       "\u001b[0;34m\u001b[0m    \u001b[0;32melse\u001b[0m\u001b[0;34m:\u001b[0m\u001b[0;34m\u001b[0m\n",
       "\u001b[0;34m\u001b[0m        \u001b[0;32mreturn\u001b[0m \u001b[0;34mf\" {text.title()} \"\u001b[0m\u001b[0;34m.\u001b[0m\u001b[0mcenter\u001b[0m\u001b[0;34m(\u001b[0m\u001b[0;36m50\u001b[0m\u001b[0;34m,\u001b[0m \u001b[0;34m\"o\"\u001b[0m\u001b[0;34m)\u001b[0m\u001b[0;34m\u001b[0m\n",
       "\u001b[0;34m\u001b[0m\u001b[0;34m\u001b[0m\n",
       "\u001b[0;34m\u001b[0m\u001b[0;32mdef\u001b[0m \u001b[0mheadline2\u001b[0m\u001b[0;34m(\u001b[0m\u001b[0;34m\u001b[0m\n",
       "\u001b[0;34m\u001b[0m    \u001b[0mtext\u001b[0m\u001b[0;34m,\u001b[0m\u001b[0;34m\u001b[0m\n",
       "\u001b[0;34m\u001b[0m    \u001b[0mwidth\u001b[0m\u001b[0;34m=\u001b[0m\u001b[0;36m80\u001b[0m\u001b[0;34m,\u001b[0m\u001b[0;34m\u001b[0m\n",
       "\u001b[0;34m\u001b[0m    \u001b[0mfill_char\u001b[0m\u001b[0;34m=\u001b[0m\u001b[0;34m'-'\u001b[0m\u001b[0;34m,\u001b[0m\u001b[0;34m\u001b[0m\n",
       "\u001b[0;34m\u001b[0m\u001b[0;34m)\u001b[0m\u001b[0;34m:\u001b[0m\u001b[0;34m\u001b[0m\n",
       "\u001b[0;34m\u001b[0m    \u001b[0;32mreturn\u001b[0m \u001b[0;34mf\" {text.title()} \"\u001b[0m\u001b[0;34m.\u001b[0m\u001b[0mcenter\u001b[0m\u001b[0;34m(\u001b[0m\u001b[0mwidth\u001b[0m\u001b[0;34m,\u001b[0m \u001b[0mfill_char\u001b[0m\u001b[0;34m)\u001b[0m\u001b[0;34m\u001b[0m\n",
       "\u001b[0;34m\u001b[0m\u001b[0;34m\u001b[0m\n",
       "\u001b[0;34m\u001b[0m\u001b[0;32mif\u001b[0m \u001b[0m__name__\u001b[0m\u001b[0;34m==\u001b[0m\u001b[0;34m'__main__'\u001b[0m\u001b[0;34m:\u001b[0m\u001b[0;34m\u001b[0m\n",
       "\u001b[0;34m\u001b[0m    \u001b[0mprint\u001b[0m\u001b[0;34m(\u001b[0m\u001b[0mheadline2\u001b[0m\u001b[0;34m(\u001b[0m\u001b[0;34m\"these type comments also work\"\u001b[0m\u001b[0;34m,\u001b[0m \u001b[0mwidth\u001b[0m\u001b[0;34m=\u001b[0m\u001b[0;36m70\u001b[0m\u001b[0;34m)\u001b[0m\u001b[0;34m)\u001b[0m\u001b[0;34m\u001b[0m\n",
       "\u001b[0;34m\u001b[0m    \u001b[0mprint\u001b[0m\u001b[0;34m(\u001b[0m\u001b[0mheadline\u001b[0m\u001b[0;34m(\u001b[0m\u001b[0;34m\"python type checking\"\u001b[0m\u001b[0;34m)\u001b[0m\u001b[0;34m)\u001b[0m\u001b[0;34m\u001b[0m\n",
       "\u001b[0;34m\u001b[0m    \u001b[0mprint\u001b[0m\u001b[0;34m(\u001b[0m\u001b[0mheadline\u001b[0m\u001b[0;34m(\u001b[0m\u001b[0;34m\"use mypy\"\u001b[0m\u001b[0;34m,\u001b[0m \u001b[0mcentered\u001b[0m\u001b[0;34m=\u001b[0m\u001b[0;32mTrue\u001b[0m\u001b[0;34m)\u001b[0m\u001b[0;34m)\u001b[0m\u001b[0;34m\u001b[0m\n",
       "\u001b[0;34m\u001b[0m\u001b[0;34m\u001b[0m\n",
       "\u001b[0;34m\u001b[0m    \u001b[0mpi\u001b[0m \u001b[0;34m=\u001b[0m \u001b[0;36m3.142\u001b[0m \u001b[0;31m# type: float\u001b[0m\u001b[0;34m\u001b[0m\n",
       "\u001b[0;34m\u001b[0m\u001b[0;34m\u001b[0m\n",
       "\u001b[0;34m\u001b[0m    \u001b[0;32mtry\u001b[0m\u001b[0;34m:\u001b[0m\u001b[0;34m\u001b[0m\n",
       "\u001b[0;34m\u001b[0m        \u001b[0mprint\u001b[0m\u001b[0;34m(\u001b[0m\u001b[0mheadline\u001b[0m\u001b[0;34m(\u001b[0m\u001b[0mpi\u001b[0m\u001b[0;34m)\u001b[0m\u001b[0;34m)\u001b[0m  \u001b[0;31m# will throw an error\u001b[0m\u001b[0;34m\u001b[0m\n",
       "\u001b[0;34m\u001b[0m    \u001b[0;32mexcept\u001b[0m \u001b[0mException\u001b[0m \u001b[0;32mas\u001b[0m \u001b[0merr\u001b[0m\u001b[0;34m:\u001b[0m\u001b[0;34m\u001b[0m\n",
       "\u001b[0;34m\u001b[0m        \u001b[0mprint\u001b[0m\u001b[0;34m(\u001b[0m\u001b[0;34mf'error! {err}'\u001b[0m\u001b[0;34m)\u001b[0m\u001b[0;34m\u001b[0m\u001b[0;34m\u001b[0m\u001b[0m\n"
      ]
     },
     "metadata": {},
     "output_type": "display_data"
    }
   ],
   "source": [
    "??typing.type_annotation"
   ]
  },
  {
   "cell_type": "markdown",
   "id": "568b68ae-4045-49aa-9e4b-669dc286b176",
   "metadata": {},
   "source": [
    "The example below we are importing only the `__all__` attributes, which defined in teh `__init__.py` file but otherwise none of the import code in the `__init__.py` was imported. In addition, `attributes` of `pyExamples.typing` were directly imported so the `typing` namespace does not need to be referred to. I don't prefer that but it is useful to know."
   ]
  },
  {
   "cell_type": "code",
   "execution_count": 9,
   "id": "4b7c3d12-2d41-4127-9358-aee3cb886ca4",
   "metadata": {},
   "outputs": [],
   "source": [
    "from pyExamples.typing import *"
   ]
  },
  {
   "cell_type": "code",
   "execution_count": 10,
   "id": "7bd3ce6c-fa75-4c73-b885-0c8ff56eb72f",
   "metadata": {
    "tags": []
   },
   "outputs": [
    {
     "data": {
      "text/plain": [
       "['In',\n",
       " 'Out',\n",
       " '_',\n",
       " '_2',\n",
       " '_7',\n",
       " '__',\n",
       " '___',\n",
       " '__builtin__',\n",
       " '__builtins__',\n",
       " '__doc__',\n",
       " '__loader__',\n",
       " '__name__',\n",
       " '__package__',\n",
       " '__spec__',\n",
       " '_dh',\n",
       " '_i',\n",
       " '_i1',\n",
       " '_i10',\n",
       " '_i2',\n",
       " '_i3',\n",
       " '_i4',\n",
       " '_i5',\n",
       " '_i6',\n",
       " '_i7',\n",
       " '_i8',\n",
       " '_i9',\n",
       " '_ih',\n",
       " '_ii',\n",
       " '_iii',\n",
       " '_oh',\n",
       " 'exit',\n",
       " 'get_ipython',\n",
       " 'quit',\n",
       " 'type_annotation',\n",
       " 'type_hinting',\n",
       " 'typing']"
      ]
     },
     "execution_count": 10,
     "metadata": {},
     "output_type": "execute_result"
    }
   ],
   "source": [
    "dir()"
   ]
  },
  {
   "cell_type": "code",
   "execution_count": 11,
   "id": "3f7a1f8d-e14e-46d1-834b-af4ae42780d3",
   "metadata": {},
   "outputs": [
    {
     "data": {
      "text/plain": [
       "\u001b[0;31mType:\u001b[0m        module\n",
       "\u001b[0;31mString form:\u001b[0m <module 'pyExamples.typing.type_annotation' from '/data/pyExamples/pyExamples/typing/type_annotation.py'>\n",
       "\u001b[0;31mFile:\u001b[0m        /data/pyExamples/pyExamples/typing/type_annotation.py\n",
       "\u001b[0;31mSource:\u001b[0m     \n",
       "\u001b[0;32mdef\u001b[0m \u001b[0mheadline\u001b[0m\u001b[0;34m(\u001b[0m\u001b[0mtext\u001b[0m\u001b[0;34m,\u001b[0m \u001b[0mcentered\u001b[0m \u001b[0;34m=\u001b[0m \u001b[0;32mFalse\u001b[0m\u001b[0;34m)\u001b[0m\u001b[0;34m:\u001b[0m\u001b[0;34m\u001b[0m\n",
       "\u001b[0;34m\u001b[0m    \u001b[0;31m#type: (str, bool) -> str\u001b[0m\u001b[0;34m\u001b[0m\n",
       "\u001b[0;34m\u001b[0m    \u001b[0;32mif\u001b[0m \u001b[0;32mnot\u001b[0m \u001b[0mcentered\u001b[0m\u001b[0;34m:\u001b[0m\u001b[0;34m\u001b[0m\n",
       "\u001b[0;34m\u001b[0m        \u001b[0;32mreturn\u001b[0m \u001b[0;34mf\"{text.title()}\\n{'-' * len(text)}\"\u001b[0m\u001b[0;34m\u001b[0m\n",
       "\u001b[0;34m\u001b[0m    \u001b[0;32melse\u001b[0m\u001b[0;34m:\u001b[0m\u001b[0;34m\u001b[0m\n",
       "\u001b[0;34m\u001b[0m        \u001b[0;32mreturn\u001b[0m \u001b[0;34mf\" {text.title()} \"\u001b[0m\u001b[0;34m.\u001b[0m\u001b[0mcenter\u001b[0m\u001b[0;34m(\u001b[0m\u001b[0;36m50\u001b[0m\u001b[0;34m,\u001b[0m \u001b[0;34m\"o\"\u001b[0m\u001b[0;34m)\u001b[0m\u001b[0;34m\u001b[0m\n",
       "\u001b[0;34m\u001b[0m\u001b[0;34m\u001b[0m\n",
       "\u001b[0;34m\u001b[0m\u001b[0;32mdef\u001b[0m \u001b[0mheadline2\u001b[0m\u001b[0;34m(\u001b[0m\u001b[0;34m\u001b[0m\n",
       "\u001b[0;34m\u001b[0m    \u001b[0mtext\u001b[0m\u001b[0;34m,\u001b[0m\u001b[0;34m\u001b[0m\n",
       "\u001b[0;34m\u001b[0m    \u001b[0mwidth\u001b[0m\u001b[0;34m=\u001b[0m\u001b[0;36m80\u001b[0m\u001b[0;34m,\u001b[0m\u001b[0;34m\u001b[0m\n",
       "\u001b[0;34m\u001b[0m    \u001b[0mfill_char\u001b[0m\u001b[0;34m=\u001b[0m\u001b[0;34m'-'\u001b[0m\u001b[0;34m,\u001b[0m\u001b[0;34m\u001b[0m\n",
       "\u001b[0;34m\u001b[0m\u001b[0;34m)\u001b[0m\u001b[0;34m:\u001b[0m\u001b[0;34m\u001b[0m\n",
       "\u001b[0;34m\u001b[0m    \u001b[0;32mreturn\u001b[0m \u001b[0;34mf\" {text.title()} \"\u001b[0m\u001b[0;34m.\u001b[0m\u001b[0mcenter\u001b[0m\u001b[0;34m(\u001b[0m\u001b[0mwidth\u001b[0m\u001b[0;34m,\u001b[0m \u001b[0mfill_char\u001b[0m\u001b[0;34m)\u001b[0m\u001b[0;34m\u001b[0m\n",
       "\u001b[0;34m\u001b[0m\u001b[0;34m\u001b[0m\n",
       "\u001b[0;34m\u001b[0m\u001b[0;32mif\u001b[0m \u001b[0m__name__\u001b[0m\u001b[0;34m==\u001b[0m\u001b[0;34m'__main__'\u001b[0m\u001b[0;34m:\u001b[0m\u001b[0;34m\u001b[0m\n",
       "\u001b[0;34m\u001b[0m    \u001b[0mprint\u001b[0m\u001b[0;34m(\u001b[0m\u001b[0mheadline2\u001b[0m\u001b[0;34m(\u001b[0m\u001b[0;34m\"these type comments also work\"\u001b[0m\u001b[0;34m,\u001b[0m \u001b[0mwidth\u001b[0m\u001b[0;34m=\u001b[0m\u001b[0;36m70\u001b[0m\u001b[0;34m)\u001b[0m\u001b[0;34m)\u001b[0m\u001b[0;34m\u001b[0m\n",
       "\u001b[0;34m\u001b[0m    \u001b[0mprint\u001b[0m\u001b[0;34m(\u001b[0m\u001b[0mheadline\u001b[0m\u001b[0;34m(\u001b[0m\u001b[0;34m\"python type checking\"\u001b[0m\u001b[0;34m)\u001b[0m\u001b[0;34m)\u001b[0m\u001b[0;34m\u001b[0m\n",
       "\u001b[0;34m\u001b[0m    \u001b[0mprint\u001b[0m\u001b[0;34m(\u001b[0m\u001b[0mheadline\u001b[0m\u001b[0;34m(\u001b[0m\u001b[0;34m\"use mypy\"\u001b[0m\u001b[0;34m,\u001b[0m \u001b[0mcentered\u001b[0m\u001b[0;34m=\u001b[0m\u001b[0;32mTrue\u001b[0m\u001b[0;34m)\u001b[0m\u001b[0;34m)\u001b[0m\u001b[0;34m\u001b[0m\n",
       "\u001b[0;34m\u001b[0m\u001b[0;34m\u001b[0m\n",
       "\u001b[0;34m\u001b[0m    \u001b[0mpi\u001b[0m \u001b[0;34m=\u001b[0m \u001b[0;36m3.142\u001b[0m \u001b[0;31m# type: float\u001b[0m\u001b[0;34m\u001b[0m\n",
       "\u001b[0;34m\u001b[0m\u001b[0;34m\u001b[0m\n",
       "\u001b[0;34m\u001b[0m    \u001b[0;32mtry\u001b[0m\u001b[0;34m:\u001b[0m\u001b[0;34m\u001b[0m\n",
       "\u001b[0;34m\u001b[0m        \u001b[0mprint\u001b[0m\u001b[0;34m(\u001b[0m\u001b[0mheadline\u001b[0m\u001b[0;34m(\u001b[0m\u001b[0mpi\u001b[0m\u001b[0;34m)\u001b[0m\u001b[0;34m)\u001b[0m  \u001b[0;31m# will throw an error\u001b[0m\u001b[0;34m\u001b[0m\n",
       "\u001b[0;34m\u001b[0m    \u001b[0;32mexcept\u001b[0m \u001b[0mException\u001b[0m \u001b[0;32mas\u001b[0m \u001b[0merr\u001b[0m\u001b[0;34m:\u001b[0m\u001b[0;34m\u001b[0m\n",
       "\u001b[0;34m\u001b[0m        \u001b[0mprint\u001b[0m\u001b[0;34m(\u001b[0m\u001b[0;34mf'error! {err}'\u001b[0m\u001b[0;34m)\u001b[0m\u001b[0;34m\u001b[0m\u001b[0;34m\u001b[0m\u001b[0m\n"
      ]
     },
     "metadata": {},
     "output_type": "display_data"
    }
   ],
   "source": [
    "??type_annotation"
   ]
  },
  {
   "cell_type": "code",
   "execution_count": 12,
   "id": "85b8bb33-3be1-4525-bc8c-3f61c267c61e",
   "metadata": {},
   "outputs": [
    {
     "data": {
      "text/plain": [
       "\u001b[0;31mType:\u001b[0m        module\n",
       "\u001b[0;31mString form:\u001b[0m <module 'pyExamples.typing.type_hinting' from '/data/pyExamples/pyExamples/typing/type_hinting.py'>\n",
       "\u001b[0;31mFile:\u001b[0m        /data/pyExamples/pyExamples/typing/type_hinting.py\n",
       "\u001b[0;31mSource:\u001b[0m     \n",
       "\u001b[0;32mdef\u001b[0m \u001b[0mheadline\u001b[0m\u001b[0;34m(\u001b[0m\u001b[0mtext\u001b[0m\u001b[0;34m:\u001b[0m \u001b[0mstr\u001b[0m\u001b[0;34m,\u001b[0m \u001b[0mcentered\u001b[0m\u001b[0;34m:\u001b[0m \u001b[0mbool\u001b[0m \u001b[0;34m=\u001b[0m \u001b[0;32mFalse\u001b[0m\u001b[0;34m)\u001b[0m \u001b[0;34m->\u001b[0m \u001b[0mstr\u001b[0m\u001b[0;34m:\u001b[0m\u001b[0;34m\u001b[0m\n",
       "\u001b[0;34m\u001b[0m    \u001b[0;32mif\u001b[0m \u001b[0;32mnot\u001b[0m \u001b[0mcentered\u001b[0m\u001b[0;34m:\u001b[0m\u001b[0;34m\u001b[0m\n",
       "\u001b[0;34m\u001b[0m        \u001b[0;32mreturn\u001b[0m \u001b[0;34mf\"{text.title()}\\n{'-' * len(text)}\"\u001b[0m\u001b[0;34m\u001b[0m\n",
       "\u001b[0;34m\u001b[0m    \u001b[0;32melse\u001b[0m\u001b[0;34m:\u001b[0m\u001b[0;34m\u001b[0m\n",
       "\u001b[0;34m\u001b[0m        \u001b[0;32mreturn\u001b[0m \u001b[0;34mf\" {text.title()} \"\u001b[0m\u001b[0;34m.\u001b[0m\u001b[0mcenter\u001b[0m\u001b[0;34m(\u001b[0m\u001b[0;36m50\u001b[0m\u001b[0;34m,\u001b[0m \u001b[0;34m\"o\"\u001b[0m\u001b[0;34m)\u001b[0m\u001b[0;34m\u001b[0m\n",
       "\u001b[0;34m\u001b[0m    \u001b[0;34m\u001b[0m\n",
       "\u001b[0;34m\u001b[0m\u001b[0;32mif\u001b[0m \u001b[0m__name__\u001b[0m\u001b[0;34m==\u001b[0m\u001b[0;34m'__main___'\u001b[0m\u001b[0;34m:\u001b[0m\u001b[0;34m\u001b[0m\n",
       "\u001b[0;34m\u001b[0m    \u001b[0mprint\u001b[0m\u001b[0;34m(\u001b[0m\u001b[0mheadline\u001b[0m\u001b[0;34m(\u001b[0m\u001b[0;34m\"python type checking\"\u001b[0m\u001b[0;34m)\u001b[0m\u001b[0;34m)\u001b[0m\u001b[0;34m\u001b[0m\n",
       "\u001b[0;34m\u001b[0m    \u001b[0mprint\u001b[0m\u001b[0;34m(\u001b[0m\u001b[0mheadline\u001b[0m\u001b[0;34m(\u001b[0m\u001b[0;34m\"use mypy\"\u001b[0m\u001b[0;34m,\u001b[0m \u001b[0mcentered\u001b[0m\u001b[0;34m=\u001b[0m\u001b[0;32mTrue\u001b[0m\u001b[0;34m)\u001b[0m\u001b[0;34m)\u001b[0m\u001b[0;34m\u001b[0m\u001b[0;34m\u001b[0m\u001b[0m\n"
      ]
     },
     "metadata": {},
     "output_type": "display_data"
    }
   ],
   "source": [
    "??type_hinting"
   ]
  },
  {
   "cell_type": "code",
   "execution_count": 13,
   "id": "9c22e4ed-df83-49c6-94be-77cec624e40a",
   "metadata": {
    "tags": []
   },
   "outputs": [
    {
     "data": {
      "text/plain": [
       "['In',\n",
       " 'Out',\n",
       " '_',\n",
       " '_10',\n",
       " '_2',\n",
       " '_7',\n",
       " '__',\n",
       " '___',\n",
       " '__builtin__',\n",
       " '__builtins__',\n",
       " '__doc__',\n",
       " '__loader__',\n",
       " '__name__',\n",
       " '__package__',\n",
       " '__spec__',\n",
       " '_dh',\n",
       " '_i',\n",
       " '_i1',\n",
       " '_i10',\n",
       " '_i11',\n",
       " '_i12',\n",
       " '_i13',\n",
       " '_i2',\n",
       " '_i3',\n",
       " '_i4',\n",
       " '_i5',\n",
       " '_i6',\n",
       " '_i7',\n",
       " '_i8',\n",
       " '_i9',\n",
       " '_ih',\n",
       " '_ii',\n",
       " '_iii',\n",
       " '_oh',\n",
       " 'exit',\n",
       " 'get_ipython',\n",
       " 'quit',\n",
       " 'type_annotation',\n",
       " 'type_hinting',\n",
       " 'typing']"
      ]
     },
     "execution_count": 13,
     "metadata": {},
     "output_type": "execute_result"
    }
   ],
   "source": [
    "dir()"
   ]
  },
  {
   "cell_type": "code",
   "execution_count": 1,
   "id": "02565220-a29d-4fa0-acde-efe4d6d1aec5",
   "metadata": {},
   "outputs": [
    {
     "name": "stdout",
     "output_type": "stream",
     "text": [
      "This is the typing tutorial\n"
     ]
    },
    {
     "data": {
      "text/plain": [
       "'Hello\\n-----'"
      ]
     },
     "execution_count": 1,
     "metadata": {},
     "output_type": "execute_result"
    }
   ],
   "source": [
    "import pyExamples.typing.ex1_type_hinting as ex1_type_hinting\n",
    "\n",
    "ex1_type_hinting.headline(\"hello\")"
   ]
  },
  {
   "cell_type": "code",
   "execution_count": 6,
   "id": "475ced4b-0667-467e-84d0-59a83883dc65",
   "metadata": {},
   "outputs": [],
   "source": [
    "import pyExamples.typing as typing\n",
    "\n",
    "# typing.ex1_type_hinting.headline(\"hello\")"
   ]
  },
  {
   "cell_type": "code",
   "execution_count": 6,
   "id": "cfd45d3b",
   "metadata": {},
   "outputs": [
    {
     "data": {
      "text/plain": [
       "{'text': str, 'centered': bool, 'return': str}"
      ]
     },
     "execution_count": 6,
     "metadata": {},
     "output_type": "execute_result"
    }
   ],
   "source": [
    "from pyExamples import typing\n",
    "\n",
    "headline = typing.type_hinting.headline\n",
    "headline.__annotations__\n",
    "# {'text': str, 'align': bool, 'return': str}"
   ]
  },
  {
   "cell_type": "markdown",
   "id": "096d9028",
   "metadata": {},
   "source": [
    "### Type Annotations in legacy code"
   ]
  },
  {
   "cell_type": "markdown",
   "id": "5eae3a4e",
   "metadata": {},
   "source": [
    "Type Comments is a practice of hinting types in `python2` code which is generally unable to support type hinting. For example:\n",
    "\n",
    "```python\n",
    "def healine1(text, width==80, fill_char=\"-\"):\n",
    "    #type: (str, int, str) -> str\n",
    "    return f\" {text.title()} \".center(width, fill_char)\n",
    "\n",
    "```{code-cell} ipython3\n",
    "!mypy headlines-python2.py\n",
    "```\n",
    "\n",
    "`[ ]` `mypy` could be run as part of `make test`"
   ]
  },
  {
   "cell_type": "markdown",
   "id": "9556f7c6",
   "metadata": {},
   "source": [
    "### References\n",
    "\n",
    "1. [the state of type hints in python -- Bernát Gábor](https://bernat.tech/posts/the-state-of-type-hints-in-python)"
   ]
  }
 ],
 "metadata": {
  "kernelspec": {
   "display_name": "Python 3 (ipykernel)",
   "language": "python",
   "name": "python3"
  },
  "language_info": {
   "codemirror_mode": {
    "name": "ipython",
    "version": 3
   },
   "file_extension": ".py",
   "mimetype": "text/x-python",
   "name": "python",
   "nbconvert_exporter": "python",
   "pygments_lexer": "ipython3",
   "version": "3.10.0"
  }
 },
 "nbformat": 4,
 "nbformat_minor": 5
}
