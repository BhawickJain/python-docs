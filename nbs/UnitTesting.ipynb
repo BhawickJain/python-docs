{
 "cells": [
  {
   "cell_type": "markdown",
   "id": "fifty-google",
   "metadata": {},
   "source": [
    "### Unit Testing"
   ]
  },
  {
   "cell_type": "markdown",
   "id": "temporal-anaheim",
   "metadata": {},
   "source": [
    "Notes on Unit Testing in Python"
   ]
  },
  {
   "cell_type": "code",
   "execution_count": 1,
   "id": "formal-andrew",
   "metadata": {},
   "outputs": [],
   "source": [
    "import src.calc as calc"
   ]
  },
  {
   "cell_type": "markdown",
   "id": "thousand-madonna",
   "metadata": {},
   "source": [
    "The `calc` module offers a few math functions which we'll test to see it they work."
   ]
  },
  {
   "cell_type": "code",
   "execution_count": 8,
   "id": "immune-context",
   "metadata": {},
   "outputs": [
    {
     "data": {
      "text/plain": [
       "9"
      ]
     },
     "execution_count": 8,
     "metadata": {},
     "output_type": "execute_result"
    }
   ],
   "source": [
    "calc.add(4,5)"
   ]
  },
  {
   "cell_type": "markdown",
   "id": "based-hawaiian",
   "metadata": {},
   "source": [
    "within `src/test_calc.py` we have the unit testing module, which some code to test the first function in `calc`"
   ]
  },
  {
   "cell_type": "raw",
   "id": "vocational-lounge",
   "metadata": {},
   "source": [
    "import unittest\n",
    "import calc\n",
    "\n",
    "class TestCalc(unittest.TestCase):\n",
    "    \n",
    "    def test_add(self):\n",
    "        result = calc.add(10,5)\n",
    "        self.assertEqual(result, 15)\n",
    "        \n",
    "if __name__ == \"__main__\":\n",
    "    unittest.main()"
   ]
  },
  {
   "cell_type": "raw",
   "id": "chubby-tucson",
   "metadata": {},
   "source": [
    "Notice `line 10` which calls unittest.main() when the module is called directly like below."
   ]
  },
  {
   "cell_type": "code",
   "execution_count": 2,
   "id": "greatest-morning",
   "metadata": {},
   "outputs": [
    {
     "name": "stdout",
     "output_type": "stream",
     "text": [
      "setupClass\n",
      "....teardownClass\n",
      "\n",
      "----------------------------------------------------------------------\n",
      "Ran 4 tests in 0.002s\n",
      "\n",
      "OK\n"
     ]
    }
   ],
   "source": [
    "! python ./src/test_calc.py"
   ]
  },
  {
   "cell_type": "markdown",
   "id": "worth-embassy",
   "metadata": {},
   "source": [
    "There are 4 tests inside the `test_calc.py` file, their successful run is represented as a dot `.` in the terminal."
   ]
  },
  {
   "cell_type": "markdown",
   "id": "welsh-bumper",
   "metadata": {},
   "source": [
    "this is to prevent having to write the below which makes automating testing awkward:"
   ]
  },
  {
   "cell_type": "raw",
   "id": "neither-sullivan",
   "metadata": {},
   "source": [
    "! python -m unittest ./src/test_calc.py"
   ]
  },
  {
   "cell_type": "raw",
   "id": "bottom-reservoir",
   "metadata": {},
   "source": [
    "[...]\n",
    "\n",
    "    def test_divide(self):\n",
    "    \n",
    "        result = calc.divide(10,5)\n",
    "        self.assertEqual(result, 2)\n",
    "       \n",
    "        self.assertRaises(ZeroDivisionError, calc.divide, 10, 0)\n",
    "        \n",
    "[...]"
   ]
  },
  {
   "cell_type": "markdown",
   "id": "automotive-continuity",
   "metadata": {},
   "source": [
    "You can have multiple assertions under the same test, although it may be harder to tell which of those tests failed. The example above also shows how you can use the `assertRaises` function to see if the correct error is thrown."
   ]
  },
  {
   "cell_type": "markdown",
   "id": "tender-phone",
   "metadata": {},
   "source": [
    "You can also use a Context Manager to assert this test:"
   ]
  },
  {
   "cell_type": "raw",
   "id": "expressed-phrase",
   "metadata": {},
   "source": [
    "[...] \n",
    "\n",
    "    def test_divide(self):\n",
    "    \n",
    "        with self.assertRaises(ZeroDivisionError):\n",
    "            calc.divide(10,0)\n",
    "    \n",
    "[...]"
   ]
  },
  {
   "cell_type": "code",
   "execution_count": 27,
   "id": "sealed-wings",
   "metadata": {},
   "outputs": [],
   "source": [
    "import src.test_calc as test_calc"
   ]
  },
  {
   "cell_type": "markdown",
   "id": "computational-repair",
   "metadata": {},
   "source": [
    "Unittest offers some `@classmethod` which allows some code to be run before and after all the tests. A good reference to classmethods is [[so-class-static-method](https://stackoverflow.com/questions/12179271/meaning-of-classmethod-and-staticmethod-for-beginner)]."
   ]
  },
  {
   "cell_type": "raw",
   "id": "blind-range",
   "metadata": {},
   "source": [
    "class TestCalc(unittest.TestCase):\n",
    "\n",
    "    @classmethod\n",
    "    def setUpClass(cls):\n",
    "        \"\"\"Runs before all tests, useful for setup of stateful elements.\"\"\"\n",
    "        print('setupClass')\n",
    "    \n",
    "    @classmethod\n",
    "    def tearDownClass(cls):\n",
    "        \"\"\"Runs after all tests, useful to post cleanup of stateful elements\"\"\"\n",
    "        print('teardownClass')\n",
    "\n",
    "[...] "
   ]
  },
  {
   "cell_type": "markdown",
   "id": "aerial-fireplace",
   "metadata": {},
   "source": [
    "`[?]` How do you mock with Unit Tests?\n",
    "\n",
    "see [[shafer-unittesting](https://youtu.be/6tNS--WetLI?t=1738)]"
   ]
  },
  {
   "cell_type": "code",
   "execution_count": 28,
   "id": "canadian-employee",
   "metadata": {},
   "outputs": [],
   "source": [
    "from unittest.mock import patch"
   ]
  }
 ],
 "metadata": {
  "jupytext": {
   "formats": "ipynb,md"
  },
  "kernelspec": {
   "display_name": "Python 3 (ipykernel)",
   "language": "python",
   "name": "python3"
  },
  "language_info": {
   "codemirror_mode": {
    "name": "ipython",
    "version": 3
   },
   "file_extension": ".py",
   "mimetype": "text/x-python",
   "name": "python",
   "nbconvert_exporter": "python",
   "pygments_lexer": "ipython3",
   "version": "3.9.2"
  }
 },
 "nbformat": 4,
 "nbformat_minor": 5
}
