{
 "cells": [
  {
   "cell_type": "markdown",
   "id": "a08b03be",
   "metadata": {},
   "source": [
    "## pytest\n",
    "\n",
    "`pytest` is a testing framework that make it easy to write small tests, and it very capable at sacling to support complex functional testing for applications and libraries. In fact pytest was [used to support](https://docs.github.com/en/account-and-profile/setting-up-and-managing-your-github-profile/customizing-your-profile/personalizing-your-profile#list-of-qualifying-repositories-for-mars-2020-helicopter-contributor-badge) building NASA's software that enabled [Ingenuity](https://github.blog/2021-04-19-open-source-goes-to-mars/) to fly on Mars!"
   ]
  },
  {
   "cell_type": "code",
   "execution_count": null,
   "id": "b22ae806",
   "metadata": {},
   "outputs": [],
   "source": [
    "!pip install pytest"
   ]
  },
  {
   "cell_type": "markdown",
   "id": "23834192",
   "metadata": {},
   "source": [
    "`pytest` runs all fiels with `*_test.py` or `test_*` names"
   ]
  },
  {
   "cell_type": "code",
   "execution_count": null,
   "id": "74b612ae",
   "metadata": {},
   "outputs": [],
   "source": [
    "!pytest"
   ]
  },
  {
   "cell_type": "markdown",
   "id": "3b759c6d",
   "metadata": {},
   "source": [
    "If you want to run quietly"
   ]
  },
  {
   "cell_type": "code",
   "execution_count": null,
   "id": "89506905",
   "metadata": {},
   "outputs": [],
   "source": [
    "!pytest -q"
   ]
  },
  {
   "cell_type": "code",
   "execution_count": null,
   "id": "5006bb18",
   "metadata": {},
   "outputs": [],
   "source": [
    "Take a look at `src/calc` to see how each test qoek"
   ]
  },
  {
   "cell_type": "code",
   "execution_count": null,
   "id": "381cd235",
   "metadata": {},
   "outputs": [],
   "source": [
    "local()"
   ]
  }
 ],
 "metadata": {
  "jupytext": {
   "cell_metadata_filter": "-all",
   "formats": "ipynb,md:myst",
   "main_language": "python",
   "notebook_metadata_filter": "-all",
   "text_representation": {
    "extension": ".md",
    "format_name": "markdown"
   }
  },
  "kernelspec": {
   "display_name": "Python 3 (ipykernel)",
   "language": "python",
   "name": "python3"
  },
  "language_info": {
   "codemirror_mode": {
    "name": "ipython",
    "version": 3
   },
   "file_extension": ".py",
   "mimetype": "text/x-python",
   "name": "python",
   "nbconvert_exporter": "python",
   "pygments_lexer": "ipython3",
   "version": "3.9.2"
  }
 },
 "nbformat": 4,
 "nbformat_minor": 5
}
