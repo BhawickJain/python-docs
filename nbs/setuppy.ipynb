{
 "cells": [
  {
   "cell_type": "markdown",
   "id": "e6c6d3f5-cfe0-45ef-9dab-abceb272c5fc",
   "metadata": {},
   "source": [
    "## `Setup.py`"
   ]
  },
  {
   "cell_type": "markdown",
   "id": "eb3ac35d-8562-484c-a55b-c5638b52c5df",
   "metadata": {},
   "source": [
    "`setup.py` is file that contains all the necessary information for a package installer to setup, compile and dsitribute the package. `setuptools` automate away the setup of a package during installation via package managers like `pip`. The `disutils` library helps distribute the module to package repos like PyPi."
   ]
  },
  {
   "cell_type": "code",
   "execution_count": 1,
   "id": "61da2aad-f711-4227-801f-5e23a06d3ba8",
   "metadata": {},
   "outputs": [
    {
     "name": "stdout",
     "output_type": "stream",
     "text": [
      "from setuptools import setup, find_packages\n",
      "\n",
      "\n",
      "with open('README.md') as f:\n",
      "     readme = f.read()\n",
      "\n",
      "# with open('LICENSE') as f:\n",
      "#     license = f.read()\n",
      "\n",
      "setup(\n",
      "    name='pyExamples',\n",
      "    version='0.1.0',\n",
      "    description='example code snippets to demonstrate software patterns in python',\n",
      "    long_description=readme,\n",
      "    author='Bhawick',\n",
      "    author_email='',\n",
      "    url='',\n",
      "    license='',\n",
      "    packages=find_packages(exclude=('tests', 'docs'))\n",
      ")\n"
     ]
    }
   ],
   "source": [
    "!cat ../pyExamples/setup.py"
   ]
  },
  {
   "cell_type": "markdown",
   "id": "81b90e4a-a733-4312-83e3-f2a05f289fce",
   "metadata": {},
   "source": [
    "```python\n",
    "from setuptools import setup, find_packages\n",
    "\n",
    "\n",
    "with open('README.md') as f:\n",
    "     readme = f.read()\n",
    "\n",
    "# with open('LICENSE') as f:\n",
    "#     license = f.read()\n",
    "\n",
    "setup(\n",
    "    name='pyExamples',\n",
    "    version='0.1.0',\n",
    "    description='example code snippets to demonstrate software patterns in python',\n",
    "    long_description=readme,\n",
    "    author='Bhawick',\n",
    "    author_email='',\n",
    "    url='',\n",
    "    license='',\n",
    "    packages=find_packages(exclude=('tests', 'docs')) # use find packages module \n",
    "                                                      # to install dependencies\n",
    "                                                      # automatically, exclude\n",
    "                                                      # test and doc folders.\n",
    ")\n",
    "```"
   ]
  },
  {
   "cell_type": "markdown",
   "id": "741272d9-f611-4b81-a008-f781b62068c8",
   "metadata": {},
   "source": [
    "Much like `npm` `package.json` files in Javascript projects, you also setup comands which can be called in the following patten `python setup.py [command]`\n",
    "\n",
    "This technically elleviates the need for `Makefile` but for the simplicity's sake and perhaps separating development details, it is used [2]. The following example demonstrates how you would include scripts in `setup.py`"
   ]
  },
  {
   "cell_type": "markdown",
   "id": "719148ec-a4ba-4973-a5e9-4c3f319be4cf",
   "metadata": {},
   "source": [
    "```python \n",
    "from setuptools import setup\n",
    "\n",
    "with open(\"README\", 'r') as f:\n",
    "    long_description = f.read()\n",
    "\n",
    "setup(\n",
    "   name='foo',\n",
    "   version='1.0',\n",
    "   description='A useful module',\n",
    "   license=\"MIT\",\n",
    "   long_description=long_description,\n",
    "   author='Man Foo',\n",
    "   author_email='foomail@foo.com',\n",
    "   url=\"http://www.foopackage.com/\",\n",
    "   packages=['foo'],  #same as name\n",
    "   install_requires=['wheel', 'bar', 'greek'], #external packages as dependencies\n",
    "   scripts=[\n",
    "            'scripts/cool',\n",
    "            'scripts/skype',\n",
    "           ]\n",
    ")\n",
    "```"
   ]
  },
  {
   "cell_type": "markdown",
   "id": "3711e706-967c-4072-b3ed-2fc40400c02d",
   "metadata": {},
   "source": [
    "`pip install .`"
   ]
  },
  {
   "cell_type": "markdown",
   "id": "9b396ace-0ab0-47bc-b366-98ae737a4575",
   "metadata": {},
   "source": [
    "Avoid calling `setup.py` directly instead let the package manager like `pip` to handle the installation. The `setup.py` file indicates that the folder is a module/package to the package manager."
   ]
  },
  {
   "cell_type": "markdown",
   "id": "dec6b1f8-3464-4afd-89dc-18464a6b570f",
   "metadata": {},
   "source": [
    "`pip install -e .`"
   ]
  },
  {
   "cell_type": "markdown",
   "id": "08ab6ef3-71e1-4bc4-a1e8-432dbfd48140",
   "metadata": {},
   "source": [
    "During development use can also use the `-e` flag to install the package you are working on in development mode."
   ]
  },
  {
   "cell_type": "markdown",
   "id": "0a47c0fc-fece-4897-9ef3-1ef69089cef8",
   "metadata": {},
   "source": [
    "Notice how when installed in development, python will now look at additional folders, including your local package folder when you reference (`from`/`import`) modules."
   ]
  },
  {
   "cell_type": "code",
   "execution_count": 2,
   "id": "e7b0a6c0-ece1-4986-9cb4-3625802d2e03",
   "metadata": {
    "tags": []
   },
   "outputs": [
    {
     "data": {
      "text/plain": [
       "['/data/nbs',\n",
       " '/usr/local/lib/python310.zip',\n",
       " '/usr/local/lib/python3.10',\n",
       " '/usr/local/lib/python3.10/lib-dynload',\n",
       " '',\n",
       " '/usr/local/lib/python3.10/site-packages',\n",
       " '/usr/local/lib/python3.10/site-packages/IPython/extensions',\n",
       " '/root/.ipython']"
      ]
     },
     "execution_count": 2,
     "metadata": {},
     "output_type": "execute_result"
    }
   ],
   "source": [
    "import sys\n",
    "sys.path\n",
    "\n",
    "# ['/data/nbs',\n",
    "#  '/usr/local/lib/python39.zip',\n",
    "#  '/usr/local/lib/python3.9',\n",
    "#  '/usr/local/lib/python3.9/lib-dynload',\n",
    "#  '',\n",
    "#  '/usr/local/lib/python3.9/site-packages',\n",
    "#  '/data/pyExamples',\n",
    "#  '/usr/local/lib/python3.9/site-packages/IPython/extensions',\n",
    "#  '/root/.ipython']"
   ]
  },
  {
   "cell_type": "markdown",
   "id": "9dafed78-1466-4f40-8c66-e4c90020e803",
   "metadata": {},
   "source": [
    "Common features in more advanced setup.py files is extraction of metadata is more user friendly places. For example, the version of a package may be placed in a single filea at the top level, which `setup.py` has to read and extract. Other problems could dependencies and tracing of versions, during package installation. In the `pytorch vision` `setup.py` the version file is written during installation to reflect the package but also indicate CUDA dependencies on the machine environment instelf."
   ]
  },
  {
   "cell_type": "code",
   "execution_count": 1,
   "id": "9deba0fc-a566-4aa9-91b7-2325ff4c3f81",
   "metadata": {
    "collapsed": true,
    "jupyter": {
     "outputs_hidden": true
    },
    "tags": []
   },
   "outputs": [
    {
     "data": {
      "text/plain": [
       "\u001b[0;31mInit signature:\u001b[0m  \u001b[0msetuppy\u001b[0m\u001b[0;34m.\u001b[0m\u001b[0mex1_pytorch\u001b[0m\u001b[0;34m.\u001b[0m\u001b[0mclean\u001b[0m\u001b[0;34m(\u001b[0m\u001b[0mdist\u001b[0m\u001b[0;34m,\u001b[0m \u001b[0;34m**\u001b[0m\u001b[0mkw\u001b[0m\u001b[0;34m)\u001b[0m\u001b[0;34m\u001b[0m\u001b[0;34m\u001b[0m\u001b[0m\n",
       "\u001b[0;31mDocstring:\u001b[0m     \n",
       "Abstract base class for defining command classes, the \"worker bees\"\n",
       "of the Distutils.  A useful analogy for command classes is to think of\n",
       "them as subroutines with local variables called \"options\".  The options\n",
       "are \"declared\" in 'initialize_options()' and \"defined\" (given their\n",
       "final values, aka \"finalized\") in 'finalize_options()', both of which\n",
       "must be defined by every command class.  The distinction between the\n",
       "two is necessary because option values might come from the outside\n",
       "world (command line, config file, ...), and any options dependent on\n",
       "other options must be computed *after* these outside influences have\n",
       "been processed -- hence 'finalize_options()'.  The \"body\" of the\n",
       "subroutine, where it does all its work based on the values of its\n",
       "options, is the 'run()' method, which must also be implemented by every\n",
       "command class.\n",
       "\u001b[0;31mSource:\u001b[0m        \n",
       "\u001b[0;32mclass\u001b[0m \u001b[0mclean\u001b[0m\u001b[0;34m(\u001b[0m\u001b[0mdistutils\u001b[0m\u001b[0;34m.\u001b[0m\u001b[0mcommand\u001b[0m\u001b[0;34m.\u001b[0m\u001b[0mclean\u001b[0m\u001b[0;34m.\u001b[0m\u001b[0mclean\u001b[0m\u001b[0;34m)\u001b[0m\u001b[0;34m:\u001b[0m\u001b[0;34m\u001b[0m\n",
       "\u001b[0;34m\u001b[0m    \u001b[0;32mdef\u001b[0m \u001b[0mrun\u001b[0m\u001b[0;34m(\u001b[0m\u001b[0mself\u001b[0m\u001b[0;34m)\u001b[0m\u001b[0;34m:\u001b[0m\u001b[0;34m\u001b[0m\n",
       "\u001b[0;34m\u001b[0m        \u001b[0;32mwith\u001b[0m \u001b[0mopen\u001b[0m\u001b[0;34m(\u001b[0m\u001b[0;34m'.gitignore'\u001b[0m\u001b[0;34m,\u001b[0m \u001b[0;34m'r'\u001b[0m\u001b[0;34m)\u001b[0m \u001b[0;32mas\u001b[0m \u001b[0mf\u001b[0m\u001b[0;34m:\u001b[0m\u001b[0;34m\u001b[0m\n",
       "\u001b[0;34m\u001b[0m            \u001b[0mignores\u001b[0m \u001b[0;34m=\u001b[0m \u001b[0mf\u001b[0m\u001b[0;34m.\u001b[0m\u001b[0mread\u001b[0m\u001b[0;34m(\u001b[0m\u001b[0;34m)\u001b[0m\u001b[0;34m\u001b[0m\n",
       "\u001b[0;34m\u001b[0m            \u001b[0;32mfor\u001b[0m \u001b[0mwildcard\u001b[0m \u001b[0;32min\u001b[0m \u001b[0mfilter\u001b[0m\u001b[0;34m(\u001b[0m\u001b[0;32mNone\u001b[0m\u001b[0;34m,\u001b[0m \u001b[0mignores\u001b[0m\u001b[0;34m.\u001b[0m\u001b[0msplit\u001b[0m\u001b[0;34m(\u001b[0m\u001b[0;34m'\\n'\u001b[0m\u001b[0;34m)\u001b[0m\u001b[0;34m)\u001b[0m\u001b[0;34m:\u001b[0m\u001b[0;34m\u001b[0m\n",
       "\u001b[0;34m\u001b[0m                \u001b[0;32mfor\u001b[0m \u001b[0mfilename\u001b[0m \u001b[0;32min\u001b[0m \u001b[0mglob\u001b[0m\u001b[0;34m.\u001b[0m\u001b[0mglob\u001b[0m\u001b[0;34m(\u001b[0m\u001b[0mwildcard\u001b[0m\u001b[0;34m)\u001b[0m\u001b[0;34m:\u001b[0m\u001b[0;34m\u001b[0m\n",
       "\u001b[0;34m\u001b[0m                    \u001b[0;32mtry\u001b[0m\u001b[0;34m:\u001b[0m\u001b[0;34m\u001b[0m\n",
       "\u001b[0;34m\u001b[0m                        \u001b[0mos\u001b[0m\u001b[0;34m.\u001b[0m\u001b[0mremove\u001b[0m\u001b[0;34m(\u001b[0m\u001b[0mfilename\u001b[0m\u001b[0;34m)\u001b[0m\u001b[0;34m\u001b[0m\n",
       "\u001b[0;34m\u001b[0m                    \u001b[0;32mexcept\u001b[0m \u001b[0mOSError\u001b[0m\u001b[0;34m:\u001b[0m\u001b[0;34m\u001b[0m\n",
       "\u001b[0;34m\u001b[0m                        \u001b[0mshutil\u001b[0m\u001b[0;34m.\u001b[0m\u001b[0mrmtree\u001b[0m\u001b[0;34m(\u001b[0m\u001b[0mfilename\u001b[0m\u001b[0;34m,\u001b[0m \u001b[0mignore_errors\u001b[0m\u001b[0;34m=\u001b[0m\u001b[0;32mTrue\u001b[0m\u001b[0;34m)\u001b[0m\u001b[0;34m\u001b[0m\n",
       "\u001b[0;34m\u001b[0m\u001b[0;34m\u001b[0m\n",
       "\u001b[0;34m\u001b[0m        \u001b[0;31m# It's an old-style class in Python 2.7...\u001b[0m\u001b[0;34m\u001b[0m\n",
       "\u001b[0;34m\u001b[0m        \u001b[0mdistutils\u001b[0m\u001b[0;34m.\u001b[0m\u001b[0mcommand\u001b[0m\u001b[0;34m.\u001b[0m\u001b[0mclean\u001b[0m\u001b[0;34m.\u001b[0m\u001b[0mclean\u001b[0m\u001b[0;34m.\u001b[0m\u001b[0mrun\u001b[0m\u001b[0;34m(\u001b[0m\u001b[0mself\u001b[0m\u001b[0;34m)\u001b[0m\u001b[0;34m\u001b[0m\u001b[0;34m\u001b[0m\u001b[0m\n",
       "\u001b[0;31mFile:\u001b[0m           /data/pyExamples/pyExamples/setuppy/ex1_pytorch.py\n",
       "\u001b[0;31mType:\u001b[0m           type\n",
       "\u001b[0;31mSubclasses:\u001b[0m     \n"
      ]
     },
     "metadata": {},
     "output_type": "display_data"
    }
   ],
   "source": [
    "from pyExamples import setuppy\n",
    "\n",
    "?? setuppy.ex1_pytorch.clean"
   ]
  },
  {
   "cell_type": "markdown",
   "id": "30ccdfcc-3219-42f7-a8d9-d93bb55b67d7",
   "metadata": {},
   "source": [
    "## References\n",
    "1. [setup.py (for humans) -- Kenneth Reitz](https://github.com/kennethreitz/setup.py)\n",
    "2. [FastAi Deep Learning LIbrary - Makefile -- Jeremy Howward, Seylvian Guggger (github)](https://github.com/fastai/fastai/blob/master/Makefile)\n",
    "3. [Example of a real / advanced `setup.py` file -- (pytorch)](https://github.com/pytorch/vision/blob/master/setup.py)\n",
    "4. [Python Packaging Using Guide -- (python.org)](https://packaging.python.org)\n",
    "5. [Cookie Cutter PyPackage template -- Audrey Feldroy (github)](https://github.com/audreyfeldroy/cookiecutter-pypackage)"
   ]
  }
 ],
 "metadata": {
  "jupytext": {
   "formats": "ipynb,md:myst"
  },
  "kernelspec": {
   "display_name": "Python 3 (ipykernel)",
   "language": "python",
   "name": "python3"
  },
  "language_info": {
   "codemirror_mode": {
    "name": "ipython",
    "version": 3
   },
   "file_extension": ".py",
   "mimetype": "text/x-python",
   "name": "python",
   "nbconvert_exporter": "python",
   "pygments_lexer": "ipython3",
   "version": "3.10.0"
  }
 },
 "nbformat": 4,
 "nbformat_minor": 5
}
