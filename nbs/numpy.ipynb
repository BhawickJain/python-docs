{
 "cells": [
  {
   "cell_type": "raw",
   "id": "6ed8b659",
   "metadata": {},
   "source": [
    "---\n",
    "title: Notes of Introduction to Numerical Computing with NumPy by Alex Chabot-Leclerc\n",
    "date: 06/07/2021 \n",
    "author:\n",
    " - Bhawick Jain\n",
    "or: 20210706194228\n",
    "---"
   ]
  },
  {
   "cell_type": "markdown",
   "id": "cff1eb41",
   "metadata": {},
   "source": [
    "### Simple problem statement"
   ]
  },
  {
   "cell_type": "code",
   "execution_count": null,
   "id": "c75d2e23",
   "metadata": {},
   "outputs": [],
   "source": [
    ">>> a = [1,2,3,4,5]\n",
    ">>> b = [10,11,12,13,14]\n",
    "\n",
    ">>> a + b\n",
    "[1,2,3,4,5,10,11,12,13,14]"
   ]
  },
  {
   "cell_type": "markdown",
   "id": "a6d61f8f",
   "metadata": {},
   "source": [
    "This is an unexpected result if you thought `a` and `b` are matrices. In standard python arrays you need perform a pairwise addition as follows:"
   ]
  },
  {
   "cell_type": "code",
   "execution_count": null,
   "id": "fb1a9454",
   "metadata": {},
   "outputs": [],
   "source": [
    ">>> c = []\n",
    ">>> for i,j in zip(a,b):\n",
    "        c.append(i,j)"
   ]
  },
  {
   "cell_type": "markdown",
   "id": "a8326a76",
   "metadata": {},
   "source": [
    "This is a single dimensional matrix, and addition. There are an enormous number of matrix operations which needs to process efficiently without the pain of having to code that yourself. This is where NumPy begins."
   ]
  },
  {
   "cell_type": "code",
   "execution_count": null,
   "id": "fb497ded",
   "metadata": {
    "lines_to_next_cell": 0
   },
   "outputs": [],
   "source": [
    "import numpy as np\n",
    "\n",
    "a = np.array([1,2,3,4])\n",
    "b = np.array([10,11,12,13])\n",
    "\n",
    "c = a + b\n",
    "c\n",
    "# [11,13,15,17]"
   ]
  },
  {
   "cell_type": "markdown",
   "id": "43b8b109",
   "metadata": {},
   "source": [
    "The numpy array enables those operation and `c` in this instance of also a numpy array."
   ]
  },
  {
   "cell_type": "code",
   "execution_count": null,
   "id": "03f0dbea",
   "metadata": {
    "lines_to_next_cell": 0
   },
   "outputs": [],
   "source": [
    "type(c)\n",
    "# numpy.ndarray"
   ]
  },
  {
   "cell_type": "markdown",
   "id": "02d24ced",
   "metadata": {
    "lines_to_next_cell": 0
   },
   "source": [
    "the `nd` part refers to `n` dimensional array.\n",
    "\n",
    "numpy arrays must have items of the same type which can be accessed by"
   ]
  },
  {
   "cell_type": "code",
   "execution_count": null,
   "id": "0b74897c",
   "metadata": {
    "lines_to_next_cell": 0
   },
   "outputs": [],
   "source": [
    "a.dtype\n",
    "# dtype('int64')"
   ]
  },
  {
   "cell_type": "code",
   "execution_count": null,
   "id": "0ed85250",
   "metadata": {
    "lines_to_next_cell": 0
   },
   "outputs": [],
   "source": [
    "f = np.array([1.2, 4.5, 4.3])\n",
    "f.dtype\n",
    "# dtype('float64')"
   ]
  },
  {
   "cell_type": "code",
   "execution_count": null,
   "id": "39d8848e",
   "metadata": {
    "lines_to_next_cell": 0
   },
   "outputs": [],
   "source": [
    "a\n",
    "# array([1,2,3,4])\n",
    "\n",
    "a[0]\n",
    "# 1\n",
    "\n",
    "a[0] = 10\n",
    "a\n",
    "# array([10,2,3,4])\n",
    "\n",
    "a[0] = 11.5\n",
    "a\n",
    "# array([11,2,3,4])"
   ]
  },
  {
   "cell_type": "markdown",
   "id": "b2ce7d20",
   "metadata": {},
   "source": [
    "You can access an item in the array through their index and even change the value, however as it must conform to the `dtype` of the array the new value will be casted over. For `float64`, the value 11.5 is truncated to 11 into `int64`.\n",
    "\n",
    "`[?]` explore casting properties in numpy across different dtypes  \n"
   ]
  },
  {
   "cell_type": "code",
   "execution_count": null,
   "id": "52ecf7d8",
   "metadata": {
    "lines_to_next_cell": 0
   },
   "outputs": [],
   "source": [
    "a.ndim\n",
    "# 1\n",
    "\n",
    "a.shape\n",
    "# (4,)"
   ]
  },
  {
   "cell_type": "markdown",
   "id": "97389c7c",
   "metadata": {},
   "source": [
    "The `.shape` returns a tuple, the lenght of tuple represents the number of dimensions."
   ]
  },
  {
   "cell_type": "code",
   "execution_count": null,
   "id": "b2c973f2",
   "metadata": {
    "lines_to_next_cell": 0
   },
   "outputs": [],
   "source": [
    "\n",
    "a.size\n",
    "# 4"
   ]
  },
  {
   "cell_type": "markdown",
   "id": "07d8dc94",
   "metadata": {
    "lines_to_next_cell": 0
   },
   "source": [
    "The `.size` is the number of items in the array.\n",
    "\n",
    "Element-wise operation by default"
   ]
  },
  {
   "cell_type": "code",
   "execution_count": null,
   "id": "238f9300",
   "metadata": {},
   "outputs": [],
   "source": [
    "a + f\n",
    "\n",
    "a * f\n",
    "\n",
    "a / f\n",
    "\n",
    "f ** a\n",
    "\n",
    "a * 10"
   ]
  },
  {
   "cell_type": "markdown",
   "id": "7867ca77",
   "metadata": {},
   "source": [
    "This means you are not doing standard matrix operations, instead this conceptual iteration is referred to a vectorized operation\n",
    "\n",
    "Numpy provides Universal Functions (aka UFuncs)"
   ]
  },
  {
   "cell_type": "code",
   "execution_count": null,
   "id": "ec161bdd",
   "metadata": {
    "lines_to_next_cell": 0
   },
   "outputs": [],
   "source": [
    "np.sin(a)"
   ]
  },
  {
   "cell_type": "markdown",
   "id": "c896e55b",
   "metadata": {},
   "source": [
    "Also capable of vectorized (pair-wise) operation."
   ]
  },
  {
   "cell_type": "code",
   "execution_count": null,
   "id": "416a1184",
   "metadata": {},
   "outputs": [],
   "source": [
    ">>> a = np.array([11, 2, 3, 4])\n",
    ">>> np.sin(a)\n",
    "array([-0.99999021,  0.90929743,  0.14112001, -0.7568025 ])"
   ]
  },
  {
   "cell_type": "markdown",
   "id": "02804a4b",
   "metadata": {},
   "source": [
    "`[?]` What are some of the python list-like and non-list-like behaviours of numpy arrays?  \n",
    "`[>]` Index notation and mutibility are list-like but type coercion and vectorized operations are non-list-like."
   ]
  },
  {
   "cell_type": "markdown",
   "id": "a2cba533",
   "metadata": {},
   "source": [
    "### Slicing\n",
    "\n",
    "```\n",
    "var[lower:upper:step]\n",
    "```\n",
    "step is also referred to as stride"
   ]
  },
  {
   "cell_type": "code",
   "execution_count": null,
   "id": "9f0f73fe",
   "metadata": {},
   "outputs": [],
   "source": [
    ">>> c = np.arange(45, 70, 2)\n",
    "\n",
    ">>> c[0:4] # index 0 to, but including index 4\n",
    "[45, 47, 49, 51]\n",
    "\n",
    ">>> c[0:4] # from index 0 to, but not including index 4\n",
    "           # take every second (other) one.\n",
    "[45, 49]\n",
    "\n",
    ">>> c[::4] # take every value up to index 4\n",
    "[45, 47, 49, 51]\n",
    "\n",
    "# Notice first value is always returned\n",
    "\n",
    ">>> c[-2:] # take the last two\n",
    "[68, 70]\n",
    "\n",
    ">>> c[:-2] # take everything but the last two\n",
    "            # this operation does not guarantee\n",
    "            # a fixed sizes return.\n",
    "[45, 47, ..., 64, 66]\n",
    "\n",
    ">>> c[2:] # take every item from the third item.\n",
    "           # no size guarantee\n",
    "[49, 51 ... 68, 70]\n",
    "\n",
    ">>> c[:2] # size of 2 guaranteed.\n",
    "\n",
    ">>> c[-1:-6:-1] # from last to, but not including\n",
    "                # 6th last in reverse direction\n",
    "                # Move from Upper pointer to Lower\n",
    "                # Pointer\n",
    "[70, 68, 66, 64, 62]\n",
    "\n",
    ">>> c[-1:-6] # lower and upper pointers cross\n",
    "             # so yield empty array\n",
    "[]\n"
   ]
  },
  {
   "cell_type": "code",
   "execution_count": null,
   "id": "7d26aea5",
   "metadata": {
    "lines_to_next_cell": 2
   },
   "outputs": [],
   "source": [
    ">>> a = np.array([[0, 2, 4, 6],[1, 3, 5, 7]])\n",
    "array([[0, 2, 4, 6],\n",
    "       [1, 3, 5, 7]])\n",
    "\n",
    ">>> a[:,-2:-1] # Does preserve original shape.\n",
    "               # Colon notation enables shape preservation\n",
    "array([[4],\n",
    "       [5]])\n",
    "\n",
    ">>> a[:, -2] # Does not preserve original shape.\n",
    "array([4, 5])\n",
    "\n",
    ">>> a[:, -2:] # Select Last two results\n",
    "array([[4, 6],\n",
    "       [5, 7]])\n",
    "\n",
    ">>> a[:, ::2] # Select every other column\n",
    "array([[0, 4]\n",
    "       [1, 5]])\n",
    "\n",
    ">>> a[:, ::2][:, -1] # Last Column of every other column\n",
    "array([4, 5])\n",
    "\n",
    ">>> a[:, ::2][:, -1:] # Shape Preserved\n",
    "array([[4],\n",
    "       [5]])\n",
    "\n",
    ">>> a[:, [1, -1]] # take second and last row\n",
    "array([2, 6],\n",
    "      [3, 7])"
   ]
  },
  {
   "cell_type": "markdown",
   "id": "cd336e16",
   "metadata": {},
   "source": [
    "3D Array example"
   ]
  },
  {
   "cell_type": "code",
   "execution_count": null,
   "id": "5e4283f6",
   "metadata": {
    "lines_to_next_cell": 0
   },
   "outputs": [],
   "source": [
    ">>> b = np.array([[[1,2,3], [1,2,3], [1,2,3]], [[4, 5, 6], [4, 5, 6], [4, 5, 6]], [[7, 8, 9], [7, 8, 9], [7, 8, 9]]])\n",
    "array([[[1, 2, 3],\n",
    "        [1, 2, 3],\n",
    "        [1, 2, 3]],\n",
    "\n",
    "       [[4, 5, 6],\n",
    "        [4, 5, 6],\n",
    "        [4, 5, 6]],\n",
    "\n",
    "       [[7, 8, 9],\n",
    "        [7, 8, 9],\n",
    "        [7, 8, 9]]])\n",
    "\n",
    ">>> b[1]\n",
    "array([[4, 5, 6],\n",
    "       [4, 5, 6],\n",
    "       [4, 5, 6]])"
   ]
  },
  {
   "cell_type": "markdown",
   "id": "0c15eef2",
   "metadata": {},
   "source": [
    "```\n",
    "    0\n",
    "   /\n",
    "  /\n",
    " /\n",
    " ---------------- 2\n",
    "|\n",
    "|\n",
    "|\n",
    "|\n",
    "1\n",
    "```"
   ]
  },
  {
   "cell_type": "code",
   "execution_count": null,
   "id": "a9e53e41",
   "metadata": {
    "lines_to_next_cell": 0
   },
   "outputs": [],
   "source": [
    ">>> e = a[1] # equal to a[1, :]\n",
    "array([0, 2, 4, 6])\n"
   ]
  },
  {
   "cell_type": "markdown",
   "id": "58b9b5b6",
   "metadata": {},
   "source": [
    "`a[1, :]` tells your future self or another reader that `a` is at least of two dimensions whilst `a[1]` does not. `a[1]` is will also accept a one-dimensional array and probably break some code downstream. So something to think about in terms of code quality. In fact in this specific example a[-1, :] is even better as it tell you and the reader that you want the last row of the (at least) two dimensional array. Whatever caused the input to have a bad array, by using a more explicit notation you enable the error to thrown earlier and closer to the cause."
   ]
  },
  {
   "cell_type": "code",
   "execution_count": null,
   "id": "6546c64f",
   "metadata": {},
   "outputs": [],
   "source": [
    ">>> a[:,::2 ] # take every row but take every other column\n",
    "array([[0, 4],\n",
    "       [1, 5]])\n",
    "\n",
    ">>> a.fill(-4.8)\n",
    ">>> a\n",
    "array([[-4, -4, -4, -4],\n",
    "       [-4, -4, -4, -4]])"
   ]
  },
  {
   "cell_type": "markdown",
   "id": "67d5740e",
   "metadata": {},
   "source": [
    "You can assign against a slice, below a scalar value is [broadcasts](https://numpy.org/doc/stable/user/basics.broadcasting.html) into the shape of the slice. This changes `a` in memory."
   ]
  },
  {
   "cell_type": "code",
   "execution_count": null,
   "id": "73a7dc6a",
   "metadata": {},
   "outputs": [],
   "source": [
    ">>> a[:, 1::2] = 4\n",
    ">>> a\n",
    "array([[-4, 4, -4, 4],\n",
    "       [-4, 4, -4, 4]])"
   ]
  },
  {
   "cell_type": "markdown",
   "id": "af243c29",
   "metadata": {},
   "source": [
    "`[?]` Do you need to match the shape of the array say when assigning `a[:, 1:2]`?  \n",
    "\n",
    "### Python Dunders\n",
    "\n",
    "Dunders drive Pythons Syntactic sugar, below is a demo of the key ones that define the Numpy notation experience. A more comprehensive guide to is Fluent Python - Luciano Ramalho [[2015-Ramanho](#2015-Ramanho)]."
   ]
  },
  {
   "cell_type": "code",
   "execution_count": null,
   "id": "a4ee1810",
   "metadata": {},
   "outputs": [],
   "source": [
    ">>> a = np.array([[0, 2, 0, 6],\n",
    "       [1, 3, 0, 7]])\n",
    "\n",
    ">>> a[0]\n",
    "array([0, 2, 0, 6])\n",
    "\n",
    ">>> a.__getitem__(0)\n",
    "array([0, 2, 0, 6])\n",
    "\n",
    ">>> a.__setitem__(0)\n",
    "array([[100, 100, 100, 100],\n",
    "       [  1,   3,   0,   7]])\n",
    "\n",
    ">>> len(a)\n",
    "2\n",
    "\n",
    ">>> a.__len__()\n",
    "2\n",
    "\n",
    ">>> np.array([1, 2, 3])\n",
    "array([1, 2, 3])\n",
    "\n",
    ">>> np.array.__call__([1, 2, 3])\n",
    "array([1, 2, 3])"
   ]
  },
  {
   "cell_type": "markdown",
   "id": "7649c0c3",
   "metadata": {},
   "source": [
    "### Fancy indexing\n",
    "\n",
    "Indexing by Position"
   ]
  },
  {
   "cell_type": "code",
   "execution_count": null,
   "id": "96322ef7",
   "metadata": {
    "lines_to_next_cell": 0
   },
   "outputs": [],
   "source": [
    ">>> a = np.arange(0, 80, 10)\n",
    ">>> index = [1, 2, -3]\n",
    ">>> y = a[indices]\n",
    ">>> print(y)\n",
    "[10, 20, 50]\n",
    "\n",
    ">>> a[indices] = 99\n",
    ">>> a \n",
    "array([0, 99, 99, 30, 40, 99, 60, 70])"
   ]
  },
  {
   "cell_type": "markdown",
   "id": "9c2de62b",
   "metadata": {},
   "source": [
    "Indexing by Boolean — aka Masking"
   ]
  },
  {
   "cell_type": "code",
   "execution_count": null,
   "id": "46936925",
   "metadata": {
    "lines_to_next_cell": 0
   },
   "outputs": [],
   "source": [
    ">>> mask = np.array([0, 1, 1, 0, 0, 1, 0, 0]), dtype=bool)\n",
    ">>> y = a[mask]\n",
    ">>> y\n",
    "array([99, 99, 99])"
   ]
  },
  {
   "cell_type": "markdown",
   "id": "974d5f31",
   "metadata": {},
   "source": [
    "It is unsual to have build a boolean mask by hand, often other functions are used that return a boolean mask of a numpy array which can be used to fancy index out the true values."
   ]
  },
  {
   "cell_type": "code",
   "execution_count": null,
   "id": "e6ac6735",
   "metadata": {
    "lines_to_next_cell": 0
   },
   "outputs": [],
   "source": [
    ">>> a = np.array([-1, -3, 1, 4, -6, 9, 3])\n",
    ">>> mask = a < 0\n",
    ">>> mask\n",
    "array([ True,  True, False, False,  True, False, False])\n",
    "\n",
    ">>> a[mask]"
   ]
  },
  {
   "cell_type": "markdown",
   "id": "1b7a9591",
   "metadata": {
    "lines_to_next_cell": 0
   },
   "source": [
    "You can combine fancy indexing with its mask like so:"
   ]
  },
  {
   "cell_type": "code",
   "execution_count": null,
   "id": "f5bfaf72",
   "metadata": {},
   "outputs": [],
   "source": [
    ">>> a[a < 0]\n",
    "array([-1, -3, -6])\n",
    "\n",
    ">>> a[a < 0] = 0\n",
    "\n",
    ">>> a\n",
    "array([0, 0, 1, 4, 0, 9, 3])"
   ]
  },
  {
   "cell_type": "markdown",
   "id": "9add801d",
   "metadata": {
    "lines_to_next_cell": 0
   },
   "source": [
    "This is identical to how pandas dataframe indexing works — at least conceptually.\n",
    "`[?]` What are the differences between the operations and indexing/slicing Pandas.Dataframe/Series offers and Numpy.Arrays?  \n",
    "\n",
    "### Multi-Dimensional Arrays\n",
    "\n",
    "You can think of a 4 dimensional array as an array of 3 dimensional arrays.\n",
    "\n",
    "You add dimensions as the following:"
   ]
  },
  {
   "cell_type": "code",
   "execution_count": null,
   "id": "f8dd4f2c",
   "metadata": {
    "lines_to_next_cell": 0
   },
   "outputs": [],
   "source": [
    "(4,)         # 1 dim\n",
    "\n",
    "(2, 4)       # 2 dim\n",
    "\n",
    "(3, 2, 4)    # 3 dim\n",
    "\n",
    "(2, 3, 2, 4) # 4 dim"
   ]
  },
  {
   "cell_type": "markdown",
   "id": "10813f28",
   "metadata": {
    "lines_to_next_cell": 0
   },
   "source": [
    "Notice how newly added dimension is always on axis 0 and first dimension added is on axis n for that ndim array. The rule is that newly added axis is always the lowest dimension.\n",
    "\n",
    "This may be because ensures axis 0 is always the fastest changing index when parsing through the data buffer of the `numpy.array`. The high axes simply become holders of more arrays of an lower dimensional array. This is to ensure the array is row-major which is how the c-family of languages represent data in memory. FOTRAN and MATLAB columns major, i.e. when you parse through the memory buffer of a FOTRAN array, you are moving in the column-direction (left to right) in the array instead of down (row-wise).\n",
    "\n",
    "One nice property of Numpy.Array shapes is that the last dimension can be seen as the number of columns. This mean `axis=-1` is always the last axis of the array.\n",
    "\n",
    "When using reduce functions, you will reduce the lowest axis in the array default whichi is 0.\n",
    "\n",
    "### Array Calculation Methods\n",
    "\n",
    "Rules:\n",
    "1. Operations between multiple array objects are first checked for proper shape match.\n",
    "2. Mathematical operators (+ - * / exp, log, ...) apply element by element, on the values.\n",
    "3. Reductions operations (mean, std, skew, kurt, sum, prod, ...) apply to the whole array, unless an axis is specified.\n",
    "4. Missing values propagate unless explicitly ignored (nanmean, nansum, ...)\n",
    "\n",
    "`np.nan` properties"
   ]
  },
  {
   "cell_type": "code",
   "execution_count": null,
   "id": "28393603",
   "metadata": {},
   "outputs": [],
   "source": [
    ">>> np.nan\n",
    "nan\n",
    "\n",
    ">>> np.nan + 1\n",
    "nan"
   ]
  },
  {
   "cell_type": "markdown",
   "id": "186321ab",
   "metadata": {},
   "source": [
    "`[?]` What is array broadcasting?\n",
    "`[>]` It is numpy's sane default that an array of the lower dimension to match another array of a dimension by duplicating values in direction of an extra dimension until the shape in that dimension matches. The operation is then repeated for each extra dimension until the dimensions match. Note that the shape in existing dimensions must match otherwise a shape error is thrown.\n",
    "\n",
    "Some examples"
   ]
  },
  {
   "cell_type": "code",
   "execution_count": null,
   "id": "8b5a2661",
   "metadata": {},
   "outputs": [],
   "source": [
    "# broadcast for a 3x3 array\n",
    ">>> 3\n",
    "[[3, 3, 3],\n",
    " [3, 3, 3],\n",
    " [3, 3, 3]]\n",
    "\n",
    ">>> [1, 2, 3]\n",
    "[[1, 2, 3],\n",
    " [1, 2, 3],\n",
    " [1, 2, 3]]"
   ]
  },
  {
   "cell_type": "code",
   "execution_count": null,
   "id": "61c653aa",
   "metadata": {
    "lines_to_next_cell": 0
   },
   "outputs": [],
   "source": [
    ">>> a = np.ones((3,3), dtype='int32') * 3\n",
    ">>> a\n",
    "array([[3, 3, 3],\n",
    "       [3, 3, 3],\n",
    "       [3, 3, 3]], dtype=int32)\n",
    "\n",
    ">>> a * 3\n",
    "array([[9, 9, 9],\n",
    "       [9, 9, 9],\n",
    "       [9, 9, 9]], dtype=int32)\n",
    "\n",
    ">>> a * [1, 2, 3]\n",
    "array([[3, 6, 9],\n",
    "       [3, 6, 9],\n",
    "       [3, 6, 9]])\n",
    "\n",
    ">>> a * [1, 2] # dimension match but shape does not.\n",
    "---------------------------------------------------------------------------\n",
    "ValueError                                Traceback (most recent call last)\n",
    "/tmp/ipykernel_34/4212024589.py in <module>\n",
    "----> 1 a * [1, 2]\n",
    "\n",
    "ValueError: operands could not be broadcast together with shapes (3,3) (2,)\n",
    "\n",
    ">>> a * [[1], [2], [3]]\n",
    "array([[3, 3, 3],\n",
    "       [6, 6, 6],\n",
    "       [9, 9, 9]])\n",
    "\n",
    ">>> a * [[[1], [2], [3]], [[4], [5], [6]]]\n",
    "array([[[ 3,  3,  3],\n",
    "        [ 6,  6,  6],\n",
    "        [ 9,  9,  9]],\n",
    "\n",
    "       [[12, 12, 12],\n",
    "        [15, 15, 15],\n",
    "        [18, 18, 18]]])\n",
    "\n",
    ">>> np.array([[1], [2], [3]]) * np.array([1, 2, 3])\n",
    "array([[1, 2, 3],\n",
    "       [2, 4, 6],\n",
    "       [3, 6, 9]])"
   ]
  },
  {
   "cell_type": "markdown",
   "id": "3e193ce0",
   "metadata": {},
   "source": [
    "Broadcasting is a key feature that enables matrices and scalar values to play nicely together.\n",
    "\n",
    "When adding new axis it adds them on the left as axis 0\n",
    "\n",
    "```\n",
    "a (5, 3)\n",
    "b (3,)\n",
    "\n",
    "a + b\n",
    "a (5, 3)\n",
    "b ( , 3) # duplicating axis = 1 across axis = 0 five times to match shape.\n",
    "```\n",
    "\n",
    "Reduction functions\n",
    "\n",
    "When applying a reduction function, the entire array is reduced to a single value. \n",
    "\n",
    "`[?]` Is this different to Pandas Reduce functions?  "
   ]
  },
  {
   "cell_type": "code",
   "execution_count": null,
   "id": "28736f52",
   "metadata": {
    "lines_to_next_cell": 0
   },
   "outputs": [],
   "source": [
    ">>> a = np.array([[1, 2, 3]\n",
    "                  [4, 5, 6])\n",
    "\n",
    ">>> a.sum()\n",
    "21\n",
    "\n",
    ">>> a.sum(axis=0)\n",
    "array([5, 7, 9])\n",
    "\n",
    ">>> a.sum(axis=1)\n",
    "array([6, 15])\n",
    "\n",
    ">>> a.sum(axis=1).sum(axis=0)\n",
    "21"
   ]
  },
  {
   "cell_type": "markdown",
   "id": "32fc9e87",
   "metadata": {},
   "source": [
    "You need to specify an axis, inorder to prevent this.\n",
    "\n",
    "Other reduce functions"
   ]
  },
  {
   "cell_type": "code",
   "execution_count": null,
   "id": "00c642ab",
   "metadata": {
    "lines_to_next_cell": 0
   },
   "outputs": [],
   "source": [
    ">>> a = np.array([[1,2,3],\n",
    "              [4,5,6]])"
   ]
  },
  {
   "cell_type": "markdown",
   "id": "8c1b8629",
   "metadata": {},
   "source": [
    "## Mathematical Functions\n",
    "\n",
    "```python\n",
    ">>> a.sum()\n",
    "21\n",
    "\n",
    ">>> a.sum(axis=0)\n",
    "array([5, 7, 9])\n",
    "\n",
    ">>> a.sum(axis=1)\n",
    "array([ 6, 15])\n",
    "\n",
    ">>> a.sum(axis=1).sum(axis=0)\n",
    "21\n",
    "\n",
    ">>> a.prod() # multiply everything together\n",
    "720\n",
    "\n",
    ">>> a.min()\n",
    "1\n",
    "\n",
    ">>> a.max()\n",
    "6\n",
    "\n",
    ">>> a.argmin() # index pos of first min\n",
    "0\n",
    "\n",
    ">>> a.argmax() # index pos of first max\n",
    "5\n",
    "\n",
    "\n",
    "# argmax() and argmin() give a flat index\n",
    "# that is it refers to the nth item in the\n",
    "# in the data buffer.\n",
    "\n",
    "# to get an index that respects the\n",
    "# dimensionality of the orignal array\n",
    "# use .unravel_index\n",
    "\n",
    ">>> np.unravel_index(a.argmax(), a.shape)\n",
    "(1,2) # index 1 in ax 0, index 2 in ax 1\n",
    "\n",
    "#       0  1  2\n",
    "#   0 [[1, 2, 3],\n",
    "#   1  [4, 5, 6]]\n",
    "\n",
    "# Use the where function which finds\n",
    "# index position against a truth\n",
    "# array which represent anything.\n",
    "\n",
    "# finding out all max values is one\n",
    "# example\n",
    ">>> np.where(a == a.max())\n",
    "(array([2, 3]),)\n",
    "# returns index coordinate\n",
    "\n",
    "# This is different from fancy index\n",
    "# masking which returns values of the\n",
    "# array that are True in the mask\n",
    "# instead of their index coordinate.\n",
    "\n",
    "\n",
    ">>> a.ptp() # peak to peak (max - min)\n",
    "5\n",
    "\n",
    ">>> a.mean()\n",
    "3.5\n",
    "```"
   ]
  },
  {
   "cell_type": "markdown",
   "id": "e89da13b",
   "metadata": {},
   "source": [
    "## Statistical\n",
    "\n",
    "```python\n",
    ">>> a.std() # standard deviation\n",
    "1.707825127659933\n",
    "\n",
    ">>> a.var() # variance\n",
    "2.9166666666666665\n",
    "```\n",
    "\n",
    "## Truth value testing\n",
    "\n",
    "```python\n",
    ">>> np.array([0,1,0]).any()\n",
    "True\n",
    "\n",
    ">>> np.array([0,0,0]).any()\n",
    "False\n",
    "\n",
    ">>> np.array([1,1,0]).all()\n",
    "False\n",
    "\n",
    ">>> np.array([1,1,1]).all()\n",
    "True\n",
    "```\n",
    "\n",
    "## Python treat non-zero values as True\n",
    "## this holds in NumPy\n",
    "\n",
    "```python\n",
    ">>> np.array([0,0.1,0]).any() # non-zero are considered true\n",
    "True\n",
    "\n",
    ">>> np.array([0,10,0]).any() # non-zero are considered true\n",
    "True\n",
    "\n",
    ">>> np.array([0,-10,0]).any() # non-zero are considered true\n",
    "True\n",
    "```"
   ]
  },
  {
   "cell_type": "markdown",
   "id": "c26b3cbe",
   "metadata": {},
   "source": [
    "Most NumPy function can be used as methods, `a.min()` and as functions `np.min(a)`. Generally methods run faster. Most also have Axis options availble to limit / manage the reduction process. "
   ]
  },
  {
   "cell_type": "markdown",
   "id": "48153b41",
   "metadata": {},
   "source": [
    "## NumPy Memory Representation\n",
    "\n",
    "NumPy arrays have a contiguous representation in memory (much standard Python Arrays) with an additional meta-data attached which describes its interpretation. \n",
    "\n",
    "Some examples of metdata\n",
    "- dtype\n",
    "- data (pointer to the first item in the array)\n",
    "- strides (the number elements it needs to jump to go the next item in a specific direction of a dimension)\n",
    "\n",
    "So for example, the type of the items and shape are meta-data and when the shape is changed with the `.reshape()` function, the data buffer is unchanged - instead the strides change.This is very efficient and computationally affordable [[Nump-Man-Internals](#Nump-Man-Internals)].\n",
    "\n",
    "```\n",
    "Data\n",
    "————\n",
    "\n",
    " | 11 | 22 | 34 | 35 | 40 | 41 |   ... data\n",
    " 0    1    2    3    4    5    6   ... Index\n",
    " 0    64   128  192  256  320  384 ... bytes (int64)\n",
    " a8   a9   aa   ab   ac   ad   ae  ... Memory Address\n",
    "\n",
    "\n",
    "Interpretation\n",
    "~~~~~~~~~~~~~~~~~~~~\n",
    "\n",
    "array([[11, 22, 34],\n",
    "       [35, 40, 41]])\n",
    "\n",
    "Metadata\n",
    "————————\n",
    "Strides: axis 0: 4\n",
    "         axis 1: 1\n",
    "\n",
    "Shape: (3, 2)\n",
    "\n",
    "Data Pointer: a8\n",
    "\n",
    "Item size: dtype\n",
    "\n",
    "ndim: 2\n",
    "\n",
    "```\n",
    "\n",
    "### Transpose operation\n",
    "```\n",
    "a.T\n",
    "```\n",
    "In a transpose operation, the `np.array.shape` tuple and the `np.array.strides` will swap axes.\n",
    "`[?]` Does that mean as certain shapes, it maybe suboptimate to do an operation as the dimension you are working on has much larger strides?  "
   ]
  },
  {
   "cell_type": "code",
   "execution_count": null,
   "id": "abcaf889",
   "metadata": {},
   "outputs": [],
   "source": [
    ">>> a = np.array([[11, 22, 34],\n",
    "              [35, 40, 41]])\n",
    ">>> a.strides\n",
    "(24, 8)\n",
    "\n",
    ">>> a.T\n",
    "array([[11, 35],\n",
    "       [22, 40],\n",
    "       [34, 41]])\n",
    "\n",
    ">>> a.T.strides\n",
    "(8, 24)"
   ]
  },
  {
   "cell_type": "markdown",
   "id": "e8b6060a",
   "metadata": {
    "lines_to_next_cell": 0
   },
   "source": [
    "### Slice"
   ]
  },
  {
   "cell_type": "code",
   "execution_count": null,
   "id": "41dbbe1c",
   "metadata": {
    "lines_to_next_cell": 0
   },
   "outputs": [],
   "source": [
    ">>> a[:, ::2]\n",
    "array([11, 34],\n",
    "      [35, 41])"
   ]
  },
  {
   "cell_type": "markdown",
   "id": "6bf21c99",
   "metadata": {},
   "source": [
    "The Data Pointer for the start in Memory does not change, but the strides triple in axis 1 to only show every third column value.\n",
    "data pointer won't change, the strides will triple in the example. Change in shape and data pointer can be changed by index.\n",
    "\n",
    "### Fancy indexing\n",
    "\n",
    "In fancy indexing a new array is created.\n",
    "`[?]` Does that make fancy indexing expensive?\n",
    "\n",
    "Reshaping is free.\n",
    "\n",
    "### Flattening Arrays\n",
    "`[?]` When will the `ravel` function return a copy of an array and when it won't?\n",
    "`[?]` What is the difference between the Flatten and Ravel function?  "
   ]
  },
  {
   "cell_type": "markdown",
   "id": "048dcd2c",
   "metadata": {},
   "source": [
    "## References\n",
    "\n",
    "<a id=\"Nump-Man-Internals\">[Nump-Man-Internals]</a> \n",
    "Numpy Interals v1.21 Manual [[URL](https://numpy.org/doc/stable/reference/internals.html)]\n",
    "\n",
    "<a id=\"ChabotGh-Workshop\">[ChabotGh-Workshop]</a> \n",
    "Introduction to Numerical Computing with NumPy Workshop - Github Repo — Alex Chabot-Leclerc [[URL](https://numpy.org/doc/stable/reference/internals.html)]\n",
    "\n",
    "<a id=\"2015-Ramanho\">[2015-Ramanho]</a>\n",
    "Fluent Python — Luciano Ramanho (O'Reilly)(2015) [[Github](https://github.com/fluentpython)] [[O'Reilly Book](https://www.oreilly.com/library/view/fluent-python/9781491946237/)]\n",
    "\n",
    "Github Repo: [[ChabotGh-Workshop](#ChabotGh-Workshop)]"
   ]
  }
 ],
 "metadata": {
  "jupytext": {
   "cell_metadata_filter": "-all",
   "formats": "md,ipynb",
   "main_language": "python",
   "notebook_metadata_filter": "-all",
   "text_representation": {
    "extension": ".md",
    "format_name": "markdown"
   }
  },
  "kernelspec": {
   "display_name": "Python 3 (ipykernel)",
   "language": "python",
   "name": "python3"
  },
  "language_info": {
   "codemirror_mode": {
    "name": "ipython",
    "version": 3
   },
   "file_extension": ".py",
   "mimetype": "text/x-python",
   "name": "python",
   "nbconvert_exporter": "python",
   "pygments_lexer": "ipython3",
   "version": "3.10.0"
  }
 },
 "nbformat": 4,
 "nbformat_minor": 5
}
