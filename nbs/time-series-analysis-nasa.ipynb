{
 "cells": [
  {
   "cell_type": "code",
   "execution_count": null,
   "id": "80dd3e80",
   "metadata": {},
   "outputs": [],
   "source": [
    "%config InlineBackend.figure_format = 'svg'"
   ]
  },
  {
   "cell_type": "markdown",
   "id": "70c15cb8",
   "metadata": {},
   "source": [
    "[[src](https://stackoverflow.com/questions/25412513/inline-images-have-low-quality)]"
   ]
  },
  {
   "cell_type": "markdown",
   "id": "6ea9714f",
   "metadata": {},
   "source": [
    "## Time Series Analysis with a NASA Dataset"
   ]
  },
  {
   "cell_type": "markdown",
   "id": "1b6cc114",
   "metadata": {},
   "source": [
    "Reference: [Time Series Analysis with Pandas - Manipulation and plotting of time series in python using Pandas methods -- Coding Club](https://ourcodingclub.github.io/tutorials/pandas-time-series/)"
   ]
  },
  {
   "cell_type": "code",
   "execution_count": null,
   "id": "225d118b",
   "metadata": {},
   "outputs": [],
   "source": [
    "import pandas as pd\n",
    "import numpy as np\n",
    "import matplotlib\n",
    "import matplotlib.pyplot as plt\n",
    "\n",
    "print(\"pandas:\", pd.__version__) # pandas: 1.3.2\n",
    "print(\"numpy:\", np.__version__) # numpy: 1.21.2\n",
    "print(\"matplotlib\", matplotlib.__version__) #matplotlib 3.4.3"
   ]
  },
  {
   "cell_type": "markdown",
   "id": "6d0cd262",
   "metadata": {},
   "source": [
    "### Retrieving the Dataset\n",
    "\n"
   ]
  },
  {
   "cell_type": "code",
   "execution_count": null,
   "id": "b124772f",
   "metadata": {},
   "outputs": [],
   "source": [
    "url = 'https://spdf.gsfc.nasa.gov/pub/data/omni/low_res_omni/omni2_all_years.dat'\n",
    "path = './data/omni2_all_years.dat'"
   ]
  },
  {
   "cell_type": "code",
   "execution_count": null,
   "id": "5a14f998",
   "metadata": {},
   "outputs": [],
   "source": [
    "# use bash function\n",
    "#!wget url"
   ]
  },
  {
   "cell_type": "code",
   "execution_count": null,
   "id": "fc3931b2",
   "metadata": {},
   "outputs": [],
   "source": [
    "import requests\n",
    "from pathlib import Path\n",
    "\n",
    "def get_data_from_and_save(url, path):\n",
    "    \"\"\"\n",
    "    Uses get requests library to download data and save to a particular location.\n",
    "    \n",
    "    Parameters\n",
    "    ----------\n",
    "    url (string): direct url to raw file\n",
    "    path (string): target filepath (including name)\n",
    "    \"\"\"\n",
    "    \n",
    "    p  = Path(path)\n",
    "    \n",
    "    print(\"downloading file...\")\n",
    "    r = requests.get(url)\n",
    "    print(\"file downloaded...\")\n",
    "\n",
    "    with open(p, \"wb\") as f:\n",
    "        f.write(r.content)\n",
    "        \n",
    "# get_data_from_and_save(url, path) # get heliophysics dataset"
   ]
  },
  {
   "cell_type": "code",
   "execution_count": null,
   "id": "c6df5fce",
   "metadata": {},
   "outputs": [],
   "source": [
    "# direct download in to dataframe\n",
    "\n",
    "df = pd.read_csv(url,\n",
    "                 delim_whitespace=True,\n",
    "                 usecols=[0, 1, 2, 39, 40, 50],\n",
    "                 names=[\"year\", \"doy\", \"hour\", \"r\", \"dst\", \"f10.7\"])"
   ]
  },
  {
   "cell_type": "markdown",
   "id": "07c333fc",
   "metadata": {},
   "source": [
    "Alternative methods to download: [Download a csv from url and make it a dataframe python pandas -- stackoverflow](https://stackoverflow.com/questions/53158452/download-a-csv-from-url-and-make-it-a-dataframe-python-pandas)  \n",
    "`[?]` Surely there is a better, more informative way to download larger files? Requirements: (1) Progress Bar, (2) Authentication, Exception Handling.\n"
   ]
  },
  {
   "cell_type": "code",
   "execution_count": null,
   "id": "c3b2e607",
   "metadata": {},
   "outputs": [],
   "source": [
    "df.head()"
   ]
  },
  {
   "cell_type": "markdown",
   "id": "1b66d4a4",
   "metadata": {},
   "source": [
    "### Creating a datetime index"
   ]
  },
  {
   "cell_type": "code",
   "execution_count": null,
   "id": "4c009879",
   "metadata": {},
   "outputs": [],
   "source": [
    "def create_datestamp(year, doy, hour):\n",
    "    \"\"\"\n",
    "    Takes year, day of year (doy) and hour and format to specific format\n",
    "    \n",
    "    The formats fits the year (four digits), day of year (three digits)\n",
    "    and hours (2 digits) into a single string.\n",
    "    YYYYjjjHH where j is the day of year.\n",
    "    \n",
    "    return\n",
    "    ------\n",
    "    formatted string datestamp\n",
    "    \"\"\"\n",
    "    \n",
    "    return year * 100000 + doy * 100 + hour"
   ]
  },
  {
   "cell_type": "code",
   "execution_count": null,
   "id": "cc368442",
   "metadata": {},
   "outputs": [],
   "source": [
    "df.index = pd.to_datetime(create_datestamp(df['year'], df['doy'], df['hour']), format=\"%Y%j%H\")\n",
    "df = df.drop(columns=['year', 'doy', 'hour'])"
   ]
  },
  {
   "cell_type": "code",
   "execution_count": null,
   "id": "e21d74cb",
   "metadata": {},
   "outputs": [],
   "source": [
    "df.head()"
   ]
  },
  {
   "cell_type": "code",
   "execution_count": null,
   "id": "ae0e3eeb",
   "metadata": {},
   "outputs": [],
   "source": [
    "df = df.replace({'r':999,\n",
    "            'dst':99999,\n",
    "            'f10.7':999.9}, np.nan)\n",
    "df.head()"
   ]
  },
  {
   "cell_type": "code",
   "execution_count": null,
   "id": "4e73dc36",
   "metadata": {},
   "outputs": [],
   "source": [
    "print(\"Dataframe shape: \", df.shape)\n",
    "dt = (df.index[-1] - df.index[0])\n",
    "print(\"Number of hours between start and end dates: \", dt.total_seconds()/3600 + 1)"
   ]
  },
  {
   "cell_type": "markdown",
   "id": "701edbc6",
   "metadata": {},
   "source": [
    "`[?]` Is there a better way to do that? or at least an alternative way?"
   ]
  },
  {
   "cell_type": "code",
   "execution_count": null,
   "id": "e7b0b905",
   "metadata": {},
   "outputs": [],
   "source": [
    "h, d, y = 24, 365, 55\n",
    "print(f\"{h} hours/day * {d} days/year * {y} years = {h*d*y} hours\")"
   ]
  },
  {
   "cell_type": "markdown",
   "id": "b1f4f4bf",
   "metadata": {},
   "source": [
    "Given this dataset represents 55 years of hourly data, then why is there 517200 records (each representing an hour) when there can only be 481800 hours over that period. Is there a duplicate or an error somewhere?"
   ]
  },
  {
   "cell_type": "markdown",
   "id": "c4e06e25",
   "metadata": {},
   "source": [
    "### Plotting dataframe contents"
   ]
  },
  {
   "cell_type": "code",
   "execution_count": null,
   "id": "8b0850f2",
   "metadata": {},
   "outputs": [],
   "source": [
    "# define yticks\n",
    "dst_yticks = [-600, -400, -200, 0]\n",
    "r_and_f10_yticks = [0, 100, 200, 300]\n",
    "\n",
    "# define data, labels, colors and yticks\n",
    "data_labels = [('f10.7','F10.7', 'blue', r_and_f10_yticks), \n",
    "               ('dst', 'DST', 'orange', dst_yticks), \n",
    "               ('r', 'R', 'green', r_and_f10_yticks)]\n",
    "\n",
    "fig, axes = plt.subplots(3, 1, sharex=True, figsize=(12,6))\n",
    "for i, ax in enumerate(axes):\n",
    "    _ = ax.plot(data_labels[i][0], data=df, label=data_labels[i][1], c=data_labels[i][2])\n",
    "    _ = ax.legend()\n",
    "    _ = ax.set(yticks=data_labels[i][3])\n",
    "    _ = ax.grid()"
   ]
  },
  {
   "cell_type": "markdown",
   "id": "44c367b7",
   "metadata": {},
   "source": [
    "There is a lot of noise in the data."
   ]
  },
  {
   "cell_type": "markdown",
   "id": "a6d004b1",
   "metadata": {},
   "source": [
    "`[?]` Any way to change the yticks?"
   ]
  },
  {
   "cell_type": "markdown",
   "id": "536296d0",
   "metadata": {},
   "source": [
    "### Resampling, rolling calculations, and differencing"
   ]
  },
  {
   "cell_type": "code",
   "execution_count": null,
   "id": "fa1e151a",
   "metadata": {},
   "outputs": [],
   "source": [
    "df[['f10.7', 'dst', 'r']].resample('1y').median().plot(figsize=(12,6))"
   ]
  },
  {
   "cell_type": "code",
   "execution_count": null,
   "id": "e33e499b",
   "metadata": {},
   "outputs": [],
   "source": [
    "df[['f10.7', 'dst', 'r']].rolling(24*365).median().plot(figsize=(12,6))"
   ]
  },
  {
   "cell_type": "code",
   "execution_count": null,
   "id": "84892faa",
   "metadata": {},
   "outputs": [],
   "source": [
    "df[['f10.7', 'r', 'dst']].resample('3y').median().diff().plot(subplots=True, figsize=(12,6), grid=True)"
   ]
  },
  {
   "cell_type": "markdown",
   "id": "dcc054aa",
   "metadata": {},
   "source": [
    "### Identifying periodicity and correlation"
   ]
  },
  {
   "cell_type": "code",
   "execution_count": null,
   "id": "92e44f78",
   "metadata": {},
   "outputs": [],
   "source": []
  }
 ],
 "metadata": {
  "jupytext": {
   "cell_metadata_filter": "-all",
   "formats": "ipynb,md:myst",
   "main_language": "python",
   "notebook_metadata_filter": "-all",
   "text_representation": {
    "extension": ".md",
    "format_name": "markdown"
   }
  },
  "kernelspec": {
   "display_name": "Python 3 (ipykernel)",
   "language": "python",
   "name": "python3"
  },
  "language_info": {
   "codemirror_mode": {
    "name": "ipython",
    "version": 3
   },
   "file_extension": ".py",
   "mimetype": "text/x-python",
   "name": "python",
   "nbconvert_exporter": "python",
   "pygments_lexer": "ipython3",
   "version": "3.9.2"
  }
 },
 "nbformat": 4,
 "nbformat_minor": 5
}
