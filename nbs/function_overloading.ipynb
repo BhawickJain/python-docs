{
 "cells": [
  {
   "cell_type": "markdown",
   "id": "6bf79e2a-0768-4ee8-a433-ee5c4255b424",
   "metadata": {},
   "source": [
    "# Function Overloading (single and multiple dispatch)\n",
    "\n",
    "Generally reserved for statically typed languages, function overloading allows functions to share names with other functions which vary by their argument types. This had been extensively used in the [fast.ai deepl learning library](https://github.com/fastai/fastai/tree/master/fastai). Introducing function overloading is useful in Python because is support one-obvious-way of doing something. The user of the function does not have to choose a function according to the type being handled but instead simply choose according to their functional need."
   ]
  },
  {
   "cell_type": "markdown",
   "id": "80b8c484-2f57-4eb7-a14f-b9325e7d310f",
   "metadata": {},
   "source": [
    "__Naive Approach__"
   ]
  },
  {
   "cell_type": "code",
   "execution_count": 1,
   "id": "81ef480b-a0e0-4423-9d32-9728cef78ba1",
   "metadata": {},
   "outputs": [],
   "source": [
    "def add (a, b):\n",
    "    if isinstance(a, str) or isinstance(b, str):\n",
    "        return f'{a}{b}'\n",
    "    elif isinstance(a, int) and isinstance(b, int):\n",
    "        return a+b\n",
    "    else:\n",
    "        raise TypeError"
   ]
  },
  {
   "cell_type": "markdown",
   "id": "1f49dff4-2c57-43df-a62c-5a357bd48c9e",
   "metadata": {},
   "source": [
    "Type-specific handling is handled by a careful check of what class the object is an instance of. This makes the code more complicated as it muddles two different types into in the same space. You also need additional if statements to handle the various combination of types and their handling. It also harder to document the logic as all there is only one docstring space to work with.\n",
    "\n",
    "Ideally you want to use multiple functions of the same name each with independent handling per type. The Standard Library uses overloading all the time: `len()` or the arithmatic operators for strings and integers."
   ]
  },
  {
   "cell_type": "code",
   "execution_count": 2,
   "id": "3f063343-6bed-457f-9e4b-3e46589ab99f",
   "metadata": {},
   "outputs": [
    {
     "data": {
      "text/plain": [
       "'ab'"
      ]
     },
     "execution_count": 2,
     "metadata": {},
     "output_type": "execute_result"
    }
   ],
   "source": [
    "'a' + 'b' #'ab'\n",
    "'a' * 2   #'aa'"
   ]
  },
  {
   "cell_type": "markdown",
   "id": "ceea0117-a924-4b65-a453-a9c76fd0e464",
   "metadata": {},
   "source": [
    "__Single Dispatch__\n",
    "\n",
    "Single dispatch is natively supported by Python, unlike multiple dispatch"
   ]
  },
  {
   "cell_type": "code",
   "execution_count": 4,
   "id": "9fc3b4b3-0faa-4517-a678-d4a867eb5df4",
   "metadata": {},
   "outputs": [],
   "source": [
    "from functools import singledispatch\n",
    "from datetime import date, datetime, time\n",
    "\n",
    "@singledispatch  # base implementation\n",
    "def format(arg):\n",
    "    return arg\n",
    "\n",
    "@format.register\n",
    "def _(arg: date):\n",
    "    return f'{arg.day}-{arg.month}-{arg.year}'\n",
    "\n",
    "@format.register\n",
    "def _(arg: datetime):\n",
    "    return f'{arg.day}-{arg.month}-{arg.year} {arg.hour}:{arg.minute}:{arg.second}'\n",
    "\n",
    "@format.register(time)\n",
    "def _(arg):\n",
    "    return f'{arg.hour}:{arg.minute}:{arg.second}'"
   ]
  },
  {
   "cell_type": "code",
   "execution_count": 7,
   "id": "c96531ff-65ca-4f87-8204-930ab245bc49",
   "metadata": {},
   "outputs": [
    {
     "name": "stdout",
     "output_type": "stream",
     "text": [
      "today\n"
     ]
    }
   ],
   "source": [
    "print(format(\"today\")) #today"
   ]
  },
  {
   "cell_type": "code",
   "execution_count": 9,
   "id": "0d29fe2a-1892-4952-9d3a-775677fe521c",
   "metadata": {},
   "outputs": [
    {
     "name": "stdout",
     "output_type": "stream",
     "text": [
      "26-5-2021\n"
     ]
    }
   ],
   "source": [
    "print(format(date(2021, 10, 28))) # 26-5-2021"
   ]
  },
  {
   "cell_type": "code",
   "execution_count": 13,
   "id": "4c877299-6726-4f64-9784-7ac5ffbb4df3",
   "metadata": {},
   "outputs": [
    {
     "name": "stdout",
     "output_type": "stream",
     "text": [
      "28-10-2021 9:0:0\n"
     ]
    }
   ],
   "source": [
    "print(format(datetime(2021, 10, 28, 9, 10, 27))) # 28-10-2021 9:0:0"
   ]
  },
  {
   "cell_type": "code",
   "execution_count": 16,
   "id": "eab93593-ab9a-42bc-9731-032468dc2b83",
   "metadata": {},
   "outputs": [
    {
     "name": "stdout",
     "output_type": "stream",
     "text": [
      "19:42:45\n"
     ]
    }
   ],
   "source": [
    "print(format(time(19, 42, 45))) # 19:42:45"
   ]
  },
  {
   "cell_type": "code",
   "execution_count": 5,
   "id": "40dd7394-bde7-42f3-905e-f43b908b1515",
   "metadata": {},
   "outputs": [],
   "source": [
    "from functools import singledispatchmethod\n",
    "from datetime import date, time\n",
    "\n",
    "class Formatter:\n",
    "    \n",
    "    @singledispatchmethod\n",
    "    def format(self, arg):\n",
    "        raise NoteImplementedError(f'Cannot format value of type {type(arg)}')\n",
    "    \n",
    "    @format.register\n",
    "    def _(self, arg: date):\n",
    "        return f'{arg.day}-{arg.month}-{arg.year}'\n",
    "\n",
    "    @format.register(time)\n",
    "    def _(self, arg):\n",
    "        return f'{arg.hour}:{arg.minute}:{arg.second}'"
   ]
  },
  {
   "cell_type": "code",
   "execution_count": 6,
   "id": "1ad8bab2-ebb2-45f8-b786-70e6e9baefed",
   "metadata": {},
   "outputs": [
    {
     "name": "stdout",
     "output_type": "stream",
     "text": [
      "28-10-2021\n",
      "19:42:45\n"
     ]
    }
   ],
   "source": [
    "f = Formatter()\n",
    "print(f.format(date(2021, 10, 28))) # 26-5-2021\n",
    "print(f.format(time(19, 42, 45))) # 19:42:45"
   ]
  },
  {
   "cell_type": "markdown",
   "id": "e565888e-2457-471e-a03e-429a9d869ac5",
   "metadata": {},
   "source": [
    "## Multiple Dispatch\n",
    "\n",
    "Whilst `single` dispatch allows for a single type to be overloaded, `multipledispatch` allows allow multiple types to be defined for functions."
   ]
  },
  {
   "cell_type": "code",
   "execution_count": null,
   "id": "a3ebc4cf-c14e-4f9c-8899-1a9f2b77c19d",
   "metadata": {},
   "outputs": [],
   "source": [
    "!pip install multipledispatch"
   ]
  },
  {
   "cell_type": "code",
   "execution_count": 15,
   "id": "f71bea62-f8a0-41ff-9382-2077470f0922",
   "metadata": {},
   "outputs": [],
   "source": [
    "from multipledispatch import dispatch\n",
    "\n",
    "@dispatch(list, str)\n",
    "def concatenate(a, b):\n",
    "    a.append(b)\n",
    "    return a\n",
    "\n",
    "@dispatch(str, str)\n",
    "def concatenate(a, b):\n",
    "    return a + b\n",
    "\n",
    "@dispatch(str, int)\n",
    "def concatenate(a, b):\n",
    "    return a + str(b)"
   ]
  },
  {
   "cell_type": "code",
   "execution_count": 16,
   "id": "df156eaa-85e5-4eeb-8986-4bf638e69040",
   "metadata": {},
   "outputs": [
    {
     "name": "stdout",
     "output_type": "stream",
     "text": [
      "['a', 'b', 'c']\n"
     ]
    }
   ],
   "source": [
    "print(concatenate([\"a\", \"b\"], \"c\")) # ['a', 'b', 'c']"
   ]
  },
  {
   "cell_type": "code",
   "execution_count": 17,
   "id": "389b3532-85b2-4369-9d17-0d44df7ffa19",
   "metadata": {},
   "outputs": [
    {
     "name": "stdout",
     "output_type": "stream",
     "text": [
      "HelloWorld\n"
     ]
    }
   ],
   "source": [
    "print(concatenate(\"Hello\", \"World\")) # HelloWorld"
   ]
  },
  {
   "cell_type": "code",
   "execution_count": 18,
   "id": "722f21cf-293d-4716-8f62-75f025bdb042",
   "metadata": {},
   "outputs": [
    {
     "name": "stdout",
     "output_type": "stream",
     "text": [
      "a1\n"
     ]
    }
   ],
   "source": [
    "print(concatenate(\"a\", 1)) # a1"
   ]
  },
  {
   "cell_type": "code",
   "execution_count": null,
   "id": "802e5156-d9a4-4e7c-a6de-87f2c53cccb8",
   "metadata": {},
   "outputs": [],
   "source": [
    "from multipledispatch import dispatch\n",
    "\n",
    "@dispatch((list, tuple), (str, int))\n",
    "def concatenate(a, b):\n",
    "    a.append(b)\n",
    "    return a\n",
    "\n",
    "@dispatch(str, str)\n",
    "def concatenate(a, b):\n",
    "    return a + b\n",
    "\n",
    "@dispatch(str, int)\n",
    "def concatenate(a, b):\n",
    "    return a + str(b)"
   ]
  },
  {
   "cell_type": "code",
   "execution_count": 27,
   "id": "05d6d12c-33ef-45ce-b7a1-4d55c34b88b4",
   "metadata": {},
   "outputs": [
    {
     "data": {
      "text/plain": [
       "False"
      ]
     },
     "execution_count": 27,
     "metadata": {},
     "output_type": "execute_result"
    }
   ],
   "source": [
    "# import Sequence which is the abstract base class for tuples, list and range\n",
    "from collections.abc import Sequence\n",
    "\n",
    "# isinstance does not work to see if list, typles are derived classes of Sequence:\n",
    "isinstance(list, Sequence)"
   ]
  },
  {
   "cell_type": "code",
   "execution_count": null,
   "id": "29342e64-ac28-4f50-84c5-2b5c5a58fe47",
   "metadata": {},
   "outputs": [],
   "source": [
    "from multipledispatch import dispatch\n",
    "\n",
    "@dispatch(Sequence, (str, int))\n",
    "def concatenate(a, b):\n",
    "    a.append(b)\n",
    "    return a\n",
    "\n",
    "@dispatch(str, str)\n",
    "def concatenate(a, b):\n",
    "    return a + b\n",
    "\n",
    "@dispatch(str, int)\n",
    "def concatenate(a, b):\n",
    "    return a + str(b)"
   ]
  },
  {
   "cell_type": "markdown",
   "id": "326083bf-88ec-438d-8a8e-9e80c4291073",
   "metadata": {},
   "source": [
    "Other considers are initialising classes with different types input types, i.e. overloading the `__init__`. But [this reference](https://stackoverflow.com/questions/141545/how-to-overload-init-method-based-on-argument-type/141777#141777) shows some way to tackle that."
   ]
  },
  {
   "cell_type": "markdown",
   "id": "c051d199-e8a0-45f3-acb4-c837d4500a94",
   "metadata": {},
   "source": [
    "__TODO__  \n",
    "`[ ]` Create some personal examples of using operator overloading  \n",
    "`[ ]` Check other professional code bases and see real examples of it, inc. fastai.  "
   ]
  },
  {
   "cell_type": "markdown",
   "id": "84cd34f8-ed20-4e6a-aa38-e4c1051871cb",
   "metadata": {},
   "source": [
    "## References\n",
    "\n",
    "1. [The correct Way to Overload Functions -- Martin Heinz](https://towardsdatascience.com/the-correct-way-to-overload-functions-in-python-b11b50ca7336)\n",
    "2. [Five-minute Multimethods Python -- Guide van van Rossum](https://www.artima.com/weblogs/viewpost.jsp?thread=101605)"
   ]
  }
 ],
 "metadata": {
  "jupytext": {
   "formats": "ipynb,md"
  },
  "kernelspec": {
   "display_name": "Python 3 (ipykernel)",
   "language": "python",
   "name": "python3"
  },
  "language_info": {
   "codemirror_mode": {
    "name": "ipython",
    "version": 3
   },
   "file_extension": ".py",
   "mimetype": "text/x-python",
   "name": "python",
   "nbconvert_exporter": "python",
   "pygments_lexer": "ipython3",
   "version": "3.10.0"
  }
 },
 "nbformat": 4,
 "nbformat_minor": 5
}
