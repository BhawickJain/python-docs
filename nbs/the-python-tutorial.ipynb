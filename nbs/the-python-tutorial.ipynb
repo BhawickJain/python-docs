{
 "cells": [
  {
   "cell_type": "markdown",
   "id": "abstract-musical",
   "metadata": {},
   "source": [
    "## The Python Tutorial\n",
    "[[doc](https://docs.python.org/3/tutorial/index.html)]\n",
    "\n",
    "A tour of the noteworthy features of the Python Language and introduces the [Python Standard Library](https://docs.python.org/3/library/index.html#library-index). Python Docs also offer a glossary of terms [[py-docs-glossary](https://docs.python.org/3/glossary.html#glossary)]"
   ]
  },
  {
   "cell_type": "markdown",
   "id": "incorrect-indication",
   "metadata": {},
   "source": [
    "`[?]` How do you define a dictionary?  "
   ]
  },
  {
   "cell_type": "code",
   "execution_count": 1,
   "id": "inner-settle",
   "metadata": {},
   "outputs": [],
   "source": [
    "dict = {\"postcode\":\"BS1 5PL\", \"line1\":\"18 Parkstreet\"}"
   ]
  },
  {
   "cell_type": "code",
   "execution_count": 2,
   "id": "iraqi-surveillance",
   "metadata": {},
   "outputs": [
    {
     "data": {
      "text/plain": [
       "dict"
      ]
     },
     "execution_count": 2,
     "metadata": {},
     "output_type": "execute_result"
    }
   ],
   "source": [
    "type(dict)"
   ]
  },
  {
   "cell_type": "markdown",
   "id": "falling-request",
   "metadata": {},
   "source": [
    "### Whetting your Appetite\n",
    "\n",
    "`[?]` What problems does Python solve?  \n",
    "`[>]` Slow development cycles like that of C/C++/Java, requiring write/compile/test/re-compiles. This is particularly true if you want to quickly write a test suite for a C/C++ library, writing it in Python is must faster.\n",
    "\n",
    "`[?]` Why might you use python over Bash scripts?  \n",
    "`[>]` Python is portable across many platforms and is a fully features programming language unlike Bash. Bash is also much harder to maintain if its codebase become very large.\n",
    "\n",
    "`[?]` What are high-level data types?  \n",
    "`>>>` High-level data structures don't expose pointers, are simpler and on usally faster to implement reliably in general situations.\n",
    "\n",
    "`[?]` Why might an interpreted language be an advantage?  \n",
    "`[>]` No compiling and linking is necessary. The code can be written interactively thanks to this. This is helpful to bottom-up development of a program.\n",
    "\n"
   ]
  },
  {
   "cell_type": "markdown",
   "id": "demographic-insulin",
   "metadata": {},
   "source": [
    "### Invoking the Interpretor\n",
    "\n",
    "`[?]` Where is the python interpreter usually stored?  \n",
    "`[>]` `/usr/local/bin/python3.9`. Usually placed in the `PATH` variable to make it available in the shell directly."
   ]
  },
  {
   "cell_type": "code",
   "execution_count": 3,
   "id": "weird-posting",
   "metadata": {},
   "outputs": [
    {
     "name": "stdout",
     "output_type": "stream",
     "text": [
      "Python 3.9.2\n"
     ]
    }
   ],
   "source": [
    "! python3 --version"
   ]
  },
  {
   "cell_type": "markdown",
   "id": "harmful-western",
   "metadata": {},
   "source": [
    "Invoke a command or module directly through an interpreter.  \n",
    "`python -c command [arg]`  \n",
    "`python -m module [arg]`  \n",
    "\n",
    "Invoke a script and then interact with it.  \n",
    "`python script.py -1`"
   ]
  },
  {
   "cell_type": "markdown",
   "id": "incoming-relationship",
   "metadata": {},
   "source": [
    "`[?]` What encoding do python script usually treated as?  \n",
    "`[>]` UTF-8"
   ]
  },
  {
   "cell_type": "markdown",
   "id": "potential-springfield",
   "metadata": {},
   "source": [
    "`[?]` How do you declare an encoding that is different to UTF-8 in a script? "
   ]
  },
  {
   "cell_type": "code",
   "execution_count": 2,
   "id": "liquid-greensboro",
   "metadata": {},
   "outputs": [],
   "source": [
    "# -*- coding: encoding -*-\n",
    "\n",
    "# or \n",
    "\n",
    "#!/usr/bin/env python3\n",
    "# -*- coding: encoding -*-"
   ]
  },
  {
   "cell_type": "markdown",
   "id": "clean-economics",
   "metadata": {},
   "source": [
    "### An Informal Introduction to Python"
   ]
  },
  {
   "cell_type": "markdown",
   "id": "exciting-nickel",
   "metadata": {},
   "source": [
    "__Numbers__\n",
    "\n",
    "`[?]` What data type does the `/` division return?  \n",
    "`[>]` floating point number"
   ]
  },
  {
   "cell_type": "code",
   "execution_count": 5,
   "id": "indonesian-speed",
   "metadata": {},
   "outputs": [
    {
     "data": {
      "text/plain": [
       "float"
      ]
     },
     "execution_count": 5,
     "metadata": {},
     "output_type": "execute_result"
    }
   ],
   "source": [
    "type(8/5)"
   ]
  },
  {
   "cell_type": "code",
   "execution_count": 6,
   "id": "productive-trunk",
   "metadata": {},
   "outputs": [
    {
     "data": {
      "text/plain": [
       "float"
      ]
     },
     "execution_count": 6,
     "metadata": {},
     "output_type": "execute_result"
    }
   ],
   "source": [
    "type(8/4)"
   ]
  },
  {
   "cell_type": "markdown",
   "id": "first-overhead",
   "metadata": {},
   "source": [
    "`[?]` Does floor division `//` yield a `float` data type?  \n",
    "`[>]` No, always an `int`."
   ]
  },
  {
   "cell_type": "code",
   "execution_count": 7,
   "id": "lesser-crack",
   "metadata": {},
   "outputs": [
    {
     "data": {
      "text/plain": [
       "int"
      ]
     },
     "execution_count": 7,
     "metadata": {},
     "output_type": "execute_result"
    }
   ],
   "source": [
    "type(8//5)"
   ]
  },
  {
   "cell_type": "code",
   "execution_count": 8,
   "id": "cleared-fifth",
   "metadata": {},
   "outputs": [
    {
     "data": {
      "text/plain": [
       "int"
      ]
     },
     "execution_count": 8,
     "metadata": {},
     "output_type": "execute_result"
    }
   ],
   "source": [
    "type(8%5)"
   ]
  },
  {
   "cell_type": "markdown",
   "id": "steady-literacy",
   "metadata": {},
   "source": [
    "`[?]` What notation is used for floor and remainder divisons?  "
   ]
  },
  {
   "cell_type": "markdown",
   "id": "upper-advice",
   "metadata": {},
   "source": [
    "`[?]` What happens when you declare a variable that matches a function?  \n",
    "`[>]` You mask the function with the local variable making it inaccessible. It almost as though have overwritten it in the local symbol table. Since the built-in symbol table is checked last, it won't check there."
   ]
  },
  {
   "cell_type": "markdown",
   "id": "dramatic-pharmaceutical",
   "metadata": {},
   "source": [
    "`[?]` How common is it accidently declare variable that has a function of the same name?"
   ]
  },
  {
   "cell_type": "code",
   "execution_count": 6,
   "id": "postal-basics",
   "metadata": {},
   "outputs": [
    {
     "data": {
      "text/plain": [
       "6.0"
      ]
     },
     "execution_count": 6,
     "metadata": {},
     "output_type": "execute_result"
    }
   ],
   "source": [
    "round(5.86,0)"
   ]
  },
  {
   "cell_type": "code",
   "execution_count": 5,
   "id": "funky-heaven",
   "metadata": {},
   "outputs": [],
   "source": [
    "round = 5.596"
   ]
  },
  {
   "cell_type": "code",
   "execution_count": 11,
   "id": "increased-newsletter",
   "metadata": {},
   "outputs": [],
   "source": [
    "# round(5.86,0) # TypeError: 'float' object is not callable"
   ]
  },
  {
   "cell_type": "markdown",
   "id": "thermal-vegetarian",
   "metadata": {},
   "source": [
    "`[ ]` Create an example that uses `Decimal`, `Fraction` and `ComplexNumbers` objects."
   ]
  },
  {
   "cell_type": "markdown",
   "id": "continued-failing",
   "metadata": {},
   "source": [
    "__Strings__\n",
    "\n",
    "`\"...\"` `'...'` to write strings with `\\` to escape characters."
   ]
  },
  {
   "cell_type": "code",
   "execution_count": 2,
   "id": "motivated-victorian",
   "metadata": {},
   "outputs": [
    {
     "data": {
      "text/plain": [
       "\"is't it great!\""
      ]
     },
     "execution_count": 2,
     "metadata": {},
     "output_type": "execute_result"
    }
   ],
   "source": [
    "text = 'is\\'t it great!'\n",
    "text"
   ]
  },
  {
   "cell_type": "markdown",
   "id": "parliamentary-studio",
   "metadata": {},
   "source": [
    "or just do this"
   ]
  },
  {
   "cell_type": "code",
   "execution_count": 4,
   "id": "critical-version",
   "metadata": {},
   "outputs": [
    {
     "data": {
      "text/plain": [
       "\"is't is great\""
      ]
     },
     "execution_count": 4,
     "metadata": {},
     "output_type": "execute_result"
    }
   ],
   "source": [
    "text = \"is't is great\"\n",
    "text"
   ]
  },
  {
   "cell_type": "code",
   "execution_count": 5,
   "id": "aggressive-groove",
   "metadata": {},
   "outputs": [
    {
     "name": "stdout",
     "output_type": "stream",
     "text": [
      "first line.\n",
      "second line\n"
     ]
    }
   ],
   "source": [
    "print('first line.\\nsecond line')"
   ]
  },
  {
   "cell_type": "markdown",
   "id": "historic-neighborhood",
   "metadata": {},
   "source": [
    "`[?]` When placing `\\n` in a string, do you need a space after it?  "
   ]
  },
  {
   "cell_type": "markdown",
   "id": "short-arrival",
   "metadata": {},
   "source": [
    "`>>>` No, since python knows its expecting a single character."
   ]
  },
  {
   "cell_type": "markdown",
   "id": "turned-standing",
   "metadata": {},
   "source": [
    "`[?]` What other characters need to be escaped?"
   ]
  },
  {
   "cell_type": "markdown",
   "id": "trained-twenty",
   "metadata": {},
   "source": [
    "`[?]` When `\\n` is placed inside a string variable, what happens?"
   ]
  },
  {
   "cell_type": "code",
   "execution_count": 7,
   "id": "painted-portsmouth",
   "metadata": {},
   "outputs": [
    {
     "data": {
      "text/plain": [
       "'first line.\\nsecond line'"
      ]
     },
     "execution_count": 7,
     "metadata": {},
     "output_type": "execute_result"
    }
   ],
   "source": [
    "a = \"first line.\\nsecond line\"\n",
    "a"
   ]
  },
  {
   "cell_type": "code",
   "execution_count": 8,
   "id": "celtic-rouge",
   "metadata": {},
   "outputs": [
    {
     "name": "stdout",
     "output_type": "stream",
     "text": [
      "first line.\n",
      "second line\n"
     ]
    }
   ],
   "source": [
    "print(a)"
   ]
  },
  {
   "cell_type": "markdown",
   "id": "derived-folder",
   "metadata": {},
   "source": [
    "You need the `print()` function to make use of the `\\n` or equivalent."
   ]
  },
  {
   "cell_type": "markdown",
   "id": "incorporated-constraint",
   "metadata": {},
   "source": [
    "`[?]` How can you escape characters in a string without `\\`?\n",
    "`[>]` Write the `r` character right before the quote to treat it as a raw text."
   ]
  },
  {
   "cell_type": "code",
   "execution_count": 9,
   "id": "built-plymouth",
   "metadata": {},
   "outputs": [
    {
     "name": "stdout",
     "output_type": "stream",
     "text": [
      "C:\\some\n",
      "ame\n"
     ]
    }
   ],
   "source": [
    "print('C:\\some\\name')"
   ]
  },
  {
   "cell_type": "code",
   "execution_count": 10,
   "id": "metric-scope",
   "metadata": {},
   "outputs": [
    {
     "name": "stdout",
     "output_type": "stream",
     "text": [
      "C:\\some\\name\n"
     ]
    }
   ],
   "source": [
    "print(r'C:\\some\\name')"
   ]
  },
  {
   "cell_type": "markdown",
   "id": "experimental-medicaid",
   "metadata": {},
   "source": [
    "`[?]` How do you prevent a new line from printing when using triple-quote literals `\"\"\"...\"\"\"` and `'''...'''`?"
   ]
  },
  {
   "cell_type": "code",
   "execution_count": 12,
   "id": "existing-thing",
   "metadata": {},
   "outputs": [
    {
     "name": "stdout",
     "output_type": "stream",
     "text": [
      "\n",
      "Usage: thing [OPTIONS]\n",
      "    -h                           Display this usage message\n",
      "    -H hostname                  Hostname to connect to\n",
      "\n"
     ]
    }
   ],
   "source": [
    "print(\"\"\"\n",
    "Usage: thing [OPTIONS]\n",
    "    -h                           Display this usage message\n",
    "    -H hostname                  Hostname to connect to\n",
    "\"\"\")"
   ]
  },
  {
   "cell_type": "markdown",
   "id": "unique-thumbnail",
   "metadata": {},
   "source": [
    "Use `\\` at the end of the line to remove the spare newline right at the start."
   ]
  },
  {
   "cell_type": "code",
   "execution_count": 13,
   "id": "minute-confusion",
   "metadata": {},
   "outputs": [
    {
     "name": "stdout",
     "output_type": "stream",
     "text": [
      "Usage: thing [OPTIONS]\n",
      "    -h                           Display this usage message\n",
      "    -H hostname                  Hostname to connect to\n",
      "\n"
     ]
    }
   ],
   "source": [
    "print(\"\"\"\\\n",
    "Usage: thing [OPTIONS]\n",
    "    -h                           Display this usage message\n",
    "    -H hostname                  Hostname to connect to\n",
    "\"\"\")"
   ]
  },
  {
   "cell_type": "code",
   "execution_count": 14,
   "id": "chemical-cause",
   "metadata": {},
   "outputs": [
    {
     "data": {
      "text/plain": [
       "'Usage: thing [OPTIONS]\\n    -h                           Display this usage message\\n    -H hostname                  Hostname to connect to\\n'"
      ]
     },
     "execution_count": 14,
     "metadata": {},
     "output_type": "execute_result"
    }
   ],
   "source": [
    "a = \"\"\"\\\n",
    "Usage: thing [OPTIONS]\n",
    "    -h                           Display this usage message\n",
    "    -H hostname                  Hostname to connect to\n",
    "\"\"\"\n",
    "a"
   ]
  },
  {
   "cell_type": "code",
   "execution_count": 15,
   "id": "therapeutic-retrieval",
   "metadata": {},
   "outputs": [
    {
     "name": "stdout",
     "output_type": "stream",
     "text": [
      "Usage: thing [OPTIONS]\n",
      "    -h                           Display this usage message\n",
      "    -H hostname                  Hostname to connect to\n",
      "\n"
     ]
    }
   ],
   "source": [
    "print(a)"
   ]
  },
  {
   "cell_type": "markdown",
   "id": "raised-colony",
   "metadata": {},
   "source": [
    "`[?]` What happens when you do the following?"
   ]
  },
  {
   "cell_type": "code",
   "execution_count": 16,
   "id": "vertical-adventure",
   "metadata": {},
   "outputs": [
    {
     "data": {
      "text/plain": [
       "'python'"
      ]
     },
     "execution_count": 16,
     "metadata": {},
     "output_type": "execute_result"
    }
   ],
   "source": [
    "'py' 'thon'"
   ]
  },
  {
   "cell_type": "markdown",
   "id": "considerable-handy",
   "metadata": {},
   "source": [
    "`[?]`What happens when you do the following?"
   ]
  },
  {
   "cell_type": "code",
   "execution_count": 18,
   "id": "musical-cancellation",
   "metadata": {},
   "outputs": [
    {
     "data": {
      "text/plain": [
       "'www.google.com'"
      ]
     },
     "execution_count": 18,
     "metadata": {},
     "output_type": "execute_result"
    }
   ],
   "source": [
    "3 * 'w' + '.google.com'"
   ]
  },
  {
   "cell_type": "markdown",
   "id": "satisfactory-company",
   "metadata": {},
   "source": [
    "`[?]` What happens when you do the following?"
   ]
  },
  {
   "cell_type": "code",
   "execution_count": 21,
   "id": "compact-mandate",
   "metadata": {},
   "outputs": [
    {
     "data": {
      "text/plain": [
       "'These are several string within parentheses what do you think happens?'"
      ]
     },
     "execution_count": 21,
     "metadata": {},
     "output_type": "execute_result"
    }
   ],
   "source": [
    "a = ('These are several string within parentheses '\n",
    "     'what do you think happens?')\n",
    "a"
   ]
  },
  {
   "cell_type": "markdown",
   "id": "broke-string",
   "metadata": {},
   "source": [
    "`[?]` When might it be useful?  \n",
    "`[>]` Allows for a body of text to be placed without need to wrap text."
   ]
  },
  {
   "cell_type": "markdown",
   "id": "appropriate-momentum",
   "metadata": {},
   "source": [
    "`[?]` When doesn't it work?"
   ]
  },
  {
   "cell_type": "code",
   "execution_count": 32,
   "id": "final-oklahoma",
   "metadata": {},
   "outputs": [
    {
     "ename": "SyntaxError",
     "evalue": "invalid syntax (<ipython-input-32-ca67f109a922>, line 3)",
     "output_type": "error",
     "traceback": [
      "\u001b[0;36m  File \u001b[0;32m\"<ipython-input-32-ca67f109a922>\"\u001b[0;36m, line \u001b[0;32m3\u001b[0m\n\u001b[0;31m    b)\u001b[0m\n\u001b[0m    ^\u001b[0m\n\u001b[0;31mSyntaxError\u001b[0m\u001b[0;31m:\u001b[0m invalid syntax\n"
     ]
    }
   ],
   "source": [
    "b = 'what do you think happens?'\n",
    "a = ('These are several string within parentheses '\n",
    "     b)"
   ]
  },
  {
   "cell_type": "code",
   "execution_count": 30,
   "id": "specialized-attack",
   "metadata": {},
   "outputs": [],
   "source": [
    "prefix = 'Py'\n",
    "# prefix 'thon'"
   ]
  },
  {
   "cell_type": "code",
   "execution_count": 31,
   "id": "finished-andrew",
   "metadata": {},
   "outputs": [
    {
     "data": {
      "text/plain": [
       "'Python'"
      ]
     },
     "execution_count": 31,
     "metadata": {},
     "output_type": "execute_result"
    }
   ],
   "source": [
    "prefix = 'Py'\n",
    "prefix + 'thon'"
   ]
  },
  {
   "cell_type": "markdown",
   "id": "fuzzy-airline",
   "metadata": {},
   "source": [
    "__Slicing Strings__"
   ]
  },
  {
   "cell_type": "markdown",
   "id": "fifth-inventory",
   "metadata": {},
   "source": [
    "`[?]` How do you select the second last character of a string?  "
   ]
  },
  {
   "cell_type": "code",
   "execution_count": 34,
   "id": "fixed-cleaner",
   "metadata": {},
   "outputs": [
    {
     "data": {
      "text/plain": [
       "'p'"
      ]
     },
     "execution_count": 34,
     "metadata": {},
     "output_type": "execute_result"
    }
   ],
   "source": [
    "word = 'python'\n",
    "word[0]   # first character\n",
    "word[-1]  # last character\n",
    "word[-2]  # second last character\n",
    "word[-6]  # first character"
   ]
  },
  {
   "cell_type": "markdown",
   "id": "successful-transition",
   "metadata": {},
   "source": [
    "`[?]` How do you substring?"
   ]
  },
  {
   "cell_type": "code",
   "execution_count": 35,
   "id": "located-nutrition",
   "metadata": {},
   "outputs": [
    {
     "data": {
      "text/plain": [
       "'pytho'"
      ]
     },
     "execution_count": 35,
     "metadata": {},
     "output_type": "execute_result"
    }
   ],
   "source": [
    "word[:5]  # 0 to 4 char positions"
   ]
  },
  {
   "cell_type": "markdown",
   "id": "south-flesh",
   "metadata": {},
   "source": [
    "The last number is always ignored. This enables the complementary substring slices to equal the complete word:"
   ]
  },
  {
   "cell_type": "code",
   "execution_count": 43,
   "id": "satisfactory-angle",
   "metadata": {},
   "outputs": [
    {
     "data": {
      "text/plain": [
       "'python'"
      ]
     },
     "execution_count": 43,
     "metadata": {},
     "output_type": "execute_result"
    }
   ],
   "source": [
    "word[:2] + word[2:]"
   ]
  },
  {
   "cell_type": "code",
   "execution_count": 36,
   "id": "sustained-network",
   "metadata": {},
   "outputs": [
    {
     "data": {
      "text/plain": [
       "'on'"
      ]
     },
     "execution_count": 36,
     "metadata": {},
     "output_type": "execute_result"
    }
   ],
   "source": [
    "word[-2:] # last two char"
   ]
  },
  {
   "cell_type": "code",
   "execution_count": 38,
   "id": "vital-london",
   "metadata": {},
   "outputs": [
    {
     "data": {
      "text/plain": [
       "'o'"
      ]
     },
     "execution_count": 38,
     "metadata": {},
     "output_type": "execute_result"
    }
   ],
   "source": [
    "word[4:5] # fifth character, equivalent to word[4]"
   ]
  },
  {
   "cell_type": "code",
   "execution_count": 44,
   "id": "suitable-daniel",
   "metadata": {},
   "outputs": [
    {
     "data": {
      "text/plain": [
       "'thon'"
      ]
     },
     "execution_count": 44,
     "metadata": {},
     "output_type": "execute_result"
    }
   ],
   "source": [
    "word[2:80] # over extending the index leads to just returning "
   ]
  },
  {
   "cell_type": "markdown",
   "id": "classified-terminal",
   "metadata": {},
   "source": [
    "yet when referring to the index directly will result in a type error."
   ]
  },
  {
   "cell_type": "code",
   "execution_count": 47,
   "id": "banned-excess",
   "metadata": {},
   "outputs": [],
   "source": [
    "# word[80] # IndexError"
   ]
  },
  {
   "cell_type": "code",
   "execution_count": 48,
   "id": "genetic-rental",
   "metadata": {},
   "outputs": [
    {
     "data": {
      "text/plain": [
       "'thon'"
      ]
     },
     "execution_count": 48,
     "metadata": {},
     "output_type": "execute_result"
    }
   ],
   "source": [
    "word[2:6] # word is 6 characters long"
   ]
  },
  {
   "cell_type": "code",
   "execution_count": 49,
   "id": "oriental-reduction",
   "metadata": {},
   "outputs": [
    {
     "data": {
      "text/plain": [
       "'tho'"
      ]
     },
     "execution_count": 49,
     "metadata": {},
     "output_type": "execute_result"
    }
   ],
   "source": [
    "word[2:5] # although last char is at position 5, the last position is ignored."
   ]
  },
  {
   "cell_type": "markdown",
   "id": "associate-generator",
   "metadata": {},
   "source": [
    "`[?]` What might be another way to remember the indices in a slice?  \n",
    "`[>]` The indices can be treated as through they point between the numbers."
   ]
  },
  {
   "cell_type": "markdown",
   "id": "radical-settlement",
   "metadata": {},
   "source": [
    "```\n",
    " +---+---+---+---+---+---+\n",
    " | P | y | t | h | o | n |\n",
    " +---+---+---+---+---+---+\n",
    " 0   1   2   3   4   5   6\n",
    "-6  -5  -4  -3  -2  -1\n",
    "```"
   ]
  },
  {
   "cell_type": "markdown",
   "id": "improving-highland",
   "metadata": {},
   "source": [
    "`[?]` Can you change a single character of a string?"
   ]
  },
  {
   "cell_type": "code",
   "execution_count": 50,
   "id": "narrow-hungary",
   "metadata": {},
   "outputs": [
    {
     "ename": "TypeError",
     "evalue": "'str' object does not support item assignment",
     "output_type": "error",
     "traceback": [
      "\u001b[0;31m---------------------------------------------------------------------------\u001b[0m",
      "\u001b[0;31mTypeError\u001b[0m                                 Traceback (most recent call last)",
      "\u001b[0;32m<ipython-input-50-da95b6e2e648>\u001b[0m in \u001b[0;36m<module>\u001b[0;34m\u001b[0m\n\u001b[0;32m----> 1\u001b[0;31m \u001b[0mword\u001b[0m\u001b[0;34m[\u001b[0m\u001b[0;36m0\u001b[0m\u001b[0;34m]\u001b[0m \u001b[0;34m=\u001b[0m \u001b[0;34m'j'\u001b[0m\u001b[0;34m\u001b[0m\u001b[0;34m\u001b[0m\u001b[0m\n\u001b[0m",
      "\u001b[0;31mTypeError\u001b[0m: 'str' object does not support item assignment"
     ]
    }
   ],
   "source": [
    "# word[0] = 'j' # TypeError"
   ]
  },
  {
   "cell_type": "markdown",
   "id": "lesser-induction",
   "metadata": {},
   "source": [
    "You need to create a new string"
   ]
  },
  {
   "cell_type": "code",
   "execution_count": 54,
   "id": "welcome-trout",
   "metadata": {},
   "outputs": [
    {
     "data": {
      "text/plain": [
       "'jython'"
      ]
     },
     "execution_count": 54,
     "metadata": {},
     "output_type": "execute_result"
    }
   ],
   "source": [
    "'j' + word[1:]"
   ]
  },
  {
   "cell_type": "markdown",
   "id": "unknown-samba",
   "metadata": {},
   "source": [
    "`[?]` How do you find the length of a string?"
   ]
  },
  {
   "cell_type": "code",
   "execution_count": 55,
   "id": "latest-retention",
   "metadata": {},
   "outputs": [
    {
     "data": {
      "text/plain": [
       "6"
      ]
     },
     "execution_count": 55,
     "metadata": {},
     "output_type": "execute_result"
    }
   ],
   "source": [
    "len(word)"
   ]
  },
  {
   "cell_type": "markdown",
   "id": "textile-rugby",
   "metadata": {},
   "source": [
    "See also:  \n",
    "[Text Sequence Type -- Str](https://docs.python.org/3/library/stdtypes.html#textseq)  \n",
    "[String Methods](https://docs.python.org/3/library/stdtypes.html#string-methods)  \n",
    "[Formatted string literals](https://docs.python.org/3/reference/lexical_analysis.html#f-strings)  \n",
    "[Format String Syntax](https://docs.python.org/3/library/string.html#formatstrings)  \n",
    "[printf-style String Formatting](https://docs.python.org/3/library/stdtypes.html#old-string-formatting) -- Describes the `%` operator in more detail  "
   ]
  },
  {
   "cell_type": "markdown",
   "id": "mobile-spank",
   "metadata": {},
   "source": [
    "__Lists__\n"
   ]
  },
  {
   "cell_type": "markdown",
   "id": "dependent-footwear",
   "metadata": {},
   "source": [
    "`[?]` What happens when you slice a list, what does it return?  \n",
    "`[>]` Returns a new list"
   ]
  },
  {
   "cell_type": "markdown",
   "id": "eight-technician",
   "metadata": {},
   "source": [
    "`[?]` What when you assign a variable with `alist[:]`?  \n",
    "`[>]` A shallow copy is created of the list?"
   ]
  },
  {
   "cell_type": "markdown",
   "id": "perceived-retail",
   "metadata": {},
   "source": [
    "`[?]` What is a [shallow copy](https://docs.python.org/3/library/copy.html#shallow-vs-deep-copy)? <br>\n",
    "`[>]` A shallow copy creates a new object and then creates references to the objects held within the original object to best possible extent. This is instead of deep copy which creates an object but then recursively copies all the objects within into this new object.\n",
    "\n",
    "`[?]` When should the problem of deep copy and shallow copy be considered?  \n",
    "`[>]` When you have an object that contains other objects like a `list` type."
   ]
  },
  {
   "cell_type": "markdown",
   "id": "fatal-serial",
   "metadata": {},
   "source": [
    "`[?]` What problems can occur in deep copy?  \n",
    "`[?]` Does Python offer a Copy-On-Write feature like Swift?  \n",
    "`[?]` How might you use the `deepcopy()` function to mitigate this?"
   ]
  },
  {
   "cell_type": "markdown",
   "id": "advised-obligation",
   "metadata": {},
   "source": [
    "`[?]` How are lists different from strings when considering them to be a list of characters?\n",
    "`[>]` String of Characters are immutible whilst lists are not. Python lists allows mixed data types whilst a string of characters is just that."
   ]
  },
  {
   "cell_type": "code",
   "execution_count": 1,
   "id": "north-sunday",
   "metadata": {},
   "outputs": [
    {
     "data": {
      "text/plain": [
       "[9, 16, 25]"
      ]
     },
     "execution_count": 1,
     "metadata": {},
     "output_type": "execute_result"
    }
   ],
   "source": [
    "squares = [1, 4, 9, 16, 25]\n",
    "squares[0] # first items with index notation\n",
    "squares[-1] # 25 \n",
    "squares[-3:] # [9, 16, 25]"
   ]
  },
  {
   "cell_type": "markdown",
   "id": "cleared-stopping",
   "metadata": {},
   "source": [
    "`[?]` What does slicing a list do?  \n",
    "`[>]` It returns a new list."
   ]
  },
  {
   "cell_type": "code",
   "execution_count": 3,
   "id": "particular-error",
   "metadata": {},
   "outputs": [
    {
     "data": {
      "text/plain": [
       "[1, 4, 9, 16, 25, 36, 49, 64, 81, 100]"
      ]
     },
     "execution_count": 3,
     "metadata": {},
     "output_type": "execute_result"
    }
   ],
   "source": [
    "squares + [36, 49, 64, 81, 100] # Lists can be concatenated"
   ]
  },
  {
   "cell_type": "code",
   "execution_count": 7,
   "id": "charming-indication",
   "metadata": {},
   "outputs": [
    {
     "data": {
      "text/plain": [
       "[1, 4, 72, 16, 25]"
      ]
     },
     "execution_count": 7,
     "metadata": {},
     "output_type": "execute_result"
    }
   ],
   "source": [
    "squares[-3] = 72  # Lists are mutable\n",
    "squares"
   ]
  },
  {
   "cell_type": "markdown",
   "id": "flying-excellence",
   "metadata": {},
   "source": [
    "`[?]` What other data are `mutable` (like lists) and `immutable` (like strings)? "
   ]
  },
  {
   "cell_type": "markdown",
   "id": "geographic-congo",
   "metadata": {},
   "source": [
    "`[?]` How do you replace a list of values in a list?"
   ]
  },
  {
   "cell_type": "code",
   "execution_count": 9,
   "id": "distributed-turkish",
   "metadata": {},
   "outputs": [
    {
     "data": {
      "text/plain": [
       "['a', 'b', 'C', 'D', 'E', 'f', 'g']"
      ]
     },
     "execution_count": 9,
     "metadata": {},
     "output_type": "execute_result"
    }
   ],
   "source": [
    "letters = ['a', 'b', 'c', 'd', 'e', 'f', 'g']\n",
    "letters[2:5] = ['C', 'D', 'E']\n",
    "letters"
   ]
  },
  {
   "cell_type": "markdown",
   "id": "rural-printer",
   "metadata": {},
   "source": [
    "`[?]` What is a nifty way to remove a list of items in a list?"
   ]
  },
  {
   "cell_type": "code",
   "execution_count": 12,
   "id": "hazardous-rainbow",
   "metadata": {},
   "outputs": [
    {
     "data": {
      "text/plain": [
       "['a', 'b']"
      ]
     },
     "execution_count": 12,
     "metadata": {},
     "output_type": "execute_result"
    }
   ],
   "source": [
    "letters[2:5] = [] # resize list\n",
    "letters"
   ]
  },
  {
   "cell_type": "code",
   "execution_count": 14,
   "id": "exposed-monster",
   "metadata": {},
   "outputs": [
    {
     "data": {
      "text/plain": [
       "[]"
      ]
     },
     "execution_count": 14,
     "metadata": {},
     "output_type": "execute_result"
    }
   ],
   "source": [
    "letters[:] = [] # remove all items\n",
    "letters"
   ]
  },
  {
   "cell_type": "markdown",
   "id": "hazardous-prefix",
   "metadata": {},
   "source": [
    "`[?]` Can you use the `len` function on `list` types?  \n",
    "`[?]` Is it possible to implement your own `len` method for your own data structure?"
   ]
  },
  {
   "cell_type": "markdown",
   "id": "ignored-wrist",
   "metadata": {},
   "source": [
    "`[?]` How do you select a list of lists?"
   ]
  },
  {
   "cell_type": "code",
   "execution_count": 15,
   "id": "detailed-structure",
   "metadata": {},
   "outputs": [
    {
     "data": {
      "text/plain": [
       "[['a', 'b', 'c'], ['1', '2', '3']]"
      ]
     },
     "execution_count": 15,
     "metadata": {},
     "output_type": "execute_result"
    }
   ],
   "source": [
    "a = ['a', 'b', 'c']\n",
    "n = ['1', '2', '3']\n",
    "c = [a, n]\n",
    "c"
   ]
  },
  {
   "cell_type": "code",
   "execution_count": 19,
   "id": "published-complement",
   "metadata": {},
   "outputs": [
    {
     "data": {
      "text/plain": [
       "'a'"
      ]
     },
     "execution_count": 19,
     "metadata": {},
     "output_type": "execute_result"
    }
   ],
   "source": [
    "c[0][-3]"
   ]
  },
  {
   "cell_type": "markdown",
   "id": "false-organ",
   "metadata": {},
   "source": [
    "`[?]` What is evaluated first in the two lines?  \n",
    "`[>]` For Line 1, both variablesa are assigned simultaneously. For Line 2, the LHS terms are evaluated first then the RHS."
   ]
  },
  {
   "cell_type": "code",
   "execution_count": 25,
   "id": "southern-instrument",
   "metadata": {},
   "outputs": [
    {
     "data": {
      "text/plain": [
       "(1, 3)"
      ]
     },
     "execution_count": 25,
     "metadata": {},
     "output_type": "execute_result"
    }
   ],
   "source": [
    "a, b = 2, 1\n",
    "a, b = b, a + b\n",
    "a, b"
   ]
  },
  {
   "cell_type": "markdown",
   "id": "adolescent-winter",
   "metadata": {},
   "source": [
    "`[?]` When evaluating an integer as a boolean what does Python and C have in common?  \n",
    "`[>]` Zero values are considered `False` and non-zero values are considered `True`\n",
    "\n",
    "`[?]` How is an iterable object evaluated as a boolean?  \n",
    "`[>]` Its `len()` result is considered and treated: if zero condition is `False`, if non-zero condition is `True`."
   ]
  },
  {
   "cell_type": "code",
   "execution_count": 26,
   "id": "satisfactory-drive",
   "metadata": {},
   "outputs": [
    {
     "name": "stdout",
     "output_type": "stream",
     "text": [
      "0,1,1,2,3,5,8,13,21,34,55,89,144,233,377,610,987,"
     ]
    }
   ],
   "source": [
    "a, b = 0, 1\n",
    "while a < 1000:\n",
    "    print(a, end=',')\n",
    "    a, b = b, a+b"
   ]
  },
  {
   "cell_type": "markdown",
   "id": "wound-context",
   "metadata": {},
   "source": [
    "`[?]` What does the decorator property `@` in a class do?"
   ]
  },
  {
   "cell_type": "markdown",
   "id": "suspected-practice",
   "metadata": {},
   "source": [
    "### Control Flow Statements"
   ]
  },
  {
   "cell_type": "markdown",
   "id": "sustained-absolute",
   "metadata": {},
   "source": [
    "__If Statements__\n",
    "\n",
    "`[?]` What three statement can be used for an if statement in Python?  \n",
    "`[>]` `if`, `elif`, `else`\n",
    "\n",
    "`[?]` When would you use `elif` versus `else`?  <br>\n",
    "`[>]` `elif` is great when you want to test for another condition. `else` is good _anything else_.\n",
    "\n",
    "`[?]` What is the `elif` statement a substitute for?  \n",
    "`[>]` It is a substitute for the `case` operator that is typically offered in a language like `C`. It prevents successive intentation or nesting of if statements."
   ]
  },
  {
   "cell_type": "markdown",
   "id": "recreational-swedish",
   "metadata": {},
   "source": [
    "__For Statements__\n",
    "\n",
    "`[?]` How is Python's `for` statement different from `Pascals` or `C`?  <br>\n",
    "`[>]` Pascals can only iterate over progressive number sequences, whilst in C you need to define the iteration and stopping condition. In Python it iterates until you reach the end of a collection, sort of generalising both problems.\n",
    "\n",
    "`[?]` What is python documentation's recommendation on iterating and modifying a collection simultaneously?  \n",
    "`[>]` It is tricky to get right and is it best if you create a new or work on a copy of the collection instead.\n",
    "\n",
    "`[ ]` Create a minimal example to demo this."
   ]
  },
  {
   "cell_type": "markdown",
   "id": "worst-function",
   "metadata": {},
   "source": [
    "__Range Statements__"
   ]
  },
  {
   "cell_type": "markdown",
   "id": "better-mother",
   "metadata": {},
   "source": [
    "Predict the following results:"
   ]
  },
  {
   "cell_type": "code",
   "execution_count": 1,
   "id": "detailed-necessity",
   "metadata": {},
   "outputs": [
    {
     "data": {
      "text/plain": [
       "range(0, 5)"
      ]
     },
     "execution_count": 1,
     "metadata": {},
     "output_type": "execute_result"
    }
   ],
   "source": [
    "range(5)"
   ]
  },
  {
   "cell_type": "code",
   "execution_count": 4,
   "id": "usual-lighting",
   "metadata": {},
   "outputs": [
    {
     "data": {
      "text/plain": [
       "range(5, 10)"
      ]
     },
     "execution_count": 4,
     "metadata": {},
     "output_type": "execute_result"
    }
   ],
   "source": [
    "range(5, 10)"
   ]
  },
  {
   "cell_type": "code",
   "execution_count": 5,
   "id": "formal-ecuador",
   "metadata": {},
   "outputs": [
    {
     "data": {
      "text/plain": [
       "range(0, 10, 3)"
      ]
     },
     "execution_count": 5,
     "metadata": {},
     "output_type": "execute_result"
    }
   ],
   "source": [
    "range(0, 10, 3)"
   ]
  },
  {
   "cell_type": "code",
   "execution_count": 7,
   "id": "celtic-hospital",
   "metadata": {},
   "outputs": [
    {
     "data": {
      "text/plain": [
       "range(-10, -100, -30)"
      ]
     },
     "execution_count": 7,
     "metadata": {},
     "output_type": "execute_result"
    }
   ],
   "source": [
    "range(-10, -100, -30)"
   ]
  },
  {
   "cell_type": "markdown",
   "id": "opening-meter",
   "metadata": {},
   "source": [
    "`[?]` Why does range not give a list but you can iterate over it as if it is one?  \n",
    "`[?]` It appears be an iterable object where the `range()` yields when iterated over until exhausted, this prevents a large range from having to be in memory.  "
   ]
  },
  {
   "cell_type": "code",
   "execution_count": 11,
   "id": "under-minority",
   "metadata": {},
   "outputs": [
    {
     "data": {
      "text/plain": [
       "6"
      ]
     },
     "execution_count": 11,
     "metadata": {},
     "output_type": "execute_result"
    }
   ],
   "source": [
    "sum(range(4)) # 0 + 1 + 2 + 3"
   ]
  },
  {
   "cell_type": "markdown",
   "id": "opened-therapy",
   "metadata": {},
   "source": [
    "`[?]` How do you convert a `range(a)` into a `list`?  <br>\n",
    "`[>]` Use the `list()` function which takes an iterable object and puts its objects inside into a list"
   ]
  },
  {
   "cell_type": "code",
   "execution_count": 10,
   "id": "weird-center",
   "metadata": {},
   "outputs": [
    {
     "data": {
      "text/plain": [
       "[0, 1, 2, 3]"
      ]
     },
     "execution_count": 10,
     "metadata": {},
     "output_type": "execute_result"
    }
   ],
   "source": [
    "list(range(4))"
   ]
  },
  {
   "cell_type": "markdown",
   "id": "catholic-prior",
   "metadata": {},
   "source": [
    "`[?]` Why do the terms in `range(b, a, c)` represent?  \n",
    "`[>]` `a` is the end number and is never included by the range, `b` is the start point and is always yielded. `c` is the size of the step to add to the inital value. For `range(a)` is treated as `range(0, a, 1)` and `range(b, a)` is treated as `range(b, a, 1)`"
   ]
  },
  {
   "cell_type": "code",
   "execution_count": 2,
   "id": "alpine-trustee",
   "metadata": {},
   "outputs": [
    {
     "name": "stdout",
     "output_type": "stream",
     "text": [
      "0 Mary\n",
      "1 had\n",
      "2 a\n",
      "3 little\n",
      "4 lamb\n"
     ]
    }
   ],
   "source": [
    "a = ['Mary', 'had', 'a', 'little', 'lamb']\n",
    "for i in range(len(a)):\n",
    "    print(i, a[i])"
   ]
  },
  {
   "cell_type": "markdown",
   "id": "demonstrated-triangle",
   "metadata": {},
   "source": [
    "`[?]` How might you use the `range` function enumerate a collection whilst iterating it?  \n",
    "`[>]` You can use `len(range(list))` to iterate over its yield. That yielded value can be used an index to both know it and access the list item at that index. "
   ]
  },
  {
   "cell_type": "markdown",
   "id": "cultural-advertiser",
   "metadata": {},
   "source": [
    "`[?]` What alternatives does Python to iterating and enumerating a python list simulataneosly?  \n",
    "`[>]` You can use the `enumerate()` statement instead. More info under [Looping Techniques](https://docs.python.org/3/tutorial/datastructures.html#tut-loopidioms)"
   ]
  },
  {
   "cell_type": "code",
   "execution_count": 4,
   "id": "above-concord",
   "metadata": {},
   "outputs": [
    {
     "name": "stdout",
     "output_type": "stream",
     "text": [
      "0 Mary\n",
      "1 had\n",
      "2 a\n",
      "3 little\n",
      "4 lamb\n"
     ]
    }
   ],
   "source": [
    "for i, v in enumerate(a):\n",
    "    print(i, v)"
   ]
  },
  {
   "cell_type": "markdown",
   "id": "japanese-radar",
   "metadata": {},
   "source": [
    "__Break and Continue, and Else Clauses on Loops__"
   ]
  },
  {
   "cell_type": "markdown",
   "id": "necessary-establishment",
   "metadata": {},
   "source": [
    "`[?]` What and when is the `break` statement used for?  \n",
    "`[>]` `break` is used to break out of a while or for loop.  \n",
    "\n",
    "`[?]` What and where is the `else` statement used for?  \n",
    "`[>]` `else` can be in a `for` and a `while` statement is executed when loop is exhausted either because nothing was run or the iterable is exhausted.  \n",
    "\n",
    "`[?]` What is the time when the `else` clause isn't executed?  \n",
    "`[>]` When there is a break in the loop.  \n",
    "\n",
    "`[?]` Conceptually, what is `for`, `else` statement similar to?  \n",
    "`[>]` Python's `try`, `else` statements."
   ]
  },
  {
   "cell_type": "markdown",
   "id": "remarkable-scene",
   "metadata": {},
   "source": [
    "`[?]` What is a `continue` statement?  \n",
    "`[>]` The `continue` statement like the `pass` clause enables the compiler to do nothing under a block. If you have a loop which under an `if` evaluation simply need to iterate without doing anything else, that's where you use the `continue` clause.  \n",
    "\n",
    "example of using a `continue` clause"
   ]
  },
  {
   "cell_type": "code",
   "execution_count": 16,
   "id": "systematic-compromise",
   "metadata": {},
   "outputs": [
    {
     "name": "stdout",
     "output_type": "stream",
     "text": [
      "Found an even number 2\n",
      "Found an odd number 3\n",
      "Found an even number 4\n",
      "Found an odd number 5\n",
      "Found an even number 6\n",
      "Found an odd number 7\n",
      "Found an even number 8\n",
      "Found an odd number 9\n"
     ]
    }
   ],
   "source": [
    "for num in range(2, 10):\n",
    "    if num % 2 == 0:\n",
    "        print(\"Found an even number\", num)\n",
    "        continue\n",
    "    print(\"Found an odd number\", num)\n"
   ]
  },
  {
   "cell_type": "markdown",
   "id": "industrial-number",
   "metadata": {},
   "source": [
    "`[?]` How can you simplify the following statement?"
   ]
  },
  {
   "cell_type": "code",
   "execution_count": 17,
   "id": "pleasant-marking",
   "metadata": {},
   "outputs": [
    {
     "name": "stdout",
     "output_type": "stream",
     "text": [
      "This is an alphabet: y\n"
     ]
    }
   ],
   "source": [
    "alpha = \"y\"\n",
    "print(f\"This is an alphabet: {alpha}\")"
   ]
  },
  {
   "cell_type": "code",
   "execution_count": 19,
   "id": "robust-threshold",
   "metadata": {},
   "outputs": [
    {
     "name": "stdout",
     "output_type": "stream",
     "text": [
      "This is an alphabet: y\n"
     ]
    }
   ],
   "source": [
    "print(\"This is an alphabet:\", alpha)"
   ]
  },
  {
   "cell_type": "markdown",
   "id": "sporting-combination",
   "metadata": {},
   "source": [
    "The concatenation in the `print` statement automatically adds a space in between."
   ]
  },
  {
   "cell_type": "markdown",
   "id": "gothic-dividend",
   "metadata": {},
   "source": [
    "`[?]` What is a good use case for the `continue` statement?\n",
    "\n",
    "`[?]` Can you create good examples where the `break`, `continue` and `else` statements are useful?"
   ]
  },
  {
   "cell_type": "code",
   "execution_count": 15,
   "id": "national-passport",
   "metadata": {},
   "outputs": [
    {
     "name": "stdout",
     "output_type": "stream",
     "text": [
      "2 is a prime number\n",
      "3 is a prime number\n",
      "4 equals 2 * 2\n",
      "5 is a prime number\n",
      "6 equals 2 * 3\n",
      "7 is a prime number\n",
      "8 equals 2 * 4\n",
      "9 equals 3 * 3\n"
     ]
    }
   ],
   "source": [
    "for n in range(2, 10):\n",
    "    for x in range(2, n):\n",
    "        if n % x == 0:\n",
    "            print(n, 'equals', x, '*', n//x)\n",
    "            break\n",
    "    else:\n",
    "        # loop fell through without finding a factor\n",
    "        print(n, 'is a prime number')"
   ]
  },
  {
   "cell_type": "markdown",
   "id": "confidential-spell",
   "metadata": {},
   "source": [
    "__Pass Statements__\n",
    "\n",
    "`[?]` What does a pass statement do?  \n",
    "`[>]` Nothing, just tells the compiler to jog on to the next block."
   ]
  },
  {
   "cell_type": "markdown",
   "id": "difficult-blind",
   "metadata": {},
   "source": [
    "`[?]` Where might the `pass` clause be used for?"
   ]
  },
  {
   "cell_type": "markdown",
   "id": "promising-priest",
   "metadata": {},
   "source": [
    "Busy-wait statements"
   ]
  },
  {
   "cell_type": "code",
   "execution_count": 13,
   "id": "studied-theorem",
   "metadata": {
    "tags": []
   },
   "outputs": [
    {
     "ename": "KeyboardInterrupt",
     "evalue": "",
     "output_type": "error",
     "traceback": [
      "\u001b[0;31m---------------------------------------------------------------------------\u001b[0m",
      "\u001b[0;31mKeyboardInterrupt\u001b[0m                         Traceback (most recent call last)",
      "\u001b[0;32m<ipython-input-13-6c897b726cee>\u001b[0m in \u001b[0;36m<module>\u001b[0;34m\u001b[0m\n\u001b[1;32m      1\u001b[0m \u001b[0;32mwhile\u001b[0m \u001b[0;32mTrue\u001b[0m\u001b[0;34m:\u001b[0m\u001b[0;34m\u001b[0m\u001b[0;34m\u001b[0m\u001b[0m\n\u001b[0;32m----> 2\u001b[0;31m     \u001b[0;32mpass\u001b[0m \u001b[0;31m# Busy-wait for keyboard interrupt (Ctrl+C)\u001b[0m\u001b[0;34m\u001b[0m\u001b[0;34m\u001b[0m\u001b[0m\n\u001b[0m",
      "\u001b[0;31mKeyboardInterrupt\u001b[0m: "
     ]
    }
   ],
   "source": [
    "while True:\n",
    "    pass # Busy-wait for keyboard interrupt (Ctrl+C)"
   ]
  },
  {
   "cell_type": "markdown",
   "id": "quarterly-heath",
   "metadata": {},
   "source": [
    "minimal classes"
   ]
  },
  {
   "cell_type": "code",
   "execution_count": null,
   "id": "incoming-valentine",
   "metadata": {},
   "outputs": [],
   "source": [
    "class MyEmptyClass:\n",
    "    pass"
   ]
  },
  {
   "cell_type": "markdown",
   "id": "occasional-pride",
   "metadata": {},
   "source": [
    "`[?]` what are minimal classes?"
   ]
  },
  {
   "cell_type": "markdown",
   "id": "harmful-register",
   "metadata": {},
   "source": [
    "placeholder for methods whilst they are under-development"
   ]
  },
  {
   "cell_type": "code",
   "execution_count": 14,
   "id": "south-monthly",
   "metadata": {},
   "outputs": [],
   "source": [
    "def initlog(*args):\n",
    "    pass # Remember to implement this!"
   ]
  },
  {
   "cell_type": "markdown",
   "id": "challenging-sterling",
   "metadata": {},
   "source": [
    "`[?]` Where can you use the pass statement in your work?"
   ]
  },
  {
   "cell_type": "markdown",
   "id": "reported-colorado",
   "metadata": {},
   "source": [
    "__Defining Functions__\n",
    "\n",
    "`[?]` What does `def` stand for?  \n",
    "`[?]` How does a function manage its local variables?  \n",
    "`[>]` Through the creation of a new symbol table which stores all local variables.\n",
    "\n",
    "`[?]` How does a function find the value or method behind a word?  \n",
    "`[>]` It first checks its local symbol table, then another local symbol table for all the functions, then a global symbol table and then finally a table of built-in names. \n",
    "\n",
    "`[?]` Where do the function parameters sit?  \n",
    "`[>]` In the local symbol table the moment you call it. This means when ever you call another function or itself (recursively) you end up creating a new symbol table for that call. The caller passes object references, instead of the values, which the callee function uses. Once returned back to the caller, that function check for any changes to the objects it referred to."
   ]
  },
  {
   "cell_type": "code",
   "execution_count": 6,
   "id": "worldwide-breakdown",
   "metadata": {},
   "outputs": [],
   "source": [
    "def fib(n):    # write Fibonnacci series up to n\n",
    "    \"\"\"Print a Fibonacci series up to n\"\"\"\n",
    "    a, b = 0, 1\n",
    "    while a < n: \n",
    "        print(a,\" \")\n",
    "        a, b = b, a+b\n",
    "    print()"
   ]
  },
  {
   "cell_type": "markdown",
   "id": "controversial-calendar",
   "metadata": {},
   "source": [
    "`[?]` How does a function call another function?  \n",
    "`[>]` Each function has its own local symbol table, in which it has the name of the function and the reference to the function object. This also allows a variable to refer to the function variable."
   ]
  },
  {
   "cell_type": "code",
   "execution_count": 7,
   "id": "confirmed-mouse",
   "metadata": {},
   "outputs": [
    {
     "data": {
      "text/plain": [
       "<function __main__.fib(n)>"
      ]
     },
     "execution_count": 7,
     "metadata": {},
     "output_type": "execute_result"
    }
   ],
   "source": [
    "fib"
   ]
  },
  {
   "cell_type": "code",
   "execution_count": 8,
   "id": "spanish-meditation",
   "metadata": {},
   "outputs": [
    {
     "name": "stdout",
     "output_type": "stream",
     "text": [
      "0  \n",
      "1  \n",
      "1  \n",
      "2  \n",
      "3  \n",
      "5  \n",
      "8  \n",
      "13  \n",
      "21  \n",
      "34  \n",
      "55  \n",
      "89  \n",
      "\n"
     ]
    }
   ],
   "source": [
    "f = fib\n",
    "f(100)"
   ]
  },
  {
   "cell_type": "markdown",
   "id": "talented-buyer",
   "metadata": {},
   "source": [
    "More documentation on [[docstrings](https://docs.python.org/3/tutorial/controlflow.html#tut-docstrings)] <br>\n",
    "`[?]` What are some good docstring practices?"
   ]
  },
  {
   "cell_type": "markdown",
   "id": "angry-trademark",
   "metadata": {},
   "source": [
    "`[?]` What the difference between a procedure and a function?  \n",
    "`[>]` A procedure doesn't return anything once it finishes, a function does.  \n",
    "\n",
    "`[?]` Are Python function always functions?  \n",
    "`[>]` Yes, as even without the `return` statement the function _still_ `None`\n",
    "\n",
    "`[?]` What happens when the function stops before return?  \n",
    "`[>]` Just returns `None`."
   ]
  },
  {
   "cell_type": "code",
   "execution_count": 11,
   "id": "competitive-tours",
   "metadata": {},
   "outputs": [
    {
     "name": "stdout",
     "output_type": "stream",
     "text": [
      "\n",
      "None\n"
     ]
    }
   ],
   "source": [
    "print(fib(0))"
   ]
  },
  {
   "cell_type": "markdown",
   "id": "disturbed-study",
   "metadata": {},
   "source": [
    "`[?]` How does python enable user-defined type?  \n",
    "`[>]` Through `Class` blocks."
   ]
  },
  {
   "cell_type": "markdown",
   "id": "given-california",
   "metadata": {},
   "source": [
    "__Functions and Arguments__"
   ]
  },
  {
   "cell_type": "code",
   "execution_count": 13,
   "id": "physical-equity",
   "metadata": {},
   "outputs": [],
   "source": [
    "def ask_ok(prompt, retries=4, reminder='Please Try again!'):\n",
    "    while True:\n",
    "        ok = input(prompt)\n",
    "        if ok in ('y', 'ye', 'yee', 'yes'):\n",
    "            return True\n",
    "        if ok in ('n', 'no', 'nop', 'nope'):\n",
    "            return False\n",
    "        retries = retries -1 \n",
    "        if retries < 0:\n",
    "            raise ValueError('invalid user response')\n",
    "        print(reminder)"
   ]
  },
  {
   "cell_type": "markdown",
   "id": "banner-geology",
   "metadata": {},
   "source": [
    "`[?]` What are default arguments?  \n",
    "`[>]` They are just variable names with an assigned value in the function definition, `retries=4`. It allows for sane defaults, and reduces the number of argument you need to send in. \n",
    "\n",
    "`[?]` Are there any example fo default arguments?  \n",
    "`[>]` The `range()` function has sane default for example."
   ]
  },
  {
   "cell_type": "code",
   "execution_count": 14,
   "id": "certain-windsor",
   "metadata": {},
   "outputs": [
    {
     "name": "stdout",
     "output_type": "stream",
     "text": [
      "You feeling great?!yeee\n",
      "Please Try again!\n",
      "You feeling great?!yee\n"
     ]
    },
    {
     "data": {
      "text/plain": [
       "True"
      ]
     },
     "execution_count": 14,
     "metadata": {},
     "output_type": "execute_result"
    }
   ],
   "source": [
    "ask_ok(\"You feeling great?!\")"
   ]
  },
  {
   "cell_type": "code",
   "execution_count": 15,
   "id": "underlying-brake",
   "metadata": {},
   "outputs": [
    {
     "name": "stdout",
     "output_type": "stream",
     "text": [
      "You feeling great?meh\n",
      "you sure?\n",
      "You feeling great?no\n"
     ]
    },
    {
     "data": {
      "text/plain": [
       "False"
      ]
     },
     "execution_count": 15,
     "metadata": {},
     "output_type": "execute_result"
    }
   ],
   "source": [
    "ask_ok(\"You feeling great?\", 2, reminder='you sure?')"
   ]
  },
  {
   "cell_type": "markdown",
   "id": "handled-selling",
   "metadata": {},
   "source": [
    "`[?]` How do you check if a value exists in a sequence?  \n",
    "`[>]` using the `in` keyword.\n",
    "\n",
    "`[?]` Can the `in` keyword work with `list` and `tuple` types? What about other iterable types?  \n",
    "`[>]` Yes, all iterable types can be evaluated with the `in` keyword, including the `range()` function."
   ]
  },
  {
   "cell_type": "code",
   "execution_count": 16,
   "id": "previous-yeast",
   "metadata": {},
   "outputs": [
    {
     "data": {
      "text/plain": [
       "['Mary', 'had', 'a', 'little', 'lamb']"
      ]
     },
     "execution_count": 16,
     "metadata": {},
     "output_type": "execute_result"
    }
   ],
   "source": [
    "a"
   ]
  },
  {
   "cell_type": "code",
   "execution_count": 17,
   "id": "aging-pleasure",
   "metadata": {},
   "outputs": [
    {
     "data": {
      "text/plain": [
       "True"
      ]
     },
     "execution_count": 17,
     "metadata": {},
     "output_type": "execute_result"
    }
   ],
   "source": [
    "'Mary' in a"
   ]
  },
  {
   "cell_type": "code",
   "execution_count": 20,
   "id": "gentle-oklahoma",
   "metadata": {},
   "outputs": [],
   "source": [
    "b = (1, 2, 4)"
   ]
  },
  {
   "cell_type": "code",
   "execution_count": 22,
   "id": "earned-aside",
   "metadata": {},
   "outputs": [
    {
     "data": {
      "text/plain": [
       "True"
      ]
     },
     "execution_count": 22,
     "metadata": {},
     "output_type": "execute_result"
    }
   ],
   "source": [
    "4 in b"
   ]
  },
  {
   "cell_type": "code",
   "execution_count": 23,
   "id": "surprising-textbook",
   "metadata": {},
   "outputs": [],
   "source": [
    "c = range(1,4)"
   ]
  },
  {
   "cell_type": "code",
   "execution_count": 24,
   "id": "purple-harbor",
   "metadata": {},
   "outputs": [
    {
     "data": {
      "text/plain": [
       "True"
      ]
     },
     "execution_count": 24,
     "metadata": {},
     "output_type": "execute_result"
    }
   ],
   "source": [
    "3 in c"
   ]
  },
  {
   "cell_type": "code",
   "execution_count": 25,
   "id": "portuguese-experiment",
   "metadata": {},
   "outputs": [
    {
     "data": {
      "text/plain": [
       "range"
      ]
     },
     "execution_count": 25,
     "metadata": {},
     "output_type": "execute_result"
    }
   ],
   "source": [
    "type(c)"
   ]
  },
  {
   "cell_type": "markdown",
   "id": "constitutional-robert",
   "metadata": {},
   "source": [
    "`[?]` Predict what happens in the following block of code?  "
   ]
  },
  {
   "cell_type": "code",
   "execution_count": 1,
   "id": "organic-right",
   "metadata": {},
   "outputs": [
    {
     "name": "stdout",
     "output_type": "stream",
     "text": [
      "5\n"
     ]
    }
   ],
   "source": [
    "i = 5\n",
    "\n",
    "def f(arg=i):\n",
    "    print(arg)\n",
    "    \n",
    "i = 6\n",
    "f()"
   ]
  },
  {
   "cell_type": "markdown",
   "id": "related-termination",
   "metadata": {},
   "source": [
    "`[>]` `arg=5` as default argument are evaluated when defining the function. Including any expressions in the default arguments. This makes this behaviour a little bit like `const expression` in C++."
   ]
  },
  {
   "cell_type": "code",
   "execution_count": 28,
   "id": "special-release",
   "metadata": {},
   "outputs": [
    {
     "name": "stdout",
     "output_type": "stream",
     "text": [
      "25\n"
     ]
    }
   ],
   "source": [
    "i = 5\n",
    "\n",
    "def f(arg=i**2):\n",
    "    print(arg)\n",
    "    \n",
    "i = 6\n",
    "f()"
   ]
  },
  {
   "cell_type": "markdown",
   "id": "recreational-columbus",
   "metadata": {},
   "source": [
    "`[?]` Are default arguments in a function shared between calls?  \n",
    "`[>]` Yes, default arguments which mutable like a list which are changed in function remain so in the next function all.\n",
    "\n",
    "`[?]` How many times are default arguments evaluated and what is the consequences of that?  \n",
    "`[>]` Default arguments are only evaluated once at function definition, this means if the function changes it, it remains to that new value for the next function call. That initial value is never created because the original default expression is never reevaluated."
   ]
  },
  {
   "cell_type": "code",
   "execution_count": 41,
   "id": "cross-encounter",
   "metadata": {},
   "outputs": [],
   "source": [
    "def f(a, L=[]):\n",
    "    L.append(a)\n",
    "    return L"
   ]
  },
  {
   "cell_type": "code",
   "execution_count": 42,
   "id": "secondary-kernel",
   "metadata": {},
   "outputs": [
    {
     "data": {
      "text/plain": [
       "[1]"
      ]
     },
     "execution_count": 42,
     "metadata": {},
     "output_type": "execute_result"
    }
   ],
   "source": [
    "f(1)"
   ]
  },
  {
   "cell_type": "code",
   "execution_count": 43,
   "id": "considerable-advertising",
   "metadata": {},
   "outputs": [
    {
     "data": {
      "text/plain": [
       "[1, 2]"
      ]
     },
     "execution_count": 43,
     "metadata": {},
     "output_type": "execute_result"
    }
   ],
   "source": [
    "f(2)"
   ]
  },
  {
   "cell_type": "code",
   "execution_count": 44,
   "id": "hearing-arcade",
   "metadata": {},
   "outputs": [
    {
     "data": {
      "text/plain": [
       "[1, 2, 3]"
      ]
     },
     "execution_count": 44,
     "metadata": {},
     "output_type": "execute_result"
    }
   ],
   "source": [
    "f(3)"
   ]
  },
  {
   "cell_type": "markdown",
   "id": "prostate-burns",
   "metadata": {},
   "source": [
    "`[?]` How might you prevent the sharing of default arguments between calls?  \n",
    "`[>]` By setting the default argument to `None`, then changing it to the default value and type given it is None."
   ]
  },
  {
   "cell_type": "code",
   "execution_count": 62,
   "id": "organized-weekly",
   "metadata": {},
   "outputs": [],
   "source": [
    "def g(a, L=None):\n",
    "    if L is None:\n",
    "        L = []\n",
    "    L.append(a)\n",
    "    return L"
   ]
  },
  {
   "cell_type": "code",
   "execution_count": 63,
   "id": "killing-crawford",
   "metadata": {},
   "outputs": [
    {
     "data": {
      "text/plain": [
       "[1]"
      ]
     },
     "execution_count": 63,
     "metadata": {},
     "output_type": "execute_result"
    }
   ],
   "source": [
    "g(1)"
   ]
  },
  {
   "cell_type": "code",
   "execution_count": 64,
   "id": "bibliographic-republic",
   "metadata": {},
   "outputs": [
    {
     "data": {
      "text/plain": [
       "[2]"
      ]
     },
     "execution_count": 64,
     "metadata": {},
     "output_type": "execute_result"
    }
   ],
   "source": [
    "g(2)"
   ]
  },
  {
   "cell_type": "markdown",
   "id": "thrown-finish",
   "metadata": {},
   "source": [
    "`[?]` Is `None` always evaluated even though the function default argument are always evaluated once?  \n",
    "`[>]` My hunch is, that by setting the default arg as `None` you have not instatiated it in the symbol table. So when you declare the variable inside the function do a fresh evaluation for that specific call which resets the value to a default.\n"
   ]
  },
  {
   "cell_type": "code",
   "execution_count": 3,
   "id": "exposed-springfield",
   "metadata": {},
   "outputs": [],
   "source": [
    "def h(a, L=None):\n",
    "    if L is None:\n",
    "        pass\n",
    "    return L"
   ]
  },
  {
   "cell_type": "code",
   "execution_count": 6,
   "id": "illegal-delhi",
   "metadata": {},
   "outputs": [],
   "source": [
    "h(2)"
   ]
  },
  {
   "cell_type": "markdown",
   "id": "julian-dylan",
   "metadata": {},
   "source": [
    "Notice how L is nothing, the `return` statement doesn't even give `None` as an answer."
   ]
  },
  {
   "cell_type": "markdown",
   "id": "confirmed-archives",
   "metadata": {},
   "source": [
    "__Keyword Arguments__\n",
    "\n",
    "`[?]` What are keyword arguments? How are they different from normal arguments?  \n",
    "`[>]` They are just arguments which are preceded by an identifier. [[py-docs-kwarg](https://docs.python.org/3/glossary.html#term-argument)]  \n",
    "\n",
    "`[?]` Are default arguments keyword arguments?  \n",
    "`[?]` Yes.\n",
    "\n"
   ]
  },
  {
   "cell_type": "code",
   "execution_count": 14,
   "id": "advisory-japan",
   "metadata": {},
   "outputs": [],
   "source": [
    "def parrot(voltage, state='a stuff', action='voom', type='Norwegian Blue'):\n",
    "    print(\"-- This parrot wouldn't\", action, end=' ')\n",
    "    print(\"if you put\", voltage, \"voltags through it.\")\n",
    "    print(\"-- Lovely plumage, the\", type)\n",
    "    print(\"-- It's\", state, \"!\")"
   ]
  },
  {
   "cell_type": "markdown",
   "id": "integrated-canvas",
   "metadata": {},
   "source": [
    "`[?]` Identify the result the type of arguments being sent in."
   ]
  },
  {
   "cell_type": "code",
   "execution_count": 10,
   "id": "compressed-disaster",
   "metadata": {},
   "outputs": [
    {
     "name": "stdout",
     "output_type": "stream",
     "text": [
      "-- This parrot wouldn't voom if you put 1000 voltags through it.\n",
      "-- Lovely plumaae, the Norwegian Blue\n",
      "-- It's a stuff !\n"
     ]
    }
   ],
   "source": [
    "parrot(1000)"
   ]
  },
  {
   "cell_type": "code",
   "execution_count": 11,
   "id": "advance-advocacy",
   "metadata": {},
   "outputs": [
    {
     "name": "stdout",
     "output_type": "stream",
     "text": [
      "-- This parrot wouldn't voom if you put 1000 voltags through it.\n",
      "-- Lovely plumaae, the Norwegian Blue\n",
      "-- It's a stuff !\n"
     ]
    }
   ],
   "source": [
    "parrot(voltage=1000)"
   ]
  },
  {
   "cell_type": "code",
   "execution_count": 13,
   "id": "seeing-sharing",
   "metadata": {},
   "outputs": [
    {
     "name": "stdout",
     "output_type": "stream",
     "text": [
      "-- This parrot wouldn't VOOM if you put 1000 voltags through it.\n",
      "-- Lovely plumaae, the Norwegian Blue\n",
      "-- It's a stuff !\n"
     ]
    }
   ],
   "source": [
    "parrot(voltage=1000, action='VOOM')"
   ]
  },
  {
   "cell_type": "code",
   "execution_count": 16,
   "id": "approximate-radar",
   "metadata": {},
   "outputs": [
    {
     "name": "stdout",
     "output_type": "stream",
     "text": [
      "-- This parrot wouldn't VOOM if you put 1000 voltags through it.\n",
      "-- Lovely plumage, the Norwegian Blue\n",
      "-- It's a stuff !\n"
     ]
    }
   ],
   "source": [
    "parrot(action='VOOM', voltage=1000)"
   ]
  },
  {
   "cell_type": "code",
   "execution_count": 17,
   "id": "liberal-doctor",
   "metadata": {},
   "outputs": [
    {
     "name": "stdout",
     "output_type": "stream",
     "text": [
      "-- This parrot wouldn't voom if you put a million voltags through it.\n",
      "-- Lovely plumage, the Norwegian Blue\n",
      "-- It's bereft of lifejump !\n"
     ]
    }
   ],
   "source": [
    "parrot('a million', 'bereft of life' 'jump')"
   ]
  },
  {
   "cell_type": "code",
   "execution_count": 18,
   "id": "desirable-plaintiff",
   "metadata": {},
   "outputs": [
    {
     "name": "stdout",
     "output_type": "stream",
     "text": [
      "-- This parrot wouldn't voom if you put a thousand voltags through it.\n",
      "-- Lovely plumage, the Norwegian Blue\n",
      "-- It's pushing up the daisies !\n"
     ]
    }
   ],
   "source": [
    "parrot('a thousand', state='pushing up the daisies')"
   ]
  },
  {
   "cell_type": "markdown",
   "id": "arabic-amateur",
   "metadata": {},
   "source": [
    "`[?]` Can you send a keyword argument a positional argument?  \n",
    "`[>]` Yes, you just need to make sure you match the position and it precedes any keyword arguments being declared.\n",
    "\n",
    "`[?]` Why might it be that you have you declare positional argument before keyword arguments?  \n",
    "`[>]` Because keyword arguments can be declared in any order, once you have declared a keyword argument it wouldn't necessarily be in the next position. So you can't assume positional arguments."
   ]
  },
  {
   "cell_type": "markdown",
   "id": "immune-haven",
   "metadata": {},
   "source": [
    "`[?]` The following statements will throw errors, why might this be?"
   ]
  },
  {
   "cell_type": "code",
   "execution_count": null,
   "id": "cross-tourist",
   "metadata": {},
   "outputs": [],
   "source": [
    "parrot()\n",
    "parrot(voltage=5.0, 'dead')\n",
    "parrot(110, voltage=220)\n",
    "parrot(actor='John Cleese')"
   ]
  },
  {
   "cell_type": "markdown",
   "id": "charming-exploration",
   "metadata": {},
   "source": [
    "`[?]` How do you make an argument optional?  \n",
    "`[>]` By giving it a keyword argument with a default value."
   ]
  },
  {
   "cell_type": "code",
   "execution_count": 19,
   "id": "armed-arthur",
   "metadata": {},
   "outputs": [
    {
     "ename": "TypeError",
     "evalue": "function() got multiple values for argument 'a'",
     "output_type": "error",
     "traceback": [
      "\u001b[0;31m---------------------------------------------------------------------------\u001b[0m",
      "\u001b[0;31mTypeError\u001b[0m                                 Traceback (most recent call last)",
      "\u001b[0;32m<ipython-input-19-0658d145b8a6>\u001b[0m in \u001b[0;36m<module>\u001b[0;34m\u001b[0m\n\u001b[1;32m      2\u001b[0m     \u001b[0;32mpass\u001b[0m\u001b[0;34m\u001b[0m\u001b[0;34m\u001b[0m\u001b[0m\n\u001b[1;32m      3\u001b[0m \u001b[0;34m\u001b[0m\u001b[0m\n\u001b[0;32m----> 4\u001b[0;31m \u001b[0mfunction\u001b[0m\u001b[0;34m(\u001b[0m\u001b[0;36m0\u001b[0m\u001b[0;34m,\u001b[0m \u001b[0ma\u001b[0m\u001b[0;34m=\u001b[0m\u001b[0;36m0\u001b[0m\u001b[0;34m)\u001b[0m\u001b[0;34m\u001b[0m\u001b[0;34m\u001b[0m\u001b[0m\n\u001b[0m",
      "\u001b[0;31mTypeError\u001b[0m: function() got multiple values for argument 'a'"
     ]
    }
   ],
   "source": [
    "def function(a):\n",
    "    pass\n",
    "\n",
    "function(0, a=0)"
   ]
  },
  {
   "cell_type": "markdown",
   "id": "genetic-conviction",
   "metadata": {},
   "source": [
    "__Tuple and Dictionary Arguments__\n",
    "\n"
   ]
  },
  {
   "cell_type": "code",
   "execution_count": 4,
   "id": "revised-ambassador",
   "metadata": {},
   "outputs": [],
   "source": [
    "def cheeseshop(kind, *arguments, **keywords):\n",
    "    print(\"-- Do you have any\", kind, \"?\")\n",
    "    print(\"-- I'm sorry, we're all out of\", kind)\n",
    "    for arg in arguments:\n",
    "        print(arg)\n",
    "    print(\"-\" * 40)\n",
    "    for kw in keywords:\n",
    "        print(kw, \":\", keywords[kw])"
   ]
  },
  {
   "cell_type": "markdown",
   "id": "united-belize",
   "metadata": {},
   "source": [
    "`[?]` Of what `type` are `*arguments` and `**keywords`? <br>"
   ]
  },
  {
   "cell_type": "code",
   "execution_count": 8,
   "id": "unusual-regulation",
   "metadata": {},
   "outputs": [
    {
     "name": "stdout",
     "output_type": "stream",
     "text": [
      "*words <class 'tuple'>\n",
      "**keywords <class 'dict'>\n"
     ]
    }
   ],
   "source": [
    "def afunc(word, *words, **keywords):\n",
    "    print('*words',type(words))\n",
    "    print('**keywords', type(keywords))\n",
    "\n",
    "afunc('words', 'sun', 'lee', weather='sunny', beach='sand')"
   ]
  },
  {
   "cell_type": "markdown",
   "id": "tender-accountability",
   "metadata": {},
   "source": [
    "`[>]` Arguments marked by `*` are tuples and `**` keyword dictionaries. see [[py-doc-map-dict](https://docs.python.org/3/library/stdtypes.html#typesmapping)] and [[py-docs-tuples](https://docs.python.org/3/tutorial/datastructures.html#tut-tuples)]."
   ]
  },
  {
   "cell_type": "code",
   "execution_count": 6,
   "id": "crude-processing",
   "metadata": {},
   "outputs": [
    {
     "name": "stdout",
     "output_type": "stream",
     "text": [
      "-- Do you have any Limburger ?\n",
      "-- I'm sorry, we're all out of Limburger\n",
      "It's very runny, sir.\n",
      "It's really very, VERY runny, sir.\n",
      "----------------------------------------\n",
      "shopkeeper : Michael Palin\n",
      "client : John Cleese\n",
      "sketch : Cheese Shop Sketch\n"
     ]
    }
   ],
   "source": [
    "cheeseshop(\"Limburger\", \"It's very runny, sir.\",\n",
    "           \"It's really very, VERY runny, sir.\",\n",
    "           shopkeeper=\"Michael Palin\",\n",
    "           client=\"John Cleese\",\n",
    "           sketch=\"Cheese Shop Sketch\")"
   ]
  },
  {
   "cell_type": "markdown",
   "id": "thousand-premises",
   "metadata": {},
   "source": [
    "`[?]` Can you think of function that would require these features? <br>\n",
    "`[?]` Why not use an `array` type instead of `tuple` for `*arguments`?  <br>\n",
    "`[>]` Because `tuples` immutable, which is handy here."
   ]
  },
  {
   "cell_type": "markdown",
   "id": "genuine-instruction",
   "metadata": {},
   "source": [
    "__Special Parameters__\n",
    "\n",
    "`[?]` What additional notation can you use when defining a function?  \n",
    "`[>]` For the moment you can use `/` to say that to the left are positional arguments, and the right are position or keyword arguments, and `*` to the right are keyword only arguments. `def f(pos1, pos2, /, pos_or_kwd, *, kwd1, kwd2)`\n",
    "\n",
    "`[?]` Why would you use the special parameters?  \n",
    "`[>]` To force the user of the function to specify what parameters are positional or belong to a keyword. Without them, an argument can be both positional or a keyword."
   ]
  },
  {
   "cell_type": "code",
   "execution_count": 9,
   "id": "resistant-acceptance",
   "metadata": {},
   "outputs": [],
   "source": [
    "def standard_arg(arg):\n",
    "    print(arg)\n",
    "    \n",
    "def pos_only_arg(arg, /):\n",
    "    print(arg)\n",
    "\n",
    "def kwd_only_arg(*, arg):\n",
    "    print(arg)\n",
    "    \n",
    "def combined_example(pos_only, /, standard, *, kwd_only):\n",
    "    print(pos_only, standard, kwd_only)"
   ]
  },
  {
   "cell_type": "code",
   "execution_count": 11,
   "id": "controlling-honduras",
   "metadata": {},
   "outputs": [
    {
     "name": "stdout",
     "output_type": "stream",
     "text": [
      "5\n"
     ]
    }
   ],
   "source": [
    "pos_only_arg(5)"
   ]
  },
  {
   "cell_type": "code",
   "execution_count": 13,
   "id": "selective-twist",
   "metadata": {},
   "outputs": [
    {
     "name": "stdout",
     "output_type": "stream",
     "text": [
      "5\n"
     ]
    }
   ],
   "source": [
    "kwd_only_arg(arg=5)"
   ]
  },
  {
   "cell_type": "code",
   "execution_count": 15,
   "id": "dying-series",
   "metadata": {},
   "outputs": [
    {
     "name": "stdout",
     "output_type": "stream",
     "text": [
      "5 5 6\n"
     ]
    }
   ],
   "source": [
    "combined_example(5, standard=5, kwd_only=6)"
   ]
  },
  {
   "cell_type": "code",
   "execution_count": 16,
   "id": "advised-student",
   "metadata": {},
   "outputs": [
    {
     "name": "stdout",
     "output_type": "stream",
     "text": [
      "5 5 6\n"
     ]
    }
   ],
   "source": [
    "combined_example(5, 5, kwd_only=6)"
   ]
  },
  {
   "cell_type": "markdown",
   "id": "canadian-techno",
   "metadata": {},
   "source": [
    "`[ ]` explain the error messages "
   ]
  },
  {
   "cell_type": "code",
   "execution_count": 17,
   "id": "eastern-personality",
   "metadata": {},
   "outputs": [
    {
     "ename": "TypeError",
     "evalue": "kwd_only_arg() takes 0 positional arguments but 1 was given",
     "output_type": "error",
     "traceback": [
      "\u001b[0;31m---------------------------------------------------------------------------\u001b[0m",
      "\u001b[0;31mTypeError\u001b[0m                                 Traceback (most recent call last)",
      "\u001b[0;32m<ipython-input-17-9730b662942f>\u001b[0m in \u001b[0;36m<module>\u001b[0;34m\u001b[0m\n\u001b[0;32m----> 1\u001b[0;31m \u001b[0mkwd_only_arg\u001b[0m\u001b[0;34m(\u001b[0m\u001b[0;36m5\u001b[0m\u001b[0;34m)\u001b[0m\u001b[0;34m\u001b[0m\u001b[0;34m\u001b[0m\u001b[0m\n\u001b[0m",
      "\u001b[0;31mTypeError\u001b[0m: kwd_only_arg() takes 0 positional arguments but 1 was given"
     ]
    }
   ],
   "source": [
    "kwd_only_arg(5)"
   ]
  },
  {
   "cell_type": "code",
   "execution_count": 18,
   "id": "apparent-production",
   "metadata": {},
   "outputs": [
    {
     "ename": "SyntaxError",
     "evalue": "positional argument follows keyword argument (<ipython-input-18-8f77133fc55e>, line 1)",
     "output_type": "error",
     "traceback": [
      "\u001b[0;36m  File \u001b[0;32m\"<ipython-input-18-8f77133fc55e>\"\u001b[0;36m, line \u001b[0;32m1\u001b[0m\n\u001b[0;31m    combined_example(kwd_only=6, 5, 5)\u001b[0m\n\u001b[0m                                     ^\u001b[0m\n\u001b[0;31mSyntaxError\u001b[0m\u001b[0;31m:\u001b[0m positional argument follows keyword argument\n"
     ]
    }
   ],
   "source": [
    "combined_example(kwd_only=6, 5, 5)"
   ]
  },
  {
   "cell_type": "code",
   "execution_count": 20,
   "id": "hired-advertising",
   "metadata": {},
   "outputs": [
    {
     "name": "stdout",
     "output_type": "stream",
     "text": [
      "6 5 5\n"
     ]
    }
   ],
   "source": [
    "combined_example(pos_only=6, 5, kwd_only=5)"
   ]
  },
  {
   "cell_type": "markdown",
   "id": "figured-afternoon",
   "metadata": {},
   "source": [
    "This notation can be used to prevent potential collision between function parameter names and keyword dictionaries"
   ]
  },
  {
   "cell_type": "code",
   "execution_count": 25,
   "id": "destroyed-scoop",
   "metadata": {},
   "outputs": [],
   "source": [
    "def foo(name, **kwds):\n",
    "    return 'name' in kwds"
   ]
  },
  {
   "cell_type": "code",
   "execution_count": 28,
   "id": "aboriginal-therapy",
   "metadata": {},
   "outputs": [
    {
     "ename": "TypeError",
     "evalue": "foo() got multiple values for argument 'name'",
     "output_type": "error",
     "traceback": [
      "\u001b[0;31m---------------------------------------------------------------------------\u001b[0m",
      "\u001b[0;31mTypeError\u001b[0m                                 Traceback (most recent call last)",
      "\u001b[0;32m<ipython-input-28-4973700be595>\u001b[0m in \u001b[0;36m<module>\u001b[0;34m\u001b[0m\n\u001b[0;32m----> 1\u001b[0;31m \u001b[0mfoo\u001b[0m\u001b[0;34m(\u001b[0m\u001b[0;36m1\u001b[0m\u001b[0;34m,\u001b[0m \u001b[0;34m**\u001b[0m\u001b[0;34m{\u001b[0m\u001b[0;34m'name'\u001b[0m\u001b[0;34m:\u001b[0m\u001b[0;36m2\u001b[0m\u001b[0;34m}\u001b[0m\u001b[0;34m)\u001b[0m\u001b[0;34m\u001b[0m\u001b[0;34m\u001b[0m\u001b[0m\n\u001b[0m",
      "\u001b[0;31mTypeError\u001b[0m: foo() got multiple values for argument 'name'"
     ]
    }
   ],
   "source": [
    "foo(1, **{'name':2})"
   ]
  },
  {
   "cell_type": "markdown",
   "id": "perceived-lincoln",
   "metadata": {},
   "source": [
    "Here what you are essentially sending in is: `foo(name=1, name=2)`"
   ]
  },
  {
   "cell_type": "code",
   "execution_count": 32,
   "id": "royal-johnson",
   "metadata": {},
   "outputs": [],
   "source": [
    "def foo(name, /, **kwds):\n",
    "    return 'name' in kwds"
   ]
  },
  {
   "cell_type": "code",
   "execution_count": 30,
   "id": "resident-hierarchy",
   "metadata": {},
   "outputs": [
    {
     "data": {
      "text/plain": [
       "True"
      ]
     },
     "execution_count": 30,
     "metadata": {},
     "output_type": "execute_result"
    }
   ],
   "source": [
    "foo(1, **{'name':2})"
   ]
  },
  {
   "cell_type": "markdown",
   "id": "stunning-genre",
   "metadata": {},
   "source": [
    "`[?]` For function safety, why you want to use a `/` between positional and keyword dictionary inputs?  \n",
    "`[>]` To prevent a potential clash in the names."
   ]
  },
  {
   "cell_type": "markdown",
   "id": "dated-integral",
   "metadata": {},
   "source": [
    "`[?]` Why does the following function definition fail?"
   ]
  },
  {
   "cell_type": "code",
   "execution_count": 33,
   "id": "velvet-render",
   "metadata": {},
   "outputs": [
    {
     "ename": "SyntaxError",
     "evalue": "named arguments must follow bare * (<ipython-input-33-65c69df2fe53>, line 1)",
     "output_type": "error",
     "traceback": [
      "\u001b[0;36m  File \u001b[0;32m\"<ipython-input-33-65c69df2fe53>\"\u001b[0;36m, line \u001b[0;32m1\u001b[0m\n\u001b[0;31m    def foo(name, *, **kwds):\u001b[0m\n\u001b[0m                     ^\u001b[0m\n\u001b[0;31mSyntaxError\u001b[0m\u001b[0;31m:\u001b[0m named arguments must follow bare *\n"
     ]
    }
   ],
   "source": [
    "def foo(name, *, **kwds):\n",
    "    return 'name' in kwds"
   ]
  },
  {
   "cell_type": "markdown",
   "id": "rational-baghdad",
   "metadata": {},
   "source": [
    "`[>]` Because `*` is expecting a keyword argument straight after it, not a dictionary of keywords"
   ]
  },
  {
   "cell_type": "code",
   "execution_count": 5,
   "id": "patient-plane",
   "metadata": {},
   "outputs": [],
   "source": [
    "def foo(name, *, pos, **kwds):\n",
    "    return 'name' in kwds"
   ]
  },
  {
   "cell_type": "code",
   "execution_count": 6,
   "id": "automatic-truck",
   "metadata": {},
   "outputs": [
    {
     "data": {
      "text/plain": [
       "False"
      ]
     },
     "execution_count": 6,
     "metadata": {},
     "output_type": "execute_result"
    }
   ],
   "source": [
    "foo('Ani', pos=5, **{'j':6, 'b':7})"
   ]
  },
  {
   "cell_type": "markdown",
   "id": "bottom-bacon",
   "metadata": {},
   "source": [
    "`[?]` Which notation `*` or `/` can be removed without breaking the function?  "
   ]
  },
  {
   "cell_type": "code",
   "execution_count": 8,
   "id": "single-variance",
   "metadata": {},
   "outputs": [],
   "source": [
    "def foo(name, /, *, pos, **kwds):\n",
    "    return 'name' in kwds"
   ]
  },
  {
   "cell_type": "code",
   "execution_count": 9,
   "id": "binary-feelings",
   "metadata": {},
   "outputs": [
    {
     "data": {
      "text/plain": [
       "True"
      ]
     },
     "execution_count": 9,
     "metadata": {},
     "output_type": "execute_result"
    }
   ],
   "source": [
    "foo('Lemi', pos=8, **{'name':9, 'c':9})"
   ]
  },
  {
   "cell_type": "markdown",
   "id": "incorporated-morrison",
   "metadata": {},
   "source": [
    "`[>]` Both `*` and `/` can be used but `*` forces the user to refer to the `pos` arg by its keyword."
   ]
  },
  {
   "cell_type": "code",
   "execution_count": 12,
   "id": "alone-yield",
   "metadata": {},
   "outputs": [
    {
     "ename": "TypeError",
     "evalue": "foo() takes 1 positional argument but 2 were given",
     "output_type": "error",
     "traceback": [
      "\u001b[0;31m---------------------------------------------------------------------------\u001b[0m",
      "\u001b[0;31mTypeError\u001b[0m                                 Traceback (most recent call last)",
      "\u001b[0;32m<ipython-input-12-837ecb38ce25>\u001b[0m in \u001b[0;36m<module>\u001b[0;34m\u001b[0m\n\u001b[0;32m----> 1\u001b[0;31m \u001b[0mfoo\u001b[0m\u001b[0;34m(\u001b[0m\u001b[0;34m'Lemi'\u001b[0m\u001b[0;34m,\u001b[0m \u001b[0;36m8\u001b[0m\u001b[0;34m,\u001b[0m \u001b[0;34m**\u001b[0m\u001b[0;34m{\u001b[0m\u001b[0;34m'name'\u001b[0m\u001b[0;34m:\u001b[0m\u001b[0;36m9\u001b[0m\u001b[0;34m,\u001b[0m \u001b[0;34m'c'\u001b[0m\u001b[0;34m:\u001b[0m\u001b[0;36m9\u001b[0m\u001b[0;34m}\u001b[0m\u001b[0;34m)\u001b[0m\u001b[0;34m\u001b[0m\u001b[0;34m\u001b[0m\u001b[0m\n\u001b[0m",
      "\u001b[0;31mTypeError\u001b[0m: foo() takes 1 positional argument but 2 were given"
     ]
    }
   ],
   "source": [
    "foo('Lemi', 8, **{'name':9, 'c':9})"
   ]
  },
  {
   "cell_type": "markdown",
   "id": "manual-fellow",
   "metadata": {},
   "source": [
    "Using the `/` can give additional flexibiity but with a potential name clash if `**kwds` also has a `pos` keyword."
   ]
  },
  {
   "cell_type": "code",
   "execution_count": 13,
   "id": "backed-grounds",
   "metadata": {},
   "outputs": [],
   "source": [
    "def foo(name, /, pos=8, **kwds):\n",
    "    return 'name' in kwds"
   ]
  },
  {
   "cell_type": "code",
   "execution_count": 17,
   "id": "handed-saturn",
   "metadata": {},
   "outputs": [
    {
     "data": {
      "text/plain": [
       "True"
      ]
     },
     "execution_count": 17,
     "metadata": {},
     "output_type": "execute_result"
    }
   ],
   "source": [
    "foo('Lemi', 8, **{'name':9, 'c':9})"
   ]
  },
  {
   "cell_type": "code",
   "execution_count": 15,
   "id": "timely-dodge",
   "metadata": {},
   "outputs": [
    {
     "ename": "TypeError",
     "evalue": "foo() got multiple values for argument 'pos'",
     "output_type": "error",
     "traceback": [
      "\u001b[0;31m---------------------------------------------------------------------------\u001b[0m",
      "\u001b[0;31mTypeError\u001b[0m                                 Traceback (most recent call last)",
      "\u001b[0;32m<ipython-input-15-fd67b5f81660>\u001b[0m in \u001b[0;36m<module>\u001b[0;34m\u001b[0m\n\u001b[0;32m----> 1\u001b[0;31m \u001b[0mfoo\u001b[0m\u001b[0;34m(\u001b[0m\u001b[0;34m'Lemi'\u001b[0m\u001b[0;34m,\u001b[0m \u001b[0;36m8\u001b[0m\u001b[0;34m,\u001b[0m \u001b[0;34m**\u001b[0m\u001b[0;34m{\u001b[0m\u001b[0;34m'pos'\u001b[0m\u001b[0;34m:\u001b[0m\u001b[0;36m9\u001b[0m\u001b[0;34m,\u001b[0m \u001b[0;34m'c'\u001b[0m\u001b[0;34m:\u001b[0m\u001b[0;36m9\u001b[0m\u001b[0;34m}\u001b[0m\u001b[0;34m)\u001b[0m\u001b[0;34m\u001b[0m\u001b[0;34m\u001b[0m\u001b[0m\n\u001b[0m",
      "\u001b[0;31mTypeError\u001b[0m: foo() got multiple values for argument 'pos'"
     ]
    }
   ],
   "source": [
    "foo('Lemi', 8, **{'pos':9, 'c':9})"
   ]
  },
  {
   "cell_type": "markdown",
   "id": "smoking-basis",
   "metadata": {},
   "source": [
    "`[?]` Must `**kwds` Keyword dictionaries must always be the last terms in the function?  \n",
    "`[>]` It must be a the last and only term as it enables an opportunity for the user of the function ot add additional keyword parameters they would other not be able to - without modifying the function itself."
   ]
  },
  {
   "cell_type": "code",
   "execution_count": 2,
   "id": "sized-somalia",
   "metadata": {},
   "outputs": [
    {
     "ename": "SyntaxError",
     "evalue": "invalid syntax (<ipython-input-2-8de7246c7665>, line 1)",
     "output_type": "error",
     "traceback": [
      "\u001b[0;36m  File \u001b[0;32m\"<ipython-input-2-8de7246c7665>\"\u001b[0;36m, line \u001b[0;32m1\u001b[0m\n\u001b[0;31m    def foo(**kwds, word):\u001b[0m\n\u001b[0m                    ^\u001b[0m\n\u001b[0;31mSyntaxError\u001b[0m\u001b[0;31m:\u001b[0m invalid syntax\n"
     ]
    }
   ],
   "source": [
    "def foo(**kwds, word):\n",
    "    return 'name' in kwds"
   ]
  },
  {
   "cell_type": "markdown",
   "id": "forty-detroit",
   "metadata": {},
   "source": [
    "You can still send in additional keywords after the `pos` keyword which is referred to in the positional form."
   ]
  },
  {
   "cell_type": "code",
   "execution_count": 19,
   "id": "instrumental-controversy",
   "metadata": {},
   "outputs": [
    {
     "data": {
      "text/plain": [
       "True"
      ]
     },
     "execution_count": 19,
     "metadata": {},
     "output_type": "execute_result"
    }
   ],
   "source": [
    "foo('Lemi', 8, name=9, c=9)"
   ]
  },
  {
   "cell_type": "markdown",
   "id": "choice-energy",
   "metadata": {},
   "source": [
    "`[?]` How do you specify a dictionary belongs to the keyword dictionary parameter of the function?  \n",
    "`[>]` Use `**` to mark the dictionary to be the keyword dictionary parameter."
   ]
  },
  {
   "cell_type": "markdown",
   "id": "interim-atlas",
   "metadata": {},
   "source": [
    "`[?]` Why are some of the basic run in parameter definitions when defining a function?  \n",
    "`[>]` Positional argument then Keyword Arguments, Tuples, Keyword Dictinonaries, you can swap that order as then Python has no way of guaranteeing a match between the arguments sent in and the parameters."
   ]
  },
  {
   "cell_type": "markdown",
   "id": "clean-password",
   "metadata": {},
   "source": [
    "`[?]` Can you have multiple Keywords Dictionary parameters in a function?  \n",
    "`[>]` No, likely because of clashes. The only way to do it is to send two normal arguments as only one can be a keyword dictionary. [[so-two-kwd-arg](https://stackoverflow.com/questions/24355751/pass-multiple-dictionaries-to-a-function-as-an-argument)]."
   ]
  },
  {
   "cell_type": "code",
   "execution_count": 1,
   "id": "mental-enlargement",
   "metadata": {},
   "outputs": [
    {
     "ename": "SyntaxError",
     "evalue": "invalid syntax (<ipython-input-1-272b722d0e92>, line 1)",
     "output_type": "error",
     "traceback": [
      "\u001b[0;36m  File \u001b[0;32m\"<ipython-input-1-272b722d0e92>\"\u001b[0;36m, line \u001b[0;32m1\u001b[0m\n\u001b[0;31m    def foo(word, **kwd1, **kwd2):\u001b[0m\n\u001b[0m                          ^\u001b[0m\n\u001b[0;31mSyntaxError\u001b[0m\u001b[0;31m:\u001b[0m invalid syntax\n"
     ]
    }
   ],
   "source": [
    "def foo(word, **kwd1, **kwd2):\n",
    "    print(word)\n",
    "    print('name' in kwd1)\n",
    "    print('person' in kwd2)"
   ]
  },
  {
   "cell_type": "markdown",
   "id": "whole-funeral",
   "metadata": {},
   "source": [
    "`[?]` Do the rules for `**kwds` apply for `*args` too?"
   ]
  },
  {
   "cell_type": "markdown",
   "id": "needed-husband",
   "metadata": {},
   "source": [
    "`[?]` What makes positional arguments useful?  \n",
    "`[>]` Positional arguments don't have any meaning which means they are easier to use and the user can just write the values in the order defined in the docs. It also helps enforce the order whilst not making the names of the parameters available. A positional argument could be seen as the essential part of the function, like the `string` input of the `print()` function.  "
   ]
  },
  {
   "cell_type": "markdown",
   "id": "thousand-component",
   "metadata": {},
   "source": [
    "`[?]` What makes keyword arguments so useful?  \n",
    "`[>]` Keyword argument ensure user is used specifying the terms and this means less errors are made. Making and forcing the usage of the names of the parameters gives the user more meaning over the functionality available. This is useful when there are options which no obvious order to them for example."
   ]
  },
  {
   "cell_type": "markdown",
   "id": "earlier-battlefield",
   "metadata": {},
   "source": [
    "`[?]` What kind of argument should you use for APIs?  \n",
    "`[>]` Best to use positional argument to prevent breaking changes if the name of the parameter is changed.  \n",
    "`[>]` That said, if the name of the parameter is changed it might also change meaning of the parameter so the change would be breaking anyway.  \n",
    "`[?]` Find an example where API change would support and no support positional-only arguments. Likely in CLI app development.  "
   ]
  },
  {
   "cell_type": "markdown",
   "id": "overhead-naples",
   "metadata": {},
   "source": [
    "__Arbitrary Argument Lists__"
   ]
  },
  {
   "cell_type": "markdown",
   "id": "breeding-effectiveness",
   "metadata": {},
   "source": [
    "`[?]` What are `*arg` and `**kwds` referred to in functions?  \n",
    "`[>]` variadic arguments.\n",
    "\n",
    "`[?]` When are are they evaluated?  \n",
    "`[>]` At function call but only once all the positional and keyword arguments are satisfied.  "
   ]
  },
  {
   "cell_type": "markdown",
   "id": "metallic-wales",
   "metadata": {},
   "source": [
    "`[?]` Can arguments be declared after `*arg`?  <br>\n",
    "`[>]` Yes but only keyword arguments.  "
   ]
  },
  {
   "cell_type": "code",
   "execution_count": 40,
   "id": "wicked-malaysia",
   "metadata": {},
   "outputs": [],
   "source": [
    "def concat(*arg, sep='/'):\n",
    "    return sep.join(arg)"
   ]
  },
  {
   "cell_type": "code",
   "execution_count": 41,
   "id": "fifteen-cameroon",
   "metadata": {},
   "outputs": [
    {
     "data": {
      "text/plain": [
       "'folders/file'"
      ]
     },
     "execution_count": 41,
     "metadata": {},
     "output_type": "execute_result"
    }
   ],
   "source": [
    "concat(\"folders\",\"file\")"
   ]
  },
  {
   "cell_type": "code",
   "execution_count": 42,
   "id": "obvious-affiliate",
   "metadata": {},
   "outputs": [
    {
     "data": {
      "text/plain": [
       "'what.three.words'"
      ]
     },
     "execution_count": 42,
     "metadata": {},
     "output_type": "execute_result"
    }
   ],
   "source": [
    "concat(\"what\", \"three\", \"words\", sep='.')"
   ]
  },
  {
   "cell_type": "markdown",
   "id": "fewer-pioneer",
   "metadata": {},
   "source": [
    "`[?]` Can arguments be delcared after `**kwds`?  <br>\n",
    "`[>]` No, it must be the last one."
   ]
  },
  {
   "cell_type": "code",
   "execution_count": 54,
   "id": "adjustable-abraham",
   "metadata": {},
   "outputs": [
    {
     "ename": "SyntaxError",
     "evalue": "invalid syntax (<ipython-input-54-742e0c7d0632>, line 1)",
     "output_type": "error",
     "traceback": [
      "\u001b[0;36m  File \u001b[0;32m\"<ipython-input-54-742e0c7d0632>\"\u001b[0;36m, line \u001b[0;32m1\u001b[0m\n\u001b[0;31m    def keys(**kwds, end='\\n'):\u001b[0m\n\u001b[0m                     ^\u001b[0m\n\u001b[0;31mSyntaxError\u001b[0m\u001b[0;31m:\u001b[0m invalid syntax\n"
     ]
    }
   ],
   "source": [
    "def keys(**kwds, end='\\n'):\n",
    "    for k in kwds:\n",
    "        print(k,kwds[k], end)"
   ]
  },
  {
   "cell_type": "code",
   "execution_count": 55,
   "id": "utility-tsunami",
   "metadata": {},
   "outputs": [],
   "source": [
    "def keys(end='\\n', **kwds):\n",
    "    for k in kwds:\n",
    "        print(k, kwds[k], end)"
   ]
  },
  {
   "cell_type": "code",
   "execution_count": 56,
   "id": "piano-health",
   "metadata": {},
   "outputs": [
    {
     "name": "stdout",
     "output_type": "stream",
     "text": [
      "word 1 \n",
      "\n",
      "print 2 \n",
      "\n"
     ]
    }
   ],
   "source": [
    "keys(word=1, print=2)"
   ]
  },
  {
   "cell_type": "markdown",
   "id": "89b68780-7165-42b0-8333-d4bdef703a9b",
   "metadata": {},
   "source": [
    "### Passing around a function"
   ]
  },
  {
   "cell_type": "code",
   "execution_count": 44,
   "id": "25148dac-8862-450c-913f-0acb45003618",
   "metadata": {},
   "outputs": [],
   "source": [
    "def add(a, b):\n",
    "    \n",
    "    try:\n",
    "        return a + b\n",
    "    except TypeError as err:\n",
    "        print(f\"Type Error: ensure inputs are of integer / double type -- Message: {err}\")\n",
    "    except Exception as err:\n",
    "        print(f\"Unexected Error Occured: {err}\")"
   ]
  },
  {
   "cell_type": "code",
   "execution_count": 45,
   "id": "f635fa79-0547-4f4c-88d1-995393acfab8",
   "metadata": {},
   "outputs": [
    {
     "data": {
      "text/plain": [
       "5"
      ]
     },
     "execution_count": 45,
     "metadata": {},
     "output_type": "execute_result"
    }
   ],
   "source": [
    "add(1, 4)\n",
    "# 5"
   ]
  },
  {
   "cell_type": "code",
   "execution_count": 46,
   "id": "be07995c-2a6f-4a3a-807f-81027968e205",
   "metadata": {},
   "outputs": [
    {
     "name": "stdout",
     "output_type": "stream",
     "text": [
      "Type Error: ensure inputs are of integer / double type -- Message: unsupported operand type(s) for +: 'int' and 'str'\n"
     ]
    }
   ],
   "source": [
    "add(4, \"b\")"
   ]
  },
  {
   "cell_type": "markdown",
   "id": "1c85e9d6-0a5e-49c1-9d86-7e176a80c97a",
   "metadata": {},
   "source": [
    "Lets define a function called addition which one may call"
   ]
  },
  {
   "cell_type": "code",
   "execution_count": 47,
   "id": "0d54b48a-d751-485e-b381-d6f92fe2374c",
   "metadata": {},
   "outputs": [],
   "source": [
    "addition = add"
   ]
  },
  {
   "cell_type": "code",
   "execution_count": 48,
   "id": "7019de7b-59dd-45ba-8a37-5e6d14211efc",
   "metadata": {},
   "outputs": [
    {
     "data": {
      "text/plain": [
       "6"
      ]
     },
     "execution_count": 48,
     "metadata": {},
     "output_type": "execute_result"
    }
   ],
   "source": [
    "addition(1, 5)"
   ]
  },
  {
   "cell_type": "code",
   "execution_count": 49,
   "id": "14ccd7f9-dddf-40f8-bae0-b1db34ad3d76",
   "metadata": {},
   "outputs": [
    {
     "name": "stdout",
     "output_type": "stream",
     "text": [
      "Type Error: ensure inputs are of integer / double type -- Message: can only concatenate str (not \"int\") to str\n"
     ]
    }
   ],
   "source": [
    "addition('b', 3)"
   ]
  },
  {
   "cell_type": "code",
   "execution_count": 50,
   "id": "bb898d43-270e-4b16-ad83-eb6a2e474f3a",
   "metadata": {},
   "outputs": [],
   "source": [
    "def annotate(add, a, b):\n",
    "    \n",
    "    try:\n",
    "        return print(f\"Annotate result {add(a, b)}\")\n",
    "    except Exception as err:\n",
    "        print(f\"Unexpected Error: {err}\")"
   ]
  },
  {
   "cell_type": "code",
   "execution_count": 51,
   "id": "1fe1cca3-a80b-4e8b-ac7c-d0eabcc73c56",
   "metadata": {},
   "outputs": [
    {
     "name": "stdout",
     "output_type": "stream",
     "text": [
      "Annotate result 9\n"
     ]
    }
   ],
   "source": [
    "annotate(add, 4, 5)"
   ]
  },
  {
   "cell_type": "code",
   "execution_count": 52,
   "id": "1905a9d1-464c-4aa9-828b-3833746b6d9c",
   "metadata": {},
   "outputs": [
    {
     "data": {
      "text/plain": [
       "4"
      ]
     },
     "execution_count": 52,
     "metadata": {},
     "output_type": "execute_result"
    }
   ],
   "source": [
    "addition(1, 3)"
   ]
  },
  {
   "cell_type": "markdown",
   "id": "096dac51-32f6-4469-8d4e-e449111483ff",
   "metadata": {},
   "source": [
    "This feature nicely takes one to annotations using the `@` symbol"
   ]
  },
  {
   "cell_type": "markdown",
   "id": "uniform-consensus",
   "metadata": {},
   "source": [
    "### Style Guide\n",
    "\n",
    "[[pep-8](https://www.python.org/dev/peps/pep-0008/)] Style Guide for Python Code -- [trace](https://stackoverflow.com/questions/3298464/how-can-i-learn-more-about-python-s-internals)"
   ]
  }
 ],
 "metadata": {
  "jupytext": {
   "formats": "ipynb,md"
  },
  "kernelspec": {
   "display_name": "Python 3 (ipykernel)",
   "language": "python",
   "name": "python3"
  },
  "language_info": {
   "codemirror_mode": {
    "name": "ipython",
    "version": 3
   },
   "file_extension": ".py",
   "mimetype": "text/x-python",
   "name": "python",
   "nbconvert_exporter": "python",
   "pygments_lexer": "ipython3",
   "version": "3.9.2"
  }
 },
 "nbformat": 4,
 "nbformat_minor": 5
}
