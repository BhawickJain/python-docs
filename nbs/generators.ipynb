{
 "cells": [
  {
   "cell_type": "markdown",
   "id": "a8d7fbbf",
   "metadata": {},
   "source": [
    "## Simple Generators\n",
    "\n",
    "[[pep-255](https://www.python.org/dev/peps/pep-0255/)] PEP 255 -- Simple Generators"
   ]
  },
  {
   "cell_type": "code",
   "execution_count": null,
   "id": "6f979f3a",
   "metadata": {},
   "outputs": [],
   "source": []
  }
 ],
 "metadata": {
  "jupytext": {
   "formats": "ipynb,Rmd,md",
   "text_representation": {
    "extension": ".Rmd",
    "format_name": "rmarkdown",
    "format_version": "1.2",
    "jupytext_version": "1.11.1"
   }
  },
  "kernelspec": {
   "display_name": "Python 3 (ipykernel)",
   "language": "python",
   "name": "python3"
  },
  "language_info": {
   "codemirror_mode": {
    "name": "ipython",
    "version": 3
   },
   "file_extension": ".py",
   "mimetype": "text/x-python",
   "name": "python",
   "nbconvert_exporter": "python",
   "pygments_lexer": "ipython3",
   "version": "3.9.2"
  }
 },
 "nbformat": 4,
 "nbformat_minor": 5
}
