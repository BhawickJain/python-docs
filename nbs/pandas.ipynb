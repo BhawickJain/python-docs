{
 "cells": [
  {
   "cell_type": "markdown",
   "id": "0ef7a5f6",
   "metadata": {},
   "source": [
    "## Pandas"
   ]
  },
  {
   "cell_type": "code",
   "execution_count": null,
   "id": "417ea7f4",
   "metadata": {},
   "outputs": [],
   "source": [
    "import pandas as pd\n",
    "pd.__version__ #1.3.1"
   ]
  },
  {
   "cell_type": "markdown",
   "id": "ce6a08bd",
   "metadata": {},
   "source": [
    "### Slicing indexes of different datatypes"
   ]
  },
  {
   "cell_type": "code",
   "execution_count": null,
   "id": "d48b786e",
   "metadata": {},
   "outputs": [],
   "source": [
    "s = pd.Series(\n",
    "        data=[1.0, 2.0, 3.0, 4.0, 5.0],\n",
    "        index=['a', 'b', 'c', 'd', 'e'])\n",
    "\n",
    "s\n",
    "# a    1.0\n",
    "# b    2.0\n",
    "# c    3.0\n",
    "# d    4.0\n",
    "# e    5.0\n",
    "# dtype: float64"
   ]
  },
  {
   "cell_type": "code",
   "execution_count": null,
   "id": "d4aff417",
   "metadata": {},
   "outputs": [],
   "source": [
    "s.dtype\n",
    "# dtype('float64')"
   ]
  },
  {
   "cell_type": "code",
   "execution_count": null,
   "id": "35caa2b8",
   "metadata": {},
   "outputs": [],
   "source": [
    "s.index\n",
    "# Index(['a', 'b', 'c', 'd', 'e'], dtype='object')"
   ]
  },
  {
   "cell_type": "code",
   "execution_count": null,
   "id": "60e53031",
   "metadata": {},
   "outputs": [],
   "source": [
    "s['c':'e']\n",
    "# c    3.0\n",
    "# d    4.0\n",
    "# e    5.0\n",
    "# dtype: float64"
   ]
  },
  {
   "cell_type": "code",
   "execution_count": null,
   "id": "10b1c443",
   "metadata": {},
   "outputs": [],
   "source": [
    "s[2:4]\n",
    "# c    3.0\n",
    "# d    4.0\n",
    "# dtype: float64"
   ]
  },
  {
   "cell_type": "code",
   "execution_count": null,
   "id": "755aa27f",
   "metadata": {},
   "outputs": [],
   "source": [
    "s.iloc[2:4]\n",
    "# c    3.0\n",
    "# d    4.0\n",
    "# dtype: float64"
   ]
  },
  {
   "cell_type": "code",
   "execution_count": null,
   "id": "3c3f2282",
   "metadata": {},
   "outputs": [],
   "source": [
    "t = pd.Series(\n",
    "        data=[1.0, 2.0, 3.0, 4.0, 5.0],\n",
    "        index=pd.date_range('1995-12-30', periods=5))\n",
    "t\n",
    "# 1995-12-30    1.0\n",
    "# 1995-12-31    2.0\n",
    "# 1996-01-01    3.0\n",
    "# 1996-01-02    4.0\n",
    "# 1996-01-03    5.0\n",
    "# Freq: D, dtype: float64"
   ]
  },
  {
   "cell_type": "code",
   "execution_count": null,
   "id": "c96ca995",
   "metadata": {},
   "outputs": [],
   "source": [
    "t['1996-01-01':'1996-01-03']\n",
    "# 1996-01-01    3.0\n",
    "# 1996-01-02    4.0\n",
    "# 1996-01-03    5.0\n",
    "# Freq: D, dtype: float64"
   ]
  },
  {
   "cell_type": "code",
   "execution_count": null,
   "id": "b317b921",
   "metadata": {},
   "outputs": [],
   "source": [
    "t[2:4]\n",
    "# 1996-01-01    3.0\n",
    "# 1996-01-02    4.0\n",
    "# Freq: D, dtype: float64"
   ]
  },
  {
   "cell_type": "code",
   "execution_count": null,
   "id": "d4d525bf",
   "metadata": {},
   "outputs": [],
   "source": [
    "t.iloc[2:4]\n",
    "# 1996-01-01    3.0\n",
    "# 1996-01-02    4.0\n",
    "# Freq: D, dtype: float64"
   ]
  },
  {
   "cell_type": "markdown",
   "id": "a5ba6b23",
   "metadata": {},
   "source": [
    "`dataframe[start,end,stride]`  \n",
    "Slicing by index number gives standard NumPy / Python Array Slicing Behaviour. However, when referring to an Index that is of a different data type such an object or datatime it will include the `end` value as well."
   ]
  },
  {
   "cell_type": "markdown",
   "id": "e1ed5baa",
   "metadata": {},
   "source": [
    "### Handling Datetime Index Series"
   ]
  },
  {
   "cell_type": "code",
   "execution_count": null,
   "id": "12ab18fc",
   "metadata": {},
   "outputs": [],
   "source": [
    "# 1995-12-06 is missing\n",
    "dates = pd.date_range('1995-12-01', periods=5, freq='D')\n",
    "dates = dates.append(pd.date_range('1995-12-07', periods=5, freq='D'))\n",
    "values = [1,2,3,4,5,6,7,8,9,0]\n",
    "\n",
    "miss_dates = pd.Series(values, index=dates)\n",
    "\n",
    "miss_dates\n",
    "# 1995-12-01    1\n",
    "# 1995-12-02    2\n",
    "# 1995-12-03    3\n",
    "# 1995-12-04    4\n",
    "# 1995-12-05    5\n",
    "# 1995-12-07    6\n",
    "# 1995-12-08    7\n",
    "# 1995-12-09    8\n",
    "# 1995-12-10    9\n",
    "# 1995-12-11    0\n",
    "# dtype: int64"
   ]
  },
  {
   "cell_type": "markdown",
   "id": "787d8893",
   "metadata": {},
   "source": [
    "For what `'D'` means check out the frequency offset aliases [[pd-docs-freq_str](https://pandas.pydata.org/pandas-docs/stable/user_guide/timeseries.html#offset-aliases)]"
   ]
  },
  {
   "cell_type": "code",
   "execution_count": null,
   "id": "e3b38ef4",
   "metadata": {},
   "outputs": [],
   "source": [
    "miss_dates.asfreq('D')\n",
    "# 1995-12-01    1.0\n",
    "# 1995-12-02    2.0\n",
    "# 1995-12-03    3.0\n",
    "# 1995-12-04    4.0\n",
    "# 1995-12-05    5.0\n",
    "# 1995-12-06    NaN\n",
    "# 1995-12-07    6.0\n",
    "# 1995-12-08    7.0\n",
    "# 1995-12-09    8.0\n",
    "# 1995-12-10    9.0\n",
    "# 1995-12-11    0.0\n",
    "# Freq: D, dtype: float64"
   ]
  },
  {
   "cell_type": "markdown",
   "id": "80c139cd",
   "metadata": {},
   "source": [
    "You can infer dates too"
   ]
  },
  {
   "cell_type": "code",
   "execution_count": null,
   "id": "39204301",
   "metadata": {},
   "outputs": [],
   "source": [
    "miss_dates.asfreq(pd.infer_freq(miss_dates.index))\n",
    "# 1995-12-01    1.0\n",
    "# 1995-12-02    2.0\n",
    "# 1995-12-03    3.0\n",
    "# 1995-12-04    4.0\n",
    "# 1995-12-05    5.0\n",
    "# 1995-12-06    NaN\n",
    "# 1995-12-07    6.0\n",
    "# 1995-12-08    7.0\n",
    "# 1995-12-09    8.0\n",
    "# 1995-12-10    9.0\n",
    "# 1995-12-11    0.0\n",
    "# Freq: D, dtype: float64"
   ]
  },
  {
   "cell_type": "markdown",
   "id": "809f1bfe",
   "metadata": {},
   "source": [
    "### References\n"
   ]
  },
  {
   "cell_type": "markdown",
   "id": "0ee4b7de",
   "metadata": {},
   "source": [
    "AstroTech Series Slicing [[astrotech-pd-series-slicing](https://pandas.astrotech.io/series/slice.html)]"
   ]
  }
 ],
 "metadata": {
  "jupytext": {
   "cell_metadata_filter": "-all",
   "formats": "ipynb,md:myst",
   "main_language": "python",
   "notebook_metadata_filter": "-all",
   "text_representation": {
    "extension": ".md",
    "format_name": "markdown"
   }
  },
  "kernelspec": {
   "display_name": "Python 3 (ipykernel)",
   "language": "python",
   "name": "python3"
  },
  "language_info": {
   "codemirror_mode": {
    "name": "ipython",
    "version": 3
   },
   "file_extension": ".py",
   "mimetype": "text/x-python",
   "name": "python",
   "nbconvert_exporter": "python",
   "pygments_lexer": "ipython3",
   "version": "3.9.2"
  }
 },
 "nbformat": 4,
 "nbformat_minor": 5
}
